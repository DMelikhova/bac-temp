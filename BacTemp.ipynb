{
 "cells": [
  {
   "cell_type": "code",
   "execution_count": 1,
   "metadata": {},
   "outputs": [],
   "source": [
    "#BacDivePy\n",
    "from  bacdive.DSMZClient import DSMZ_login\n",
    "from  bacdive.DSMZClient import retrieve\n",
    "\n",
    "#utils\n",
    "import pandas as pd\n",
    "import numpy as np\n",
    "import xlrd\n",
    "import xlwt\n",
    "\n",
    "#plot style\n",
    "import matplotlib.pyplot as plt\n",
    "import seaborn as sns\n",
    "import re\n",
    "plt.style.use('ggplot')\n",
    "\n",
    "%matplotlib inline\n"
   ]
  },
  {
   "cell_type": "code",
   "execution_count": 2,
   "metadata": {},
   "outputs": [
    {
     "name": "stdout",
     "output_type": "stream",
     "text": [
      "BacDive password: ········\n"
     ]
    },
    {
     "data": {
      "text/plain": [
       "'dariamelihova@gmail.com'"
      ]
     },
     "execution_count": 2,
     "metadata": {},
     "output_type": "execute_result"
    }
   ],
   "source": [
    "DSMZ_login('dariamelihova@gmail.com')"
   ]
  },
  {
   "cell_type": "markdown",
   "metadata": {},
   "source": [
    "#### Getting all species"
   ]
  },
  {
   "cell_type": "code",
   "execution_count": 3,
   "metadata": {},
   "outputs": [
    {
     "data": {
      "text/html": [
       "<div>\n",
       "<style scoped>\n",
       "    .dataframe tbody tr th:only-of-type {\n",
       "        vertical-align: middle;\n",
       "    }\n",
       "\n",
       "    .dataframe tbody tr th {\n",
       "        vertical-align: top;\n",
       "    }\n",
       "\n",
       "    .dataframe thead th {\n",
       "        text-align: right;\n",
       "    }\n",
       "</style>\n",
       "<table border=\"1\" class=\"dataframe\">\n",
       "  <thead>\n",
       "    <tr style=\"text-align: right;\">\n",
       "      <th></th>\n",
       "      <th>Sequence ID</th>\n",
       "      <th>Phylum</th>\n",
       "      <th>Class</th>\n",
       "      <th>Family</th>\n",
       "      <th>Order</th>\n",
       "      <th>Genus</th>\n",
       "      <th>Species</th>\n",
       "    </tr>\n",
       "  </thead>\n",
       "  <tbody>\n",
       "    <tr>\n",
       "      <th>0</th>\n",
       "      <td>B0C6M6</td>\n",
       "      <td>Cyanobacteria</td>\n",
       "      <td>Cyanophyceae</td>\n",
       "      <td>Chroococcales</td>\n",
       "      <td>Chroococcales-unclassified</td>\n",
       "      <td>Acaryochloris</td>\n",
       "      <td>marina</td>\n",
       "    </tr>\n",
       "    <tr>\n",
       "      <th>1</th>\n",
       "      <td>A0A0D6N889</td>\n",
       "      <td>Proteobacteria</td>\n",
       "      <td>Alphaproteobacteria</td>\n",
       "      <td>Rhodospirillales</td>\n",
       "      <td>Acetobacteraceae</td>\n",
       "      <td>Acetobacter</td>\n",
       "      <td>indonesiensis</td>\n",
       "    </tr>\n",
       "    <tr>\n",
       "      <th>2</th>\n",
       "      <td>A0A0D6P985</td>\n",
       "      <td>Proteobacteria</td>\n",
       "      <td>Alphaproteobacteria</td>\n",
       "      <td>Rhodospirillales</td>\n",
       "      <td>Acetobacteraceae</td>\n",
       "      <td>Acidisphaera</td>\n",
       "      <td>rubrifaciens</td>\n",
       "    </tr>\n",
       "    <tr>\n",
       "      <th>3</th>\n",
       "      <td>A0A059ZR30</td>\n",
       "      <td>Proteobacteria</td>\n",
       "      <td>Gammaproteobacteria</td>\n",
       "      <td>Acidithiobacillales</td>\n",
       "      <td>Acidithiobacillaceae</td>\n",
       "      <td>Acidithiobacillus</td>\n",
       "      <td>caldus</td>\n",
       "    </tr>\n",
       "    <tr>\n",
       "      <th>4</th>\n",
       "      <td>B7JB43</td>\n",
       "      <td>Proteobacteria</td>\n",
       "      <td>Gammaproteobacteria</td>\n",
       "      <td>Acidithiobacillales</td>\n",
       "      <td>Acidithiobacillaceae</td>\n",
       "      <td>Acidithiobacillus</td>\n",
       "      <td>ferrooxidans</td>\n",
       "    </tr>\n",
       "  </tbody>\n",
       "</table>\n",
       "</div>"
      ],
      "text/plain": [
       "  Sequence ID          Phylum                Class               Family  \\\n",
       "0      B0C6M6   Cyanobacteria         Cyanophyceae        Chroococcales   \n",
       "1  A0A0D6N889  Proteobacteria  Alphaproteobacteria     Rhodospirillales   \n",
       "2  A0A0D6P985  Proteobacteria  Alphaproteobacteria     Rhodospirillales   \n",
       "3  A0A059ZR30  Proteobacteria  Gammaproteobacteria  Acidithiobacillales   \n",
       "4      B7JB43  Proteobacteria  Gammaproteobacteria  Acidithiobacillales   \n",
       "\n",
       "                        Order              Genus        Species  \n",
       "0  Chroococcales-unclassified      Acaryochloris         marina  \n",
       "1            Acetobacteraceae        Acetobacter  indonesiensis  \n",
       "2            Acetobacteraceae       Acidisphaera   rubrifaciens  \n",
       "3        Acidithiobacillaceae  Acidithiobacillus         caldus  \n",
       "4        Acidithiobacillaceae  Acidithiobacillus   ferrooxidans  "
      ]
     },
     "execution_count": 3,
     "metadata": {},
     "output_type": "execute_result"
    }
   ],
   "source": [
    "table = pd.read_excel('Data/Bacteria_LOV.xls', 0, usecols='B,O:T') #считали из файла нужные столбцы\n",
    "table.head()"
   ]
  },
  {
   "cell_type": "code",
   "execution_count": 4,
   "metadata": {},
   "outputs": [],
   "source": [
    "withoutsp = table[~table['Species'].str.contains(r'sp\\b')]"
   ]
  },
  {
   "cell_type": "code",
   "execution_count": 5,
   "metadata": {
    "scrolled": true
   },
   "outputs": [],
   "source": [
    "taxons = []\n",
    "for elem in list(withoutsp[['Genus', 'Species']].values):\n",
    "    taxons.append(str(elem[0])+' '+str(elem[1]))\n"
   ]
  },
  {
   "cell_type": "code",
   "execution_count": 6,
   "metadata": {},
   "outputs": [
    {
     "data": {
      "text/plain": [
       "782"
      ]
     },
     "execution_count": 6,
     "metadata": {},
     "output_type": "execute_result"
    }
   ],
   "source": [
    "len(taxons)"
   ]
  },
  {
   "cell_type": "code",
   "execution_count": 6,
   "metadata": {},
   "outputs": [],
   "source": [
    "taxons_ = list(set(taxons))\n",
    "taxons_\n",
    "taxons_ = [x for x in taxons_ if '-' not in x]\n"
   ]
  },
  {
   "cell_type": "code",
   "execution_count": 133,
   "metadata": {},
   "outputs": [
    {
     "name": "stdout",
     "output_type": "stream",
     "text": [
      "Retrieving information on: Marinobacter adhaerens\n"
     ]
    },
    {
     "name": "stderr",
     "output_type": "stream",
     "text": [
      "100%|██████████| 1/1 [00:00<00:00,  1.42it/s]\n"
     ]
    },
    {
     "name": "stdout",
     "output_type": "stream",
     "text": [
      "Retrieving information on: Asticcacaulis excentricus\n"
     ]
    },
    {
     "name": "stderr",
     "output_type": "stream",
     "text": [
      "100%|██████████| 1/1 [00:00<00:00,  1.79it/s]\n"
     ]
    },
    {
     "name": "stdout",
     "output_type": "stream",
     "text": [
      "Retrieving information on: Sphingobium ummariense\n"
     ]
    },
    {
     "name": "stderr",
     "output_type": "stream",
     "text": [
      "100%|██████████| 1/1 [00:00<00:00,  2.58it/s]\n"
     ]
    },
    {
     "name": "stdout",
     "output_type": "stream",
     "text": [
      "Retrieving information on: Tolypothrix campylonemoides\n"
     ]
    },
    {
     "name": "stderr",
     "output_type": "stream",
     "text": [
      "/home/dashik/anaconda3/lib/python3.6/site-packages/bacdive/DSMZClient.py:38: UserWarning: no information found for: Tolypothrix campylonemoides\n",
      "  warn('no information found for: '+str(search_value))\n"
     ]
    },
    {
     "name": "stdout",
     "output_type": "stream",
     "text": [
      "Retrieving information on: Pseudomonas moraviensis\n"
     ]
    },
    {
     "name": "stderr",
     "output_type": "stream",
     "text": [
      "100%|██████████| 1/1 [00:00<00:00,  2.70it/s]\n"
     ]
    },
    {
     "name": "stdout",
     "output_type": "stream",
     "text": [
      "Retrieving information on: Methylomicrobium alcaliphilum\n"
     ]
    },
    {
     "name": "stderr",
     "output_type": "stream",
     "text": [
      "100%|██████████| 1/1 [00:00<00:00,  2.52it/s]\n"
     ]
    },
    {
     "name": "stdout",
     "output_type": "stream",
     "text": [
      "Retrieving information on: Halothiobacillus neapolitanus\n"
     ]
    },
    {
     "name": "stderr",
     "output_type": "stream",
     "text": [
      "100%|██████████| 3/3 [00:01<00:00,  2.60it/s]\n"
     ]
    },
    {
     "name": "stdout",
     "output_type": "stream",
     "text": [
      "Retrieving information on: Vibrio alginolyticus\n"
     ]
    },
    {
     "name": "stderr",
     "output_type": "stream",
     "text": [
      "100%|██████████| 11/11 [00:04<00:00,  2.39it/s]\n"
     ]
    },
    {
     "name": "stdout",
     "output_type": "stream",
     "text": [
      "Retrieving information on: Pseudomonas brassicacearum\n"
     ]
    },
    {
     "name": "stderr",
     "output_type": "stream",
     "text": [
      "100%|██████████| 4/4 [00:01<00:00,  2.40it/s]\n"
     ]
    },
    {
     "name": "stdout",
     "output_type": "stream",
     "text": [
      "Retrieving information on: Roseivivax halodurans\n"
     ]
    },
    {
     "name": "stderr",
     "output_type": "stream",
     "text": [
      "100%|██████████| 1/1 [00:00<00:00,  2.61it/s]\n"
     ]
    },
    {
     "name": "stdout",
     "output_type": "stream",
     "text": [
      "Retrieving information on: Nitrosococcus halophilus\n"
     ]
    },
    {
     "name": "stderr",
     "output_type": "stream",
     "text": [
      "/home/dashik/anaconda3/lib/python3.6/site-packages/bacdive/DSMZClient.py:38: UserWarning: no information found for: Nitrosococcus halophilus\n",
      "  warn('no information found for: '+str(search_value))\n"
     ]
    },
    {
     "name": "stdout",
     "output_type": "stream",
     "text": [
      "Retrieving information on: Ochrobactrum intermedium\n"
     ]
    },
    {
     "name": "stderr",
     "output_type": "stream",
     "text": [
      "100%|██████████| 4/4 [00:01<00:00,  2.42it/s]\n"
     ]
    },
    {
     "name": "stdout",
     "output_type": "stream",
     "text": [
      "Retrieving information on: Ochrobactrum anthropi\n"
     ]
    },
    {
     "name": "stderr",
     "output_type": "stream",
     "text": [
      "100%|██████████| 19/19 [00:08<00:00,  2.35it/s]\n"
     ]
    },
    {
     "name": "stdout",
     "output_type": "stream",
     "text": [
      "Retrieving information on: Halomonas salina\n"
     ]
    },
    {
     "name": "stderr",
     "output_type": "stream",
     "text": [
      "100%|██████████| 1/1 [00:00<00:00,  2.53it/s]\n"
     ]
    },
    {
     "name": "stdout",
     "output_type": "stream",
     "text": [
      "Retrieving information on: Bacillus stratosphericus\n"
     ]
    },
    {
     "name": "stderr",
     "output_type": "stream",
     "text": [
      "/home/dashik/anaconda3/lib/python3.6/site-packages/bacdive/DSMZClient.py:38: UserWarning: no information found for: Bacillus stratosphericus\n",
      "  warn('no information found for: '+str(search_value))\n"
     ]
    },
    {
     "name": "stdout",
     "output_type": "stream",
     "text": [
      "Retrieving information on: Planococcus donghaensis\n"
     ]
    },
    {
     "name": "stderr",
     "output_type": "stream",
     "text": [
      "100%|██████████| 1/1 [00:00<00:00,  2.75it/s]\n"
     ]
    },
    {
     "name": "stdout",
     "output_type": "stream",
     "text": [
      "Retrieving information on: Herpetosiphon aurantiacus\n"
     ]
    },
    {
     "name": "stderr",
     "output_type": "stream",
     "text": [
      "100%|██████████| 3/3 [00:01<00:00,  2.20it/s]\n"
     ]
    },
    {
     "name": "stdout",
     "output_type": "stream",
     "text": [
      "Retrieving information on: Brucella microti\n"
     ]
    },
    {
     "name": "stderr",
     "output_type": "stream",
     "text": [
      "100%|██████████| 1/1 [00:00<00:00,  2.46it/s]\n"
     ]
    },
    {
     "name": "stdout",
     "output_type": "stream",
     "text": [
      "Retrieving information on: Altererythrobacter atlanticus\n"
     ]
    },
    {
     "name": "stderr",
     "output_type": "stream",
     "text": [
      "100%|██████████| 1/1 [00:00<00:00,  2.70it/s]\n"
     ]
    },
    {
     "name": "stdout",
     "output_type": "stream",
     "text": [
      "Retrieving information on: Nitrosomonas communis\n"
     ]
    },
    {
     "name": "stderr",
     "output_type": "stream",
     "text": [
      "100%|██████████| 1/1 [00:00<00:00,  2.52it/s]\n"
     ]
    },
    {
     "name": "stdout",
     "output_type": "stream",
     "text": [
      "Retrieving information on: Terriglobus roseus\n"
     ]
    },
    {
     "name": "stderr",
     "output_type": "stream",
     "text": [
      "100%|██████████| 1/1 [00:00<00:00,  2.01it/s]\n"
     ]
    },
    {
     "name": "stdout",
     "output_type": "stream",
     "text": [
      "Retrieving information on: Ralstonia mannitolilytica\n"
     ]
    },
    {
     "name": "stderr",
     "output_type": "stream",
     "text": [
      "100%|██████████| 1/1 [00:00<00:00,  2.50it/s]\n"
     ]
    },
    {
     "name": "stdout",
     "output_type": "stream",
     "text": [
      "Retrieving information on: Rhodospirillum centenum\n"
     ]
    },
    {
     "name": "stderr",
     "output_type": "stream",
     "text": [
      "/home/dashik/anaconda3/lib/python3.6/site-packages/bacdive/DSMZClient.py:38: UserWarning: no information found for: Rhodospirillum centenum\n",
      "  warn('no information found for: '+str(search_value))\n"
     ]
    },
    {
     "name": "stdout",
     "output_type": "stream",
     "text": [
      "Retrieving information on: Cyclobacterium qasimii\n"
     ]
    },
    {
     "name": "stderr",
     "output_type": "stream",
     "text": [
      "100%|██████████| 1/1 [00:00<00:00,  2.21it/s]\n"
     ]
    },
    {
     "name": "stdout",
     "output_type": "stream",
     "text": [
      "Retrieving information on: Roseibacterium elongatum\n"
     ]
    },
    {
     "name": "stderr",
     "output_type": "stream",
     "text": [
      "100%|██████████| 1/1 [00:00<00:00,  2.56it/s]\n"
     ]
    },
    {
     "name": "stdout",
     "output_type": "stream",
     "text": [
      "Retrieving information on: Aureimonas altamirensis\n"
     ]
    },
    {
     "name": "stderr",
     "output_type": "stream",
     "text": [
      "100%|██████████| 2/2 [00:00<00:00,  2.12it/s]\n"
     ]
    },
    {
     "name": "stdout",
     "output_type": "stream",
     "text": [
      "Retrieving information on: Sphingomonas sanxanigenens\n"
     ]
    },
    {
     "name": "stderr",
     "output_type": "stream",
     "text": [
      "100%|██████████| 1/1 [00:00<00:00,  2.46it/s]\n"
     ]
    },
    {
     "name": "stdout",
     "output_type": "stream",
     "text": [
      "Retrieving information on: Agrobacterium tumefaciens\n"
     ]
    },
    {
     "name": "stderr",
     "output_type": "stream",
     "text": [
      "100%|██████████| 3/3 [00:01<00:00,  2.57it/s]\n"
     ]
    },
    {
     "name": "stdout",
     "output_type": "stream",
     "text": [
      "Retrieving information on: Burkholderia fungorum\n"
     ]
    },
    {
     "name": "stderr",
     "output_type": "stream",
     "text": [
      "100%|██████████| 2/2 [00:00<00:00,  2.66it/s]\n"
     ]
    },
    {
     "name": "stdout",
     "output_type": "stream",
     "text": [
      "Retrieving information on: Deinococcus peraridilitoris\n"
     ]
    },
    {
     "name": "stderr",
     "output_type": "stream",
     "text": [
      "100%|██████████| 2/2 [00:00<00:00,  2.63it/s]\n"
     ]
    },
    {
     "name": "stdout",
     "output_type": "stream",
     "text": [
      "Retrieving information on: Kirrobacter Coronado\n"
     ]
    },
    {
     "name": "stderr",
     "output_type": "stream",
     "text": [
      "/home/dashik/anaconda3/lib/python3.6/site-packages/bacdive/DSMZClient.py:38: UserWarning: no information found for: Kirrobacter Coronado\n",
      "  warn('no information found for: '+str(search_value))\n"
     ]
    },
    {
     "name": "stdout",
     "output_type": "stream",
     "text": [
      "Retrieving information on: Crinalium epipsammum\n"
     ]
    },
    {
     "name": "stderr",
     "output_type": "stream",
     "text": [
      "100%|██████████| 1/1 [00:00<00:00,  2.71it/s]\n"
     ]
    },
    {
     "name": "stdout",
     "output_type": "stream",
     "text": [
      "Retrieving information on: Methylibium petroleiphilum\n"
     ]
    },
    {
     "name": "stderr",
     "output_type": "stream",
     "text": [
      "100%|██████████| 1/1 [00:00<00:00,  2.51it/s]\n"
     ]
    },
    {
     "name": "stdout",
     "output_type": "stream",
     "text": [
      "Retrieving information on: Ralstonia syzygii\n"
     ]
    },
    {
     "name": "stderr",
     "output_type": "stream",
     "text": [
      "100%|██████████| 6/6 [00:02<00:00,  2.50it/s]\n"
     ]
    },
    {
     "name": "stdout",
     "output_type": "stream",
     "text": [
      "Retrieving information on: Xanthomonas vasicola\n"
     ]
    },
    {
     "name": "stderr",
     "output_type": "stream",
     "text": [
      "100%|██████████| 2/2 [00:01<00:00,  1.58it/s]\n"
     ]
    },
    {
     "name": "stdout",
     "output_type": "stream",
     "text": [
      "Retrieving information on: Xanthomonas hortorum\n"
     ]
    },
    {
     "name": "stderr",
     "output_type": "stream",
     "text": [
      "100%|██████████| 4/4 [00:01<00:00,  2.51it/s]\n"
     ]
    },
    {
     "name": "stdout",
     "output_type": "stream",
     "text": [
      "Retrieving information on: Burkholderia phymatum\n"
     ]
    },
    {
     "name": "stderr",
     "output_type": "stream",
     "text": [
      "100%|██████████| 1/1 [00:00<00:00,  2.70it/s]\n"
     ]
    },
    {
     "name": "stdout",
     "output_type": "stream",
     "text": [
      "Retrieving information on: Xanthomonas sacchari\n"
     ]
    },
    {
     "name": "stderr",
     "output_type": "stream",
     "text": [
      "100%|██████████| 1/1 [00:00<00:00,  2.57it/s]\n"
     ]
    },
    {
     "name": "stdout",
     "output_type": "stream",
     "text": [
      "Retrieving information on: Pseudomonas synxantha\n"
     ]
    },
    {
     "name": "stderr",
     "output_type": "stream",
     "text": [
      "100%|██████████| 2/2 [00:00<00:00,  2.55it/s]\n"
     ]
    },
    {
     "name": "stdout",
     "output_type": "stream",
     "text": [
      "Retrieving information on: Rubrobacter xylanophilus\n"
     ]
    },
    {
     "name": "stderr",
     "output_type": "stream",
     "text": [
      "100%|██████████| 1/1 [00:01<00:00,  1.12s/it]\n"
     ]
    },
    {
     "name": "stdout",
     "output_type": "stream",
     "text": [
      "Retrieving information on: Chromohalobacter salexigens\n"
     ]
    },
    {
     "name": "stderr",
     "output_type": "stream",
     "text": [
      "100%|██████████| 2/2 [00:01<00:00,  2.00it/s]\n"
     ]
    },
    {
     "name": "stdout",
     "output_type": "stream",
     "text": [
      "Retrieving information on: Methylobacterium nodulans\n"
     ]
    },
    {
     "name": "stderr",
     "output_type": "stream",
     "text": [
      "100%|██████████| 1/1 [00:00<00:00,  2.57it/s]\n"
     ]
    },
    {
     "name": "stdout",
     "output_type": "stream",
     "text": [
      "Retrieving information on: Bacillus amyloliquefaciens\n"
     ]
    },
    {
     "name": "stderr",
     "output_type": "stream",
     "text": [
      "100%|██████████| 10/10 [00:04<00:00,  2.02it/s]\n"
     ]
    },
    {
     "ename": "ValueError",
     "evalue": "invalid literal for int() with base 10: '<1'",
     "output_type": "error",
     "traceback": [
      "\u001b[0;31m---------------------------------------------------------------------------\u001b[0m",
      "\u001b[0;31mValueError\u001b[0m                                Traceback (most recent call last)",
      "\u001b[0;32m<ipython-input-133-54a89fbfaa3d>\u001b[0m in \u001b[0;36m<module>\u001b[0;34m()\u001b[0m\n\u001b[0;32m----> 1\u001b[0;31m \u001b[0mspecies_search\u001b[0m \u001b[0;34m=\u001b[0m \u001b[0mretrieve\u001b[0m\u001b[0;34m(\u001b[0m\u001b[0mtaxons_\u001b[0m\u001b[0;34m,\u001b[0m \u001b[0msearch_type\u001b[0m\u001b[0;34m=\u001b[0m\u001b[0;34m'species'\u001b[0m\u001b[0;34m)\u001b[0m\u001b[0;34m\u001b[0m\u001b[0m\n\u001b[0m",
      "\u001b[0;32m~/anaconda3/lib/python3.6/site-packages/bacdive/DSMZClient.py\u001b[0m in \u001b[0;36mretrieve\u001b[0;34m(search, search_type)\u001b[0m\n\u001b[1;32m     51\u001b[0m                 \u001b[0mdf_\u001b[0m\u001b[0;34m.\u001b[0m\u001b[0mindex\u001b[0m\u001b[0;34m=\u001b[0m\u001b[0;34m(\u001b[0m\u001b[0mdf_\u001b[0m\u001b[0;34m[\u001b[0m\u001b[0;34m'DSMZ_id'\u001b[0m\u001b[0;34m]\u001b[0m\u001b[0;34m+\u001b[0m\u001b[0;34m'||'\u001b[0m\u001b[0;34m+\u001b[0m\u001b[0mdf_\u001b[0m\u001b[0;34m[\u001b[0m\u001b[0;34m'Section'\u001b[0m\u001b[0;34m]\u001b[0m\u001b[0;34m+\u001b[0m\u001b[0;34m'||'\u001b[0m\u001b[0;34m+\u001b[0m\u001b[0mdf_\u001b[0m\u001b[0;34m[\u001b[0m\u001b[0;34m'Subsection'\u001b[0m\u001b[0;34m]\u001b[0m\u001b[0;34m+\u001b[0m\u001b[0;34m'||'\u001b[0m\u001b[0;34m+\u001b[0m\u001b[0mdf_\u001b[0m\u001b[0;34m[\u001b[0m\u001b[0;34m'Field_ID'\u001b[0m\u001b[0;34m]\u001b[0m\u001b[0;34m)\u001b[0m\u001b[0;34m.\u001b[0m\u001b[0mvalues\u001b[0m\u001b[0;34m\u001b[0m\u001b[0m\n\u001b[1;32m     52\u001b[0m                 \u001b[0mflat_dfs\u001b[0m\u001b[0;34m.\u001b[0m\u001b[0mappend\u001b[0m\u001b[0;34m(\u001b[0m\u001b[0mdf_\u001b[0m\u001b[0;34m)\u001b[0m\u001b[0;34m\u001b[0m\u001b[0m\n\u001b[0;32m---> 53\u001b[0;31m         \u001b[0mbuild_final\u001b[0m\u001b[0;34m.\u001b[0m\u001b[0mappend\u001b[0m\u001b[0;34m(\u001b[0m\u001b[0mimplode_fattened_df\u001b[0m\u001b[0;34m(\u001b[0m\u001b[0mpd\u001b[0m\u001b[0;34m.\u001b[0m\u001b[0mconcat\u001b[0m\u001b[0;34m(\u001b[0m\u001b[0mflat_dfs\u001b[0m\u001b[0;34m)\u001b[0m\u001b[0;34m)\u001b[0m\u001b[0;34m)\u001b[0m\u001b[0;34m\u001b[0m\u001b[0m\n\u001b[0m\u001b[1;32m     54\u001b[0m \u001b[0;34m\u001b[0m\u001b[0m\n\u001b[1;32m     55\u001b[0m     \u001b[0;32mreturn\u001b[0m \u001b[0mpd\u001b[0m\u001b[0;34m.\u001b[0m\u001b[0mconcat\u001b[0m\u001b[0;34m(\u001b[0m\u001b[0mbuild_final\u001b[0m\u001b[0;34m,\u001b[0m\u001b[0maxis\u001b[0m\u001b[0;34m=\u001b[0m\u001b[0;36m1\u001b[0m\u001b[0;34m)\u001b[0m\u001b[0;34m.\u001b[0m\u001b[0msort_index\u001b[0m\u001b[0;34m(\u001b[0m\u001b[0;34m)\u001b[0m\u001b[0;34m\u001b[0m\u001b[0m\n",
      "\u001b[0;32m~/anaconda3/lib/python3.6/site-packages/bacdive/clean.py\u001b[0m in \u001b[0;36mimplode_fattened_df\u001b[0;34m(df)\u001b[0m\n\u001b[1;32m     76\u001b[0m                         \u001b[0mtmps_\u001b[0m\u001b[0;34m+=\u001b[0m\u001b[0;34m[\u001b[0m\u001b[0mtmp_\u001b[0m \u001b[0;32mfor\u001b[0m \u001b[0mtmp_\u001b[0m \u001b[0;32min\u001b[0m \u001b[0mrange\u001b[0m\u001b[0;34m(\u001b[0m\u001b[0mint\u001b[0m\u001b[0;34m(\u001b[0m\u001b[0mtmp\u001b[0m\u001b[0;34m.\u001b[0m\u001b[0msplit\u001b[0m\u001b[0;34m(\u001b[0m\u001b[0;34m'-'\u001b[0m\u001b[0;34m)\u001b[0m\u001b[0;34m[\u001b[0m\u001b[0;36m0\u001b[0m\u001b[0;34m]\u001b[0m\u001b[0;34m[\u001b[0m\u001b[0;34m:\u001b[0m\u001b[0;36m2\u001b[0m\u001b[0;34m]\u001b[0m\u001b[0;34m)\u001b[0m\u001b[0;34m,\u001b[0m\u001b[0mint\u001b[0m\u001b[0;34m(\u001b[0m\u001b[0mtmp\u001b[0m\u001b[0;34m.\u001b[0m\u001b[0msplit\u001b[0m\u001b[0;34m(\u001b[0m\u001b[0;34m'-'\u001b[0m\u001b[0;34m)\u001b[0m\u001b[0;34m[\u001b[0m\u001b[0;36m1\u001b[0m\u001b[0;34m]\u001b[0m\u001b[0;34m[\u001b[0m\u001b[0;34m:\u001b[0m\u001b[0;36m2\u001b[0m\u001b[0;34m]\u001b[0m\u001b[0;34m)\u001b[0m\u001b[0;34m)\u001b[0m\u001b[0;34m]\u001b[0m\u001b[0;34m\u001b[0m\u001b[0m\n\u001b[1;32m     77\u001b[0m                     \u001b[0;32melse\u001b[0m\u001b[0;34m:\u001b[0m\u001b[0;34m\u001b[0m\u001b[0m\n\u001b[0;32m---> 78\u001b[0;31m                         \u001b[0mtmps_\u001b[0m\u001b[0;34m.\u001b[0m\u001b[0mappend\u001b[0m\u001b[0;34m(\u001b[0m\u001b[0mint\u001b[0m\u001b[0;34m(\u001b[0m\u001b[0mtmp\u001b[0m\u001b[0;34m[\u001b[0m\u001b[0;34m:\u001b[0m\u001b[0;36m2\u001b[0m\u001b[0;34m]\u001b[0m\u001b[0;34m)\u001b[0m\u001b[0;34m)\u001b[0m\u001b[0;34m\u001b[0m\u001b[0m\n\u001b[0m\u001b[1;32m     79\u001b[0m                 \u001b[0;32melse\u001b[0m\u001b[0;34m:\u001b[0m \u001b[0;31m# pragma: no cover\u001b[0m\u001b[0;34m\u001b[0m\u001b[0m\n\u001b[1;32m     80\u001b[0m                     \u001b[0mtmps_\u001b[0m\u001b[0;34m.\u001b[0m\u001b[0mappend\u001b[0m\u001b[0;34m(\u001b[0m\u001b[0mtmp\u001b[0m\u001b[0;34m)\u001b[0m\u001b[0;34m\u001b[0m\u001b[0m\n",
      "\u001b[0;31mValueError\u001b[0m: invalid literal for int() with base 10: '<1'"
     ]
    }
   ],
   "source": [
    "species_search = retrieve(taxons_, search_type='species')"
   ]
  },
  {
   "cell_type": "code",
   "execution_count": 132,
   "metadata": {},
   "outputs": [
    {
     "data": {
      "text/plain": [
       "['Marinobacter adhaerens',\n",
       " 'Asticcacaulis excentricus',\n",
       " 'Sphingobium ummariense',\n",
       " 'Tolypothrix campylonemoides',\n",
       " 'Pseudomonas moraviensis',\n",
       " 'Methylomicrobium alcaliphilum',\n",
       " 'Halothiobacillus neapolitanus',\n",
       " 'Vibrio alginolyticus',\n",
       " 'Pseudomonas brassicacearum',\n",
       " 'Roseivivax halodurans',\n",
       " 'Nitrosococcus halophilus',\n",
       " 'Ochrobactrum intermedium',\n",
       " 'Ochrobactrum anthropi',\n",
       " 'Halomonas salina',\n",
       " 'Bacillus stratosphericus',\n",
       " 'Planococcus donghaensis',\n",
       " 'Herpetosiphon aurantiacus',\n",
       " 'Brucella microti',\n",
       " 'Altererythrobacter atlanticus',\n",
       " 'Nitrosomonas communis',\n",
       " 'Terriglobus roseus',\n",
       " 'Ralstonia mannitolilytica',\n",
       " 'Rhodospirillum centenum',\n",
       " 'Cyclobacterium qasimii',\n",
       " 'Roseibacterium elongatum',\n",
       " 'Aureimonas altamirensis',\n",
       " 'Sphingomonas sanxanigenens',\n",
       " 'Agrobacterium tumefaciens',\n",
       " 'Burkholderia fungorum',\n",
       " 'Deinococcus peraridilitoris',\n",
       " 'Kirrobacter Coronado',\n",
       " 'Crinalium epipsammum',\n",
       " 'Methylibium petroleiphilum',\n",
       " 'Ralstonia syzygii',\n",
       " 'Xanthomonas vasicola',\n",
       " 'Xanthomonas hortorum',\n",
       " 'Burkholderia phymatum',\n",
       " 'Xanthomonas sacchari',\n",
       " 'Pseudomonas synxantha',\n",
       " 'Rubrobacter xylanophilus',\n",
       " 'Chromohalobacter salexigens',\n",
       " 'Methylobacterium nodulans',\n",
       " 'Bacillus amyloliquefaciens',\n",
       " 'Luteibacter yeojuensis',\n",
       " 'Methylobacterium extorquens',\n",
       " 'Rhizobium etli',\n",
       " 'Brucella neotomae',\n",
       " 'Leptospirillum ferrodiazotrophum',\n",
       " 'Oceanibulbus indolifex',\n",
       " 'Erythrobacter litoralis',\n",
       " 'Halobacillus halophilus',\n",
       " 'Thiorhodospira sibirica',\n",
       " 'Sulfurimonas denitrificans',\n",
       " 'Sphingomonas paucimobilis',\n",
       " 'Pseudomonas parafulva',\n",
       " 'Rubrivivax gelatinosus',\n",
       " 'Rhodopirellula europaea',\n",
       " 'Nostoc punctiforme',\n",
       " 'Rhizobium grahamii',\n",
       " 'Rubrivivax benzoatilyticus',\n",
       " 'Bacillus nealsonii',\n",
       " 'Pseudoalteromonas citrea',\n",
       " 'Chryseobacterium formosense',\n",
       " 'Geodermatophilus obscurus',\n",
       " 'Aneurinibacillus aneurinilyticus',\n",
       " 'Bacillus megaterium',\n",
       " 'Sphingopyxis fribergensis',\n",
       " 'Herbaspirillum frisingense',\n",
       " 'Sphingobium indicum',\n",
       " 'Pseudomonas taeanensis',\n",
       " 'Sphingobium baderi',\n",
       " 'Thiocystis violascens',\n",
       " 'Halomonas hydrothermalis',\n",
       " 'Saccharibacillus sacchari',\n",
       " 'Massilia timonae',\n",
       " 'Arenimonas metalli',\n",
       " 'Pseudanabaena biceps',\n",
       " 'Rhodopirellula sallentina',\n",
       " 'Acinetobacter lwoffii',\n",
       " 'Pseudomonas stutzeri',\n",
       " 'Catenovulum agarivorans',\n",
       " 'Xanthomonas albilineans',\n",
       " 'Brevundimonas nasdae',\n",
       " 'Acidovorax avenae',\n",
       " 'Bacillus pumilus',\n",
       " 'Listeria innocua',\n",
       " 'Leptospirillum ferrooxidans',\n",
       " 'Bhargavaea cecembensis',\n",
       " 'Mastigocladus laminosus',\n",
       " 'Polaromonas naphthalenivorans',\n",
       " 'Glaciecola pallidula',\n",
       " 'Bacillus methylotrophicus',\n",
       " 'Sphingobium yanoikuyae',\n",
       " 'Thioalkalivibrio nitratireducens',\n",
       " 'Chloroflexus aggregans',\n",
       " 'Labrenzia alexandrii',\n",
       " 'Lyngbya aestuarii',\n",
       " 'Halomonas campaniensis',\n",
       " 'Xanthomonas axonopodis',\n",
       " 'Herminiimonas arsenicoxydans',\n",
       " 'Pseudomonas putida',\n",
       " 'Xanthomonas fuscans',\n",
       " 'Oceanobacillus iheyensis',\n",
       " 'Cyanobacterium aponinum',\n",
       " 'Halobacillus karajensis',\n",
       " 'Acaryochloris marina',\n",
       " 'Brucella abortus',\n",
       " 'Listeria ivanovii',\n",
       " 'Thauera phenylacetica',\n",
       " 'Arenimonas donghaensis',\n",
       " 'Agrobacterium rubi',\n",
       " 'Bacillus safensis',\n",
       " 'Xanthomonas citri',\n",
       " 'Wenxinia marina',\n",
       " 'Thioalkalivibrio thiocyanoxidans',\n",
       " 'Burkholderia grimmiae',\n",
       " 'Dinoroseobacter shibae',\n",
       " 'Marinobacter lipolyticus',\n",
       " 'Thiothrix nivea',\n",
       " 'Roseivivax isoporae',\n",
       " 'Agrobacterium albertimagni',\n",
       " 'Skermanella aerolata',\n",
       " 'Salinivibrio halophile',\n",
       " 'Pseudomonas frederiksbergensis',\n",
       " 'Mesorhizobium australicum',\n",
       " 'Methylomonas methanica',\n",
       " 'Actinotalea ferrariae',\n",
       " 'Xanthomonas vesicatoria',\n",
       " 'Pseudomonas mandelii',\n",
       " 'Tanticharoenia sakaeratensis',\n",
       " 'Xanthomonas perforans',\n",
       " 'Listeria welshimeri',\n",
       " 'Haematobacter massiliensis',\n",
       " 'Pseudomonas alcaligenes',\n",
       " 'Serpens flexibilis',\n",
       " 'Agrobacterium radiobacter',\n",
       " 'Scytonema tolypothrichoides',\n",
       " 'Alteromonas marina',\n",
       " 'Alteromonas australica',\n",
       " 'Listeria riparia',\n",
       " 'Methylomonas denitrificans',\n",
       " 'Mesorhizobium huakuii',\n",
       " 'Pseudomonas savastanoi',\n",
       " 'Kangiella koreensis',\n",
       " 'Cellulomonas fimi',\n",
       " 'Alteromonas macleodii',\n",
       " 'Thalassolituus oleivorans',\n",
       " 'Jannaschia aquimarina',\n",
       " 'Pontibacillus chungwhensis',\n",
       " 'Pseudomonas aeruginosa',\n",
       " 'Methylovorus glucosetrophus',\n",
       " 'Ralstonia solanacearum',\n",
       " 'Acinetobacter brisouii',\n",
       " 'Burkholderia phenoliruptrix',\n",
       " 'Tolypothrix bouteillei',\n",
       " 'Vibrio sinaloensis',\n",
       " 'Sphingomonas parapaucimobilis',\n",
       " 'Arthrospira platensis',\n",
       " 'Bermanella marisrubri',\n",
       " 'Brucella melitensis',\n",
       " 'Massilia consociata',\n",
       " 'Anabaena variabilis',\n",
       " 'Hassallia byssoidea',\n",
       " 'Devosia chinhatensis',\n",
       " 'Brucella pinnipedialis',\n",
       " 'Crocosphaera watsonii',\n",
       " 'Xanthomonas translucens',\n",
       " 'Listeria grayi',\n",
       " 'Salinisphaera shabanensis',\n",
       " 'Methylobacterium mesophilicum',\n",
       " 'Alishewanella jeotgali',\n",
       " 'Roseomonas cervicalis',\n",
       " 'Novosphingobium aromaticivorans',\n",
       " 'Thermosynechococcus elongatus',\n",
       " 'Roseobacter denitrificans',\n",
       " 'Brucella ceti',\n",
       " 'Bacillus wakoensis',\n",
       " 'Beutenbergia cavernae',\n",
       " 'Pseudomonas cichorii',\n",
       " 'Arthrospira maxima',\n",
       " 'Xanthomonas campestris',\n",
       " 'Nitrosospira multiformis',\n",
       " 'Xanthomonas oryzae',\n",
       " 'Oscillatoria acuminata',\n",
       " 'Pseudomonas resinovorans',\n",
       " 'Mesorhizobium ciceri',\n",
       " 'Bacillus altitudinis',\n",
       " 'Methylobacter tundripaludum',\n",
       " 'Leisingera methylohalidivorans',\n",
       " 'Burkholderia sacchari',\n",
       " 'Loktanella hongkongensis',\n",
       " 'Halomonas boliviensis',\n",
       " 'Halorhodospira halochloris',\n",
       " 'Rhodopirellula baltica',\n",
       " 'Pseudomonas rhizosphaerae',\n",
       " 'Asaia platycodi',\n",
       " 'Pseudomonas mendocina',\n",
       " 'Caulobacter vibrioides',\n",
       " 'Muricauda ruestringensis',\n",
       " 'Acidisphaera rubrifaciens',\n",
       " 'Burkholderia xenovorans',\n",
       " 'Jeotgalibacillus alimentarius',\n",
       " 'Thiobacillus prosperus',\n",
       " 'Pedobacter kyungheensis',\n",
       " 'Planococcus antarcticus',\n",
       " 'Pseudomonas batumici',\n",
       " 'Idiomarina salinarum',\n",
       " 'Synechococcus elongatus',\n",
       " 'Marinobacter nanhaiticus',\n",
       " 'Planococcus halocryophilus',\n",
       " 'Xanthomonas arboricola',\n",
       " 'Rhizobium lupini',\n",
       " 'Pseudoalteromonas luteoviolacea',\n",
       " 'Pseudomonas kilonensis',\n",
       " 'Acinetobacter brisoui',\n",
       " 'Listeria booriae',\n",
       " 'Limnoraphis robusta',\n",
       " 'Rhodanobacter fulvus',\n",
       " 'Candidatus Accumulibacter phosphatis',\n",
       " 'Serratia fonticola',\n",
       " 'Pontibacillus halophilus',\n",
       " 'Ralstonia disease',\n",
       " 'Brucella ovis',\n",
       " 'Methylobacterium oryzae',\n",
       " 'Novosphingobium nitrogenifigens',\n",
       " 'Listeria weihenstephanensis',\n",
       " 'Agrobacterium vitis',\n",
       " 'Methylobacterium aquaticum',\n",
       " 'Marichromatium purpuratum',\n",
       " 'Pseudomonas syringae',\n",
       " 'Sphingobium lactosutens',\n",
       " 'Halomonas anticariensis',\n",
       " 'Marinobacter algicola',\n",
       " 'Cellulomonas carbonis',\n",
       " 'Novosphingobium subterraneae',\n",
       " 'Bacillus lehensis',\n",
       " 'Pseudomonas plecoglossicida',\n",
       " 'Nakamurella multipartita',\n",
       " 'Thioalkalivibrio sulfidiphilus',\n",
       " 'Cellulophaga algicola',\n",
       " 'Pseudomonas lutea',\n",
       " 'Roseobacter litoralis',\n",
       " 'Thioflavicoccus mobilis',\n",
       " 'Pontibacillus yanchengensis',\n",
       " 'Planktothrix agardhii',\n",
       " 'Pseudoalteromonas undina',\n",
       " 'Vibrio proteolyticus',\n",
       " 'Brucella canis',\n",
       " 'Pseudogulbenkiania ferrooxidans',\n",
       " 'Methylobacterium radiotolerans',\n",
       " 'Pseudomonas chlororaphis',\n",
       " 'Pseudomonas poae',\n",
       " 'Rhizobium tropici',\n",
       " 'Ensifer adhaerens',\n",
       " 'Chloroherpeton thalassium',\n",
       " 'Leptospirillum ferriphilum',\n",
       " 'Pseudomonas psychrotolerans',\n",
       " 'Vibrio ichthyoenteri',\n",
       " 'Thiocapsa marina',\n",
       " 'Microcoleus vaginatus',\n",
       " 'Brucella suis',\n",
       " 'Microvirga lotononidis',\n",
       " 'Burkholderia terrae',\n",
       " 'Herbaspirillum seropedicae',\n",
       " 'Pseudomonas tuomuerensis',\n",
       " 'Sphingobacterium deserti',\n",
       " 'Gluconobacter thailandicus',\n",
       " 'Pseudomonas fulva',\n",
       " 'Acidithiobacillus ferrooxidans',\n",
       " 'Acinetobacter radioresistens',\n",
       " 'Burkholderia glathei',\n",
       " 'Listeria seeligeri',\n",
       " 'Caulobacter segnis',\n",
       " 'Devosia soli',\n",
       " 'Chloroflexus aurantiacus',\n",
       " 'Acidocella aminolytica',\n",
       " 'Oceanobacillus picturae',\n",
       " 'Modestobacter marinus',\n",
       " 'Microvirga aerilata',\n",
       " 'Pseudomonas alkylphenolia',\n",
       " 'Paenibacillus polymyxa',\n",
       " 'Listeria monocytogenes',\n",
       " 'Xanthomonas gardneri',\n",
       " 'Aurantimonas bacterium',\n",
       " 'Cobetia marina',\n",
       " 'Listeria rocourtiae',\n",
       " 'Sphingobium japonicum',\n",
       " 'Cellulomonas flavigena',\n",
       " 'Granulicella tundricola',\n",
       " 'Zobellia galactanivorans',\n",
       " 'Rhodopirellula maiorica',\n",
       " 'Alishewanella agri',\n",
       " 'Brucella inopinata',\n",
       " 'Sphingobacterium antarcticus',\n",
       " 'Bradyrhizobium oligotrophicum',\n",
       " 'Glaciecola nitratireducens',\n",
       " 'Terribacillus aidingensis',\n",
       " 'Granulicella mallensis',\n",
       " 'Rhizobium leguminosarum',\n",
       " 'Acinetobacter baumannii',\n",
       " 'Candidatus Accumulibacter Accumulibacter',\n",
       " 'Sphingopyxis alaskensis',\n",
       " 'Listeria marthii',\n",
       " 'Bacillus subtilis',\n",
       " 'Cellulomonas cellasea',\n",
       " 'Sphingomonas taxi',\n",
       " 'Truepera radiovictrix',\n",
       " 'Thioalkalimicrobium cyclicum',\n",
       " 'Oceanicola granulosus',\n",
       " 'Meiothermus ruber',\n",
       " 'Spiribacter salinus',\n",
       " 'Planomicrobium glaciei',\n",
       " 'Acetobacter indonesiensis',\n",
       " 'Leifsonia rubra',\n",
       " 'Skermanella stibiiresistens',\n",
       " 'Burkholderia caribensis',\n",
       " 'Thiohalocapsa Thiohalocapsa',\n",
       " 'Xanthomonas Nyagatare',\n",
       " 'Arthrobacter aurescens',\n",
       " 'Nitrosococcus oceani',\n",
       " 'Fictibacillus macauensis',\n",
       " 'Burkholderia graminis',\n",
       " 'Nitrosococcus watsoni',\n",
       " 'Arenimonas malthae',\n",
       " 'Pseudomonas cremoricolorata',\n",
       " 'Listeria cornellensis',\n",
       " 'Pseudomonas extremaustralis',\n",
       " 'Novosphingobium malaysiense',\n",
       " 'Halomonas titanicae',\n",
       " 'Rhodobacter sphaeroides',\n",
       " 'Jeotgalibacillus malaysiensis',\n",
       " 'Burkholderia phytofirmans',\n",
       " 'Halomonas meridiana',\n",
       " 'Caulobacter crescentus',\n",
       " 'Bacillus aryabhattai',\n",
       " 'Sulfitobacter mediterraneus',\n",
       " 'Listeria grandensis',\n",
       " 'Cylindrospermum stagnale',\n",
       " 'Muricauda lutaonensis',\n",
       " 'Acidithiobacillus caldus',\n",
       " 'Methylobacterium populi',\n",
       " 'Coleofasciculus chthonoplastes',\n",
       " 'Pontibacillus marinus',\n",
       " 'Pseudomonas knackmussii',\n",
       " 'Fulvimarina pelagi',\n",
       " 'Thioalkalimicrobium aerophilum',\n",
       " 'Acinetobacter idrijaensis',\n",
       " 'Pseudomonas pseudoalcaligenes',\n",
       " 'Pontibacillus litoralis',\n",
       " 'Nitratireductor basaltis',\n",
       " 'Acidovorax citrulli',\n",
       " 'Sulfuricurvum kujiense',\n",
       " 'Acinetobacter bohemicus',\n",
       " 'Ramlibacter tataouinensis',\n",
       " 'Ketogulonicigenium vulgare',\n",
       " 'Mucilaginibacter paludis',\n",
       " 'Pseudomonas taiwanensis',\n",
       " 'Cellulophaga baltica',\n",
       " 'Epilithonimonas lactis',\n",
       " 'Haematobacter missouriensis',\n",
       " 'Rubellimicrobium thermophilum',\n",
       " 'Parvularcula bermudensis',\n",
       " 'Pseudomonas fluorescens',\n",
       " 'Cellulomonas bogoriensis']"
      ]
     },
     "execution_count": 132,
     "metadata": {},
     "output_type": "execute_result"
    }
   ],
   "source": [
    "taxons_"
   ]
  },
  {
   "cell_type": "code",
   "execution_count": 7,
   "metadata": {},
   "outputs": [
    {
     "name": "stdout",
     "output_type": "stream",
     "text": [
      "Retrieving information on: Bacillus amyloliquefaciens\n"
     ]
    },
    {
     "name": "stderr",
     "output_type": "stream",
     "text": [
      "100%|██████████| 10/10 [00:03<00:00,  2.57it/s]\n"
     ]
    }
   ],
   "source": [
    "sp_s = retrieve('Bacillus amyloliquefaciens', search_type='species')"
   ]
  },
  {
   "cell_type": "code",
   "execution_count": 8,
   "metadata": {},
   "outputs": [
    {
     "data": {
      "text/plain": [
       "Section                                Subsection            Field                      \n",
       "application_interaction                risk_assessment       ID_reference                                                              [2015]\n",
       "                                                             biosafety_level                                                              [1]\n",
       "                                                             biosafety_level_comment                     [Risk group (German classification)]\n",
       "                                                             pathogenicity_animal                                                         NaN\n",
       "                                                             pathogenicity_human                                                          NaN\n",
       "                                                             pathogenicity_plant                                                          NaN\n",
       "culture_growth_condition               culture_medium        ID_reference                                                [24474, 35323, 2015]\n",
       "                                                             media_link                     [https://www.dsmz.de/microorganisms/medium/pdf...\n",
       "                                                             medium_composition             [Columbia agar (39.000 g);distilled water (100...\n",
       "                                                             medium_growth                                                             [True]\n",
       "                                                             medium_name                    [NUTRIENT AGAR (DSMZ Medium 1), 30°C, medium o...\n",
       "                                       culture_temp          ID_reference                                                [24474, 35323, 2015]\n",
       "                                                             ability                                                           [no, positive]\n",
       "                                                             temp                           [<15, 30, 31, 32, 33, 34, 35, 36, 37, 38, 39, ...\n",
       "                                                             temperature_range                                                   [mesophilic]\n",
       "                                                             test_type                                                      [growth, optimum]\n",
       "environment_sampling_isolation_source  origin                ID_reference                                                             [24474]\n",
       "                                                             continent                                                                    NaN\n",
       "                                                             country                                                                      NaN\n",
       "                                                             enrichment_cult_composition                                                  NaN\n",
       "                                                             enrichment_cult_duration                                                     NaN\n",
       "                                                             enrichment_cult_name                                                         NaN\n",
       "                                                             enrichment_cult_temp                                                         NaN\n",
       "                                                             geo_loc_name                                                                 NaN\n",
       "                                                             isolation_date                                                               NaN\n",
       "                                                             latitude                                                                     NaN\n",
       "                                                             longitude                                                                    NaN\n",
       "                                                             procedure_origin                                                             NaN\n",
       "                                                             sample_date                                                                  NaN\n",
       "                                                             sample_type                        [soil and industrial  amylase  fermentations]\n",
       "                                                                                                                  ...                        \n",
       "taxonomy_name                          strains               ID_reference                                                              [2015]\n",
       "                                                             class                                                                  [Bacilli]\n",
       "                                                             designation                                               [F, Fukumoto strain F]\n",
       "                                                             domain                                                                [Bacteria]\n",
       "                                                             family                                                             [Bacillaceae]\n",
       "                                                             full_scientific_name           [Bacillus amyloliquefaciens subsp. amyloliquef...\n",
       "                                                             genus                                                                 [Bacillus]\n",
       "                                                             is_type_strain                                                            [True]\n",
       "                                                             ordo                                                                [Bacillales]\n",
       "                                                             phylum                                                              [Firmicutes]\n",
       "                                                             species                                             [Bacillus amyloliquefaciens]\n",
       "                                                             species_epithet                                              [amyloliquefaciens]\n",
       "                                                             subspecies_epithet                                                           NaN\n",
       "                                       strains_synonyms_PNU  ID_reference                                                             [20215]\n",
       "                                                             pnu_synonym                    [Bacillus amyloliquefaciens subsp. amyloliquef...\n",
       "                                       strains_tax_PNU       ID_reference                                                             [20215]\n",
       "                                                             class                                                                  [Bacilli]\n",
       "                                                             domain                                                                [Bacteria]\n",
       "                                                             family                                                             [Bacillaceae]\n",
       "                                                             full_scientific_name           [Bacillus amyloliquefaciens (ex Fukumoto 1943)...\n",
       "                                                             genus                                                                 [Bacillus]\n",
       "                                                             is_type_strain                                                            [True]\n",
       "                                                             ordo                                                                         NaN\n",
       "                                                             phylum                                                              [Firmicutes]\n",
       "                                                             species                                             [Bacillus amyloliquefaciens]\n",
       "                                                             species_epithet                                              [amyloliquefaciens]\n",
       "                                                             status_fam                                                                   NaN\n",
       "                                                             status_gen                                                         [genus (AL) ]\n",
       "                                                             status_spec                                           [sp. nov., nom. rev. (VP)]\n",
       "                                                             subspecies_epithet                                                           NaN\n",
       "Name: DSMZ_598, Length: 131, dtype: object"
      ]
     },
     "execution_count": 8,
     "metadata": {},
     "output_type": "execute_result"
    }
   ],
   "source": [
    "sp_s['DSMZ_598']"
   ]
  },
  {
   "cell_type": "code",
   "execution_count": null,
   "metadata": {},
   "outputs": [],
   "source": []
  }
 ],
 "metadata": {
  "kernelspec": {
   "display_name": "Python 3",
   "language": "python",
   "name": "python3"
  },
  "language_info": {
   "codemirror_mode": {
    "name": "ipython",
    "version": 3
   },
   "file_extension": ".py",
   "mimetype": "text/x-python",
   "name": "python",
   "nbconvert_exporter": "python",
   "pygments_lexer": "ipython3",
   "version": "3.6.5"
  }
 },
 "nbformat": 4,
 "nbformat_minor": 2
}
