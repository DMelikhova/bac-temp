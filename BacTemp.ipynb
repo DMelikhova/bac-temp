{
 "cells": [
  {
   "cell_type": "code",
   "execution_count": 1,
   "metadata": {},
   "outputs": [],
   "source": [
    "#BacDivePy\n",
    "from bacdive.DSMZClient import DSMZ_login\n",
    "from bacdive.DSMZClient_temp import retrieve_temp\n",
    "from bacdive.DSMZClient import retrieve\n",
    "from bacdive.build_url import get_url\n",
    "\n",
    "#utils\n",
    "import pandas as pd\n",
    "import numpy as np\n",
    "import xlrd\n",
    "import xlwt\n",
    "\n",
    "#plot style\n",
    "import matplotlib.pyplot as plt\n",
    "import seaborn as sns\n",
    "import re\n",
    "from __future__ import absolute_import\n",
    "import requests\n",
    "from requests.exceptions import Timeout\n",
    "from warnings import warn\n",
    "import configparser\n",
    "# import json\n",
    "from os import environ, path\n",
    "from getpass import getpass\n",
    "from requests.auth import HTTPBasicAuth\n",
    "from tqdm import tqdm\n",
    "import pandas as pd\n",
    "plt.style.use('ggplot')\n",
    "\n",
    "%matplotlib inline\n",
    "%reload_ext autoreload\n",
    "%autoreload 2\n"
   ]
  },
  {
   "cell_type": "code",
   "execution_count": 2,
   "metadata": {},
   "outputs": [
    {
     "name": "stdout",
     "output_type": "stream",
     "text": [
      "BacDive password: ········\n"
     ]
    },
    {
     "data": {
      "text/plain": [
       "'dariamelihova@gmail.com'"
      ]
     },
     "execution_count": 2,
     "metadata": {},
     "output_type": "execute_result"
    }
   ],
   "source": [
    "DSMZ_login('dariamelihova@gmail.com')"
   ]
  },
  {
   "cell_type": "markdown",
   "metadata": {},
   "source": [
    "#### Getting all species"
   ]
  },
  {
   "cell_type": "code",
   "execution_count": 3,
   "metadata": {},
   "outputs": [],
   "source": [
    "table = pd.read_excel('Data/Bacteria_LOV.xls', 0, usecols='B,O:T') #считали из файла нужные столбцы\n",
    "table['Temperature'] = np.nan"
   ]
  },
  {
   "cell_type": "code",
   "execution_count": 4,
   "metadata": {},
   "outputs": [],
   "source": [
    "withoutsp = table[~table['Species'].str.contains(r'sp\\b')]"
   ]
  },
  {
   "cell_type": "code",
   "execution_count": 5,
   "metadata": {
    "scrolled": true
   },
   "outputs": [],
   "source": [
    "taxons = []\n",
    "for elem in list(withoutsp[['Genus', 'Species']].values):\n",
    "    taxons.append(str(elem[0])+' '+str(elem[1]))"
   ]
  },
  {
   "cell_type": "code",
   "execution_count": 6,
   "metadata": {},
   "outputs": [],
   "source": [
    "taxons_ = list(set(taxons))\n",
    "taxons_\n",
    "taxons_ = [x for x in taxons_ if '-' not in x] # получили список видов для поиска"
   ]
  },
  {
   "cell_type": "code",
   "execution_count": 7,
   "metadata": {},
   "outputs": [],
   "source": [
    "def lookup(df, value): \n",
    "    l = [(df.index[i], df.columns[j]) for i in range(df.shape[0]) for j in range(df.shape[1]) \n",
    "        if df.iloc[i,j] == value] \n",
    "    return l \n",
    "def lookindex(df, value):\n",
    "    l =  l = [df.index[i] for i in range(df.shape[0]) if df[i] == value]\n",
    "    return l"
   ]
  },
  {
   "cell_type": "code",
   "execution_count": 8,
   "metadata": {},
   "outputs": [
    {
     "name": "stdout",
     "output_type": "stream",
     "text": [
      "Retrieving information on: Agrobacterium rubi\n"
     ]
    },
    {
     "name": "stderr",
     "output_type": "stream",
     "text": [
      "100%|██████████| 2/2 [00:00<00:00,  2.36it/s]\n"
     ]
    },
    {
     "name": "stdout",
     "output_type": "stream",
     "text": [
      "Retrieving information on: Bhargavaea cecembensis\n"
     ]
    },
    {
     "name": "stderr",
     "output_type": "stream",
     "text": [
      "100%|██████████| 1/1 [00:00<00:00,  2.51it/s]\n"
     ]
    },
    {
     "name": "stdout",
     "output_type": "stream",
     "text": [
      "Retrieving information on: Halomonas titanicae\n"
     ]
    },
    {
     "name": "stderr",
     "output_type": "stream",
     "text": [
      "100%|██████████| 1/1 [00:00<00:00,  2.26it/s]\n"
     ]
    },
    {
     "name": "stdout",
     "output_type": "stream",
     "text": [
      "Retrieving information on: Xanthomonas hortorum\n"
     ]
    },
    {
     "name": "stderr",
     "output_type": "stream",
     "text": [
      "100%|██████████| 4/4 [00:01<00:00,  2.57it/s]\n"
     ]
    },
    {
     "name": "stdout",
     "output_type": "stream",
     "text": [
      "Retrieving information on: Pedobacter kyungheensis\n"
     ]
    },
    {
     "name": "stderr",
     "output_type": "stream",
     "text": [
      "/home/dashik/projects/180917_bac-temp/BacDivePy/bacdive/DSMZClient_temp.py:39: UserWarning: no information found for: Pedobacter kyungheensis\n",
      "  warn('no information found for: ' + str(search_value))\n"
     ]
    },
    {
     "name": "stdout",
     "output_type": "stream",
     "text": [
      "Retrieving information on: Thalassolituus oleivorans\n"
     ]
    },
    {
     "name": "stderr",
     "output_type": "stream",
     "text": [
      "100%|██████████| 1/1 [00:00<00:00,  2.51it/s]\n"
     ]
    },
    {
     "name": "stdout",
     "output_type": "stream",
     "text": [
      "Retrieving information on: Herbaspirillum seropedicae\n"
     ]
    },
    {
     "name": "stderr",
     "output_type": "stream",
     "text": [
      "100%|██████████| 3/3 [00:01<00:00,  2.61it/s]\n"
     ]
    },
    {
     "name": "stdout",
     "output_type": "stream",
     "text": [
      "Retrieving information on: Arenimonas donghaensis\n"
     ]
    },
    {
     "name": "stderr",
     "output_type": "stream",
     "text": [
      "100%|██████████| 1/1 [00:00<00:00,  2.71it/s]\n"
     ]
    },
    {
     "name": "stdout",
     "output_type": "stream",
     "text": [
      "Retrieving information on: Thiocapsa marina\n"
     ]
    },
    {
     "name": "stderr",
     "output_type": "stream",
     "text": [
      "100%|██████████| 1/1 [00:00<00:00,  2.26it/s]\n"
     ]
    },
    {
     "name": "stdout",
     "output_type": "stream",
     "text": [
      "Retrieving information on: Sphingomonas paucimobilis\n"
     ]
    },
    {
     "name": "stderr",
     "output_type": "stream",
     "text": [
      "100%|██████████| 3/3 [00:01<00:00,  2.60it/s]\n"
     ]
    },
    {
     "name": "stdout",
     "output_type": "stream",
     "text": [
      "Retrieving information on: Sphingomonas parapaucimobilis\n"
     ]
    },
    {
     "name": "stderr",
     "output_type": "stream",
     "text": [
      "100%|██████████| 1/1 [00:00<00:00,  2.46it/s]\n"
     ]
    },
    {
     "name": "stdout",
     "output_type": "stream",
     "text": [
      "Retrieving information on: Methylomonas denitrificans\n"
     ]
    },
    {
     "name": "stderr",
     "output_type": "stream",
     "text": [
      "/home/dashik/projects/180917_bac-temp/BacDivePy/bacdive/DSMZClient_temp.py:39: UserWarning: no information found for: Methylomonas denitrificans\n",
      "  warn('no information found for: ' + str(search_value))\n"
     ]
    },
    {
     "name": "stdout",
     "output_type": "stream",
     "text": [
      "Retrieving information on: Glaciecola pallidula\n"
     ]
    },
    {
     "name": "stderr",
     "output_type": "stream",
     "text": [
      "100%|██████████| 1/1 [00:00<00:00,  1.95it/s]\n"
     ]
    },
    {
     "name": "stdout",
     "output_type": "stream",
     "text": [
      "Retrieving information on: Cellulophaga algicola\n"
     ]
    },
    {
     "name": "stderr",
     "output_type": "stream",
     "text": [
      "100%|██████████| 1/1 [00:00<00:00,  2.53it/s]\n"
     ]
    },
    {
     "name": "stdout",
     "output_type": "stream",
     "text": [
      "Retrieving information on: Bacillus pumilus\n"
     ]
    },
    {
     "name": "stderr",
     "output_type": "stream",
     "text": [
      "100%|██████████| 50/50 [00:19<00:00,  2.50it/s]\n"
     ]
    },
    {
     "name": "stdout",
     "output_type": "stream",
     "text": [
      "Retrieving information on: Limnoraphis robusta\n"
     ]
    },
    {
     "name": "stderr",
     "output_type": "stream",
     "text": [
      "/home/dashik/projects/180917_bac-temp/BacDivePy/bacdive/DSMZClient_temp.py:39: UserWarning: no information found for: Limnoraphis robusta\n",
      "  warn('no information found for: ' + str(search_value))\n"
     ]
    },
    {
     "name": "stdout",
     "output_type": "stream",
     "text": [
      "Retrieving information on: Pontibacillus yanchengensis\n"
     ]
    },
    {
     "name": "stderr",
     "output_type": "stream",
     "text": [
      "/home/dashik/projects/180917_bac-temp/BacDivePy/bacdive/DSMZClient_temp.py:39: UserWarning: no information found for: Pontibacillus yanchengensis\n",
      "  warn('no information found for: ' + str(search_value))\n"
     ]
    },
    {
     "name": "stdout",
     "output_type": "stream",
     "text": [
      "Retrieving information on: Rubrivivax gelatinosus\n"
     ]
    },
    {
     "name": "stderr",
     "output_type": "stream",
     "text": [
      "100%|██████████| 4/4 [00:01<00:00,  2.55it/s]\n"
     ]
    },
    {
     "name": "stdout",
     "output_type": "stream",
     "text": [
      "Retrieving information on: Massilia timonae\n"
     ]
    },
    {
     "name": "stderr",
     "output_type": "stream",
     "text": [
      "100%|██████████| 1/1 [00:00<00:00,  2.26it/s]\n"
     ]
    },
    {
     "name": "stdout",
     "output_type": "stream",
     "text": [
      "Retrieving information on: Devosia chinhatensis\n"
     ]
    },
    {
     "name": "stderr",
     "output_type": "stream",
     "text": [
      "100%|██████████| 1/1 [00:00<00:00,  2.55it/s]\n"
     ]
    },
    {
     "name": "stdout",
     "output_type": "stream",
     "text": [
      "Retrieving information on: Tolypothrix campylonemoides\n"
     ]
    },
    {
     "name": "stderr",
     "output_type": "stream",
     "text": [
      "/home/dashik/projects/180917_bac-temp/BacDivePy/bacdive/DSMZClient_temp.py:39: UserWarning: no information found for: Tolypothrix campylonemoides\n",
      "  warn('no information found for: ' + str(search_value))\n"
     ]
    },
    {
     "name": "stdout",
     "output_type": "stream",
     "text": [
      "Retrieving information on: Methylobacterium aquaticum\n"
     ]
    },
    {
     "name": "stderr",
     "output_type": "stream",
     "text": [
      "100%|██████████| 2/2 [00:00<00:00,  2.54it/s]\n"
     ]
    },
    {
     "name": "stdout",
     "output_type": "stream",
     "text": [
      "Retrieving information on: Bacillus stratosphericus\n"
     ]
    },
    {
     "name": "stderr",
     "output_type": "stream",
     "text": [
      "/home/dashik/projects/180917_bac-temp/BacDivePy/bacdive/DSMZClient_temp.py:39: UserWarning: no information found for: Bacillus stratosphericus\n",
      "  warn('no information found for: ' + str(search_value))\n"
     ]
    },
    {
     "name": "stdout",
     "output_type": "stream",
     "text": [
      "Retrieving information on: Burkholderia graminis\n"
     ]
    },
    {
     "name": "stderr",
     "output_type": "stream",
     "text": [
      "100%|██████████| 4/4 [00:01<00:00,  2.07it/s]\n"
     ]
    },
    {
     "name": "stdout",
     "output_type": "stream",
     "text": [
      "Retrieving information on: Bacillus lehensis\n"
     ]
    },
    {
     "name": "stderr",
     "output_type": "stream",
     "text": [
      "100%|██████████| 1/1 [00:00<00:00,  2.34it/s]\n"
     ]
    },
    {
     "name": "stdout",
     "output_type": "stream",
     "text": [
      "Retrieving information on: Methylobacterium oryzae\n"
     ]
    },
    {
     "name": "stderr",
     "output_type": "stream",
     "text": [
      "100%|██████████| 1/1 [00:00<00:00,  2.13it/s]\n"
     ]
    },
    {
     "name": "stdout",
     "output_type": "stream",
     "text": [
      "Retrieving information on: Sphingobium lactosutens\n"
     ]
    },
    {
     "name": "stderr",
     "output_type": "stream",
     "text": [
      "100%|██████████| 1/1 [00:00<00:00,  1.71it/s]\n"
     ]
    },
    {
     "name": "stdout",
     "output_type": "stream",
     "text": [
      "Retrieving information on: Aurantimonas bacterium\n"
     ]
    },
    {
     "name": "stderr",
     "output_type": "stream",
     "text": [
      "/home/dashik/projects/180917_bac-temp/BacDivePy/bacdive/DSMZClient_temp.py:39: UserWarning: no information found for: Aurantimonas bacterium\n",
      "  warn('no information found for: ' + str(search_value))\n"
     ]
    },
    {
     "name": "stdout",
     "output_type": "stream",
     "text": [
      "Retrieving information on: Pseudomonas resinovorans\n"
     ]
    },
    {
     "name": "stderr",
     "output_type": "stream",
     "text": [
      "100%|██████████| 1/1 [00:00<00:00,  2.64it/s]\n"
     ]
    },
    {
     "name": "stdout",
     "output_type": "stream",
     "text": [
      "Retrieving information on: Bacillus megaterium\n"
     ]
    },
    {
     "name": "stderr",
     "output_type": "stream",
     "text": [
      "100%|██████████| 46/46 [00:18<00:00,  2.55it/s]\n"
     ]
    },
    {
     "name": "stdout",
     "output_type": "stream",
     "text": [
      "Retrieving information on: Catenovulum agarivorans\n"
     ]
    },
    {
     "name": "stderr",
     "output_type": "stream",
     "text": [
      "100%|██████████| 1/1 [00:00<00:00,  1.84it/s]\n"
     ]
    },
    {
     "name": "stdout",
     "output_type": "stream",
     "text": [
      "Retrieving information on: Serratia fonticola\n"
     ]
    },
    {
     "name": "stderr",
     "output_type": "stream",
     "text": [
      "100%|██████████| 9/9 [00:03<00:00,  2.55it/s]\n"
     ]
    },
    {
     "name": "stdout",
     "output_type": "stream",
     "text": [
      "Retrieving information on: Chloroflexus aggregans\n"
     ]
    },
    {
     "name": "stderr",
     "output_type": "stream",
     "text": [
      "100%|██████████| 2/2 [00:00<00:00,  2.54it/s]\n"
     ]
    },
    {
     "name": "stdout",
     "output_type": "stream",
     "text": [
      "Retrieving information on: Pseudoalteromonas undina\n"
     ]
    },
    {
     "name": "stderr",
     "output_type": "stream",
     "text": [
      "100%|██████████| 1/1 [00:00<00:00,  2.53it/s]\n"
     ]
    },
    {
     "name": "stdout",
     "output_type": "stream",
     "text": [
      "Retrieving information on: Rhodanobacter fulvus\n"
     ]
    },
    {
     "name": "stderr",
     "output_type": "stream",
     "text": [
      "100%|██████████| 1/1 [00:00<00:00,  2.55it/s]\n"
     ]
    },
    {
     "name": "stdout",
     "output_type": "stream",
     "text": [
      "Retrieving information on: Pseudomonas poae\n"
     ]
    },
    {
     "name": "stderr",
     "output_type": "stream",
     "text": [
      "100%|██████████| 1/1 [00:00<00:00,  2.48it/s]\n"
     ]
    },
    {
     "name": "stdout",
     "output_type": "stream",
     "text": [
      "Retrieving information on: Alteromonas marina\n"
     ]
    },
    {
     "name": "stderr",
     "output_type": "stream",
     "text": [
      "100%|██████████| 2/2 [00:00<00:00,  2.52it/s]\n"
     ]
    },
    {
     "name": "stdout",
     "output_type": "stream",
     "text": [
      "Retrieving information on: Thioalkalimicrobium aerophilum\n"
     ]
    },
    {
     "name": "stderr",
     "output_type": "stream",
     "text": [
      "/home/dashik/projects/180917_bac-temp/BacDivePy/bacdive/DSMZClient_temp.py:39: UserWarning: no information found for: Thioalkalimicrobium aerophilum\n",
      "  warn('no information found for: ' + str(search_value))\n"
     ]
    },
    {
     "name": "stdout",
     "output_type": "stream",
     "text": [
      "Retrieving information on: Sulfitobacter mediterraneus\n"
     ]
    },
    {
     "name": "stderr",
     "output_type": "stream",
     "text": [
      "100%|██████████| 1/1 [00:00<00:00,  2.55it/s]\n"
     ]
    },
    {
     "name": "stdout",
     "output_type": "stream",
     "text": [
      "Retrieving information on: Burkholderia terrae\n"
     ]
    },
    {
     "name": "stderr",
     "output_type": "stream",
     "text": [
      "/home/dashik/projects/180917_bac-temp/BacDivePy/bacdive/DSMZClient_temp.py:39: UserWarning: no information found for: Burkholderia terrae\n",
      "  warn('no information found for: ' + str(search_value))\n"
     ]
    },
    {
     "name": "stdout",
     "output_type": "stream",
     "text": [
      "Retrieving information on: Listeria seeligeri\n"
     ]
    },
    {
     "name": "stderr",
     "output_type": "stream",
     "text": [
      "100%|██████████| 2/2 [00:00<00:00,  2.63it/s]\n"
     ]
    },
    {
     "name": "stdout",
     "output_type": "stream",
     "text": [
      "Retrieving information on: Xanthomonas axonopodis\n"
     ]
    },
    {
     "name": "stderr",
     "output_type": "stream",
     "text": [
      "100%|██████████| 2/2 [00:00<00:00,  2.37it/s]\n"
     ]
    },
    {
     "name": "stdout",
     "output_type": "stream",
     "text": [
      "Retrieving information on: Thiocystis violascens\n"
     ]
    },
    {
     "name": "stderr",
     "output_type": "stream",
     "text": [
      "100%|██████████| 1/1 [00:00<00:00,  1.78it/s]\n"
     ]
    },
    {
     "name": "stdout",
     "output_type": "stream",
     "text": [
      "Retrieving information on: Scytonema tolypothrichoides\n"
     ]
    },
    {
     "name": "stderr",
     "output_type": "stream",
     "text": [
      "/home/dashik/projects/180917_bac-temp/BacDivePy/bacdive/DSMZClient_temp.py:39: UserWarning: no information found for: Scytonema tolypothrichoides\n",
      "  warn('no information found for: ' + str(search_value))\n"
     ]
    },
    {
     "name": "stdout",
     "output_type": "stream",
     "text": [
      "Retrieving information on: Jannaschia aquimarina\n"
     ]
    },
    {
     "name": "stderr",
     "output_type": "stream",
     "text": [
      "100%|██████████| 1/1 [00:00<00:00,  2.52it/s]\n"
     ]
    },
    {
     "name": "stdout",
     "output_type": "stream",
     "text": [
      "Retrieving information on: Ramlibacter tataouinensis\n"
     ]
    },
    {
     "name": "stderr",
     "output_type": "stream",
     "text": [
      "100%|██████████| 1/1 [00:00<00:00,  2.56it/s]\n"
     ]
    },
    {
     "name": "stdout",
     "output_type": "stream",
     "text": [
      "Retrieving information on: Nostoc punctiforme\n"
     ]
    },
    {
     "name": "stderr",
     "output_type": "stream",
     "text": [
      "100%|██████████| 3/3 [00:01<00:00,  2.58it/s]\n"
     ]
    },
    {
     "name": "stdout",
     "output_type": "stream",
     "text": [
      "Retrieving information on: Listeria innocua\n"
     ]
    },
    {
     "name": "stderr",
     "output_type": "stream",
     "text": [
      "100%|██████████| 6/6 [00:02<00:00,  2.60it/s]\n"
     ]
    },
    {
     "name": "stdout",
     "output_type": "stream",
     "text": [
      "Retrieving information on: Halothiobacillus neapolitanus\n"
     ]
    },
    {
     "name": "stderr",
     "output_type": "stream",
     "text": [
      "100%|██████████| 3/3 [00:01<00:00,  2.61it/s]\n"
     ]
    },
    {
     "name": "stdout",
     "output_type": "stream",
     "text": [
      "Retrieving information on: Listeria weihenstephanensis\n"
     ]
    },
    {
     "name": "stderr",
     "output_type": "stream",
     "text": [
      "100%|██████████| 2/2 [00:00<00:00,  2.61it/s]\n"
     ]
    },
    {
     "name": "stdout",
     "output_type": "stream",
     "text": [
      "Retrieving information on: Pseudomonas rhizosphaerae\n"
     ]
    },
    {
     "name": "stderr",
     "output_type": "stream",
     "text": [
      "100%|██████████| 1/1 [00:00<00:00,  2.63it/s]\n"
     ]
    },
    {
     "name": "stdout",
     "output_type": "stream",
     "text": [
      "Retrieving information on: Candidatus Accumulibacter Accumulibacter\n"
     ]
    },
    {
     "name": "stderr",
     "output_type": "stream",
     "text": [
      "/home/dashik/projects/180917_bac-temp/BacDivePy/bacdive/DSMZClient_temp.py:39: UserWarning: no information found for: Candidatus Accumulibacter Accumulibacter\n",
      "  warn('no information found for: ' + str(search_value))\n"
     ]
    },
    {
     "name": "stdout",
     "output_type": "stream",
     "text": [
      "Retrieving information on: Planococcus donghaensis\n"
     ]
    },
    {
     "name": "stderr",
     "output_type": "stream",
     "text": [
      "100%|██████████| 1/1 [00:00<00:00,  2.59it/s]\n"
     ]
    },
    {
     "name": "stdout",
     "output_type": "stream",
     "text": [
      "Retrieving information on: Pseudomonas taeanensis\n"
     ]
    },
    {
     "name": "stderr",
     "output_type": "stream",
     "text": [
      "100%|██████████| 1/1 [00:00<00:00,  2.59it/s]\n"
     ]
    },
    {
     "name": "stdout",
     "output_type": "stream",
     "text": [
      "Retrieving information on: Serpens flexibilis\n"
     ]
    },
    {
     "name": "stderr",
     "output_type": "stream",
     "text": [
      "/home/dashik/projects/180917_bac-temp/BacDivePy/bacdive/DSMZClient_temp.py:39: UserWarning: no information found for: Serpens flexibilis\n",
      "  warn('no information found for: ' + str(search_value))\n"
     ]
    },
    {
     "name": "stdout",
     "output_type": "stream",
     "text": [
      "Retrieving information on: Pseudomonas stutzeri\n"
     ]
    },
    {
     "name": "stderr",
     "output_type": "stream",
     "text": [
      "100%|██████████| 45/45 [00:17<00:00,  2.61it/s]\n"
     ]
    },
    {
     "name": "stdout",
     "output_type": "stream",
     "text": [
      "Retrieving information on: Burkholderia glathei\n"
     ]
    },
    {
     "name": "stderr",
     "output_type": "stream",
     "text": [
      "/home/dashik/projects/180917_bac-temp/BacDivePy/bacdive/DSMZClient_temp.py:39: UserWarning: no information found for: Burkholderia glathei\n",
      "  warn('no information found for: ' + str(search_value))\n"
     ]
    },
    {
     "name": "stdout",
     "output_type": "stream",
     "text": [
      "Retrieving information on: Pseudomonas lutea\n"
     ]
    },
    {
     "name": "stderr",
     "output_type": "stream",
     "text": [
      "100%|██████████| 1/1 [00:00<00:00,  2.58it/s]\n"
     ]
    },
    {
     "name": "stdout",
     "output_type": "stream",
     "text": [
      "Retrieving information on: Rhodopirellula sallentina\n"
     ]
    },
    {
     "name": "stderr",
     "output_type": "stream",
     "text": [
      "/home/dashik/projects/180917_bac-temp/BacDivePy/bacdive/DSMZClient_temp.py:39: UserWarning: no information found for: Rhodopirellula sallentina\n",
      "  warn('no information found for: ' + str(search_value))\n"
     ]
    },
    {
     "name": "stdout",
     "output_type": "stream",
     "text": [
      "Retrieving information on: Listeria booriae\n"
     ]
    },
    {
     "name": "stderr",
     "output_type": "stream",
     "text": [
      "100%|██████████| 1/1 [00:00<00:00,  2.58it/s]\n"
     ]
    },
    {
     "name": "stdout",
     "output_type": "stream",
     "text": [
      "Retrieving information on: Planomicrobium glaciei\n"
     ]
    },
    {
     "name": "stderr",
     "output_type": "stream",
     "text": [
      "100%|██████████| 1/1 [00:01<00:00,  1.38s/it]\n"
     ]
    },
    {
     "name": "stdout",
     "output_type": "stream",
     "text": [
      "Retrieving information on: Methylobacter tundripaludum\n"
     ]
    },
    {
     "name": "stderr",
     "output_type": "stream",
     "text": [
      "100%|██████████| 1/1 [00:00<00:00,  2.31it/s]\n"
     ]
    },
    {
     "name": "stdout",
     "output_type": "stream",
     "text": [
      "Retrieving information on: Pseudomonas knackmussii\n"
     ]
    },
    {
     "name": "stderr",
     "output_type": "stream",
     "text": [
      "100%|██████████| 1/1 [00:00<00:00,  2.26it/s]\n"
     ]
    },
    {
     "name": "stdout",
     "output_type": "stream",
     "text": [
      "Retrieving information on: Arthrobacter aurescens\n"
     ]
    },
    {
     "name": "stderr",
     "output_type": "stream",
     "text": [
      "100%|██████████| 1/1 [00:00<00:00,  2.62it/s]\n"
     ]
    },
    {
     "name": "stdout",
     "output_type": "stream",
     "text": [
      "Retrieving information on: Xanthomonas vesicatoria\n"
     ]
    },
    {
     "name": "stderr",
     "output_type": "stream",
     "text": [
      "100%|██████████| 1/1 [00:00<00:00,  1.59it/s]\n"
     ]
    },
    {
     "name": "stdout",
     "output_type": "stream",
     "text": [
      "Retrieving information on: Wenxinia marina\n"
     ]
    },
    {
     "name": "stderr",
     "output_type": "stream",
     "text": [
      "100%|██████████| 1/1 [00:00<00:00,  2.55it/s]\n"
     ]
    },
    {
     "name": "stdout",
     "output_type": "stream",
     "text": [
      "Retrieving information on: Thiorhodospira sibirica\n"
     ]
    },
    {
     "name": "stderr",
     "output_type": "stream",
     "text": [
      "/home/dashik/projects/180917_bac-temp/BacDivePy/bacdive/DSMZClient_temp.py:39: UserWarning: no information found for: Thiorhodospira sibirica\n",
      "  warn('no information found for: ' + str(search_value))\n"
     ]
    },
    {
     "name": "stdout",
     "output_type": "stream",
     "text": [
      "Retrieving information on: Bacillus subtilis\n"
     ]
    },
    {
     "name": "stderr",
     "output_type": "stream",
     "text": [
      "100%|██████████| 100/100 [00:41<00:00,  2.41it/s]\n"
     ]
    },
    {
     "name": "stdout",
     "output_type": "stream",
     "text": [
      "Retrieving information on: Pontibacillus marinus\n"
     ]
    },
    {
     "name": "stderr",
     "output_type": "stream",
     "text": [
      "100%|██████████| 1/1 [00:00<00:00,  2.55it/s]\n"
     ]
    },
    {
     "name": "stdout",
     "output_type": "stream",
     "text": [
      "Retrieving information on: Terribacillus aidingensis\n"
     ]
    },
    {
     "name": "stderr",
     "output_type": "stream",
     "text": [
      "100%|██████████| 1/1 [00:00<00:00,  2.52it/s]\n"
     ]
    },
    {
     "name": "stdout",
     "output_type": "stream",
     "text": [
      "Retrieving information on: Mesorhizobium huakuii\n"
     ]
    },
    {
     "name": "stderr",
     "output_type": "stream",
     "text": [
      "100%|██████████| 1/1 [00:00<00:00,  2.22it/s]\n"
     ]
    },
    {
     "name": "stdout",
     "output_type": "stream",
     "text": [
      "Retrieving information on: Tolypothrix bouteillei\n"
     ]
    },
    {
     "name": "stderr",
     "output_type": "stream",
     "text": [
      "/home/dashik/projects/180917_bac-temp/BacDivePy/bacdive/DSMZClient_temp.py:39: UserWarning: no information found for: Tolypothrix bouteillei\n",
      "  warn('no information found for: ' + str(search_value))\n"
     ]
    },
    {
     "name": "stdout",
     "output_type": "stream",
     "text": [
      "Retrieving information on: Marichromatium purpuratum\n"
     ]
    },
    {
     "name": "stderr",
     "output_type": "stream",
     "text": [
      "100%|██████████| 2/2 [00:00<00:00,  2.31it/s]\n"
     ]
    },
    {
     "name": "stdout",
     "output_type": "stream",
     "text": [
      "Retrieving information on: Cyanobacterium aponinum\n"
     ]
    },
    {
     "name": "stderr",
     "output_type": "stream",
     "text": [
      "/home/dashik/projects/180917_bac-temp/BacDivePy/bacdive/DSMZClient_temp.py:39: UserWarning: no information found for: Cyanobacterium aponinum\n",
      "  warn('no information found for: ' + str(search_value))\n"
     ]
    },
    {
     "name": "stdout",
     "output_type": "stream",
     "text": [
      "Retrieving information on: Sulfurimonas denitrificans\n"
     ]
    },
    {
     "name": "stderr",
     "output_type": "stream",
     "text": [
      "100%|██████████| 1/1 [00:00<00:00,  2.63it/s]\n"
     ]
    },
    {
     "name": "stdout",
     "output_type": "stream",
     "text": [
      "Retrieving information on: Thiohalocapsa Thiohalocapsa\n"
     ]
    },
    {
     "name": "stderr",
     "output_type": "stream",
     "text": [
      "/home/dashik/projects/180917_bac-temp/BacDivePy/bacdive/DSMZClient_temp.py:39: UserWarning: no information found for: Thiohalocapsa Thiohalocapsa\n",
      "  warn('no information found for: ' + str(search_value))\n"
     ]
    },
    {
     "name": "stdout",
     "output_type": "stream",
     "text": [
      "Retrieving information on: Rubrobacter xylanophilus\n"
     ]
    },
    {
     "name": "stderr",
     "output_type": "stream",
     "text": [
      "100%|██████████| 1/1 [00:00<00:00,  1.41it/s]\n"
     ]
    },
    {
     "name": "stdout",
     "output_type": "stream",
     "text": [
      "Retrieving information on: Halomonas hydrothermalis\n"
     ]
    },
    {
     "name": "stderr",
     "output_type": "stream",
     "text": [
      "100%|██████████| 1/1 [00:00<00:00,  2.53it/s]\n"
     ]
    },
    {
     "name": "stdout",
     "output_type": "stream",
     "text": [
      "Retrieving information on: Pseudomonas taiwanensis\n"
     ]
    },
    {
     "name": "stderr",
     "output_type": "stream",
     "text": [
      "100%|██████████| 1/1 [00:00<00:00,  2.63it/s]\n"
     ]
    },
    {
     "name": "stdout",
     "output_type": "stream",
     "text": [
      "Retrieving information on: Marinobacter adhaerens\n"
     ]
    },
    {
     "name": "stderr",
     "output_type": "stream",
     "text": [
      "100%|██████████| 1/1 [00:00<00:00,  2.30it/s]\n"
     ]
    },
    {
     "name": "stdout",
     "output_type": "stream",
     "text": [
      "Retrieving information on: Alishewanella jeotgali\n"
     ]
    },
    {
     "name": "stderr",
     "output_type": "stream",
     "text": [
      "100%|██████████| 1/1 [00:00<00:00,  2.31it/s]\n"
     ]
    },
    {
     "name": "stdout",
     "output_type": "stream",
     "text": [
      "Retrieving information on: Leptospirillum ferrodiazotrophum\n"
     ]
    },
    {
     "name": "stderr",
     "output_type": "stream",
     "text": [
      "/home/dashik/projects/180917_bac-temp/BacDivePy/bacdive/DSMZClient_temp.py:39: UserWarning: no information found for: Leptospirillum ferrodiazotrophum\n",
      "  warn('no information found for: ' + str(search_value))\n"
     ]
    },
    {
     "name": "stdout",
     "output_type": "stream",
     "text": [
      "Retrieving information on: Listeria welshimeri\n"
     ]
    },
    {
     "name": "stderr",
     "output_type": "stream",
     "text": [
      "100%|██████████| 3/3 [00:01<00:00,  2.46it/s]\n"
     ]
    },
    {
     "name": "stdout",
     "output_type": "stream",
     "text": [
      "Retrieving information on: Fulvimarina pelagi\n"
     ]
    },
    {
     "name": "stderr",
     "output_type": "stream",
     "text": [
      "100%|██████████| 3/3 [00:01<00:00,  2.49it/s]\n"
     ]
    },
    {
     "name": "stdout",
     "output_type": "stream",
     "text": [
      "Retrieving information on: Acinetobacter radioresistens\n"
     ]
    },
    {
     "name": "stderr",
     "output_type": "stream",
     "text": [
      "100%|██████████| 4/4 [00:01<00:00,  2.20it/s]\n"
     ]
    },
    {
     "name": "stdout",
     "output_type": "stream",
     "text": [
      "Retrieving information on: Xanthomonas sacchari\n"
     ]
    },
    {
     "name": "stderr",
     "output_type": "stream",
     "text": [
      "100%|██████████| 1/1 [00:00<00:00,  2.70it/s]\n"
     ]
    },
    {
     "name": "stdout",
     "output_type": "stream",
     "text": [
      "Retrieving information on: Agrobacterium tumefaciens\n"
     ]
    },
    {
     "name": "stderr",
     "output_type": "stream",
     "text": [
      "100%|██████████| 3/3 [00:01<00:00,  2.63it/s]\n"
     ]
    },
    {
     "name": "stdout",
     "output_type": "stream",
     "text": [
      "Retrieving information on: Chloroherpeton thalassium\n"
     ]
    },
    {
     "name": "stderr",
     "output_type": "stream",
     "text": [
      "/home/dashik/projects/180917_bac-temp/BacDivePy/bacdive/DSMZClient_temp.py:39: UserWarning: no information found for: Chloroherpeton thalassium\n",
      "  warn('no information found for: ' + str(search_value))\n"
     ]
    },
    {
     "name": "stdout",
     "output_type": "stream",
     "text": [
      "Retrieving information on: Pseudogulbenkiania ferrooxidans\n"
     ]
    },
    {
     "name": "stderr",
     "output_type": "stream",
     "text": [
      "/home/dashik/projects/180917_bac-temp/BacDivePy/bacdive/DSMZClient_temp.py:39: UserWarning: no information found for: Pseudogulbenkiania ferrooxidans\n",
      "  warn('no information found for: ' + str(search_value))\n"
     ]
    },
    {
     "name": "stdout",
     "output_type": "stream",
     "text": [
      "Retrieving information on: Bacillus methylotrophicus\n"
     ]
    },
    {
     "name": "stderr",
     "output_type": "stream",
     "text": [
      "/home/dashik/projects/180917_bac-temp/BacDivePy/bacdive/DSMZClient_temp.py:39: UserWarning: no information found for: Bacillus methylotrophicus\n",
      "  warn('no information found for: ' + str(search_value))\n"
     ]
    },
    {
     "name": "stdout",
     "output_type": "stream",
     "text": [
      "Retrieving information on: Xanthomonas fuscans\n"
     ]
    },
    {
     "name": "stderr",
     "output_type": "stream",
     "text": [
      "/home/dashik/projects/180917_bac-temp/BacDivePy/bacdive/DSMZClient_temp.py:39: UserWarning: no information found for: Xanthomonas fuscans\n",
      "  warn('no information found for: ' + str(search_value))\n"
     ]
    },
    {
     "name": "stdout",
     "output_type": "stream",
     "text": [
      "Retrieving information on: Ralstonia mannitolilytica\n"
     ]
    },
    {
     "name": "stderr",
     "output_type": "stream",
     "text": [
      "100%|██████████| 1/1 [00:00<00:00,  2.56it/s]\n"
     ]
    },
    {
     "name": "stdout",
     "output_type": "stream",
     "text": [
      "Retrieving information on: Alteromonas australica\n"
     ]
    },
    {
     "name": "stderr",
     "output_type": "stream",
     "text": [
      "100%|██████████| 1/1 [00:00<00:00,  2.68it/s]\n"
     ]
    },
    {
     "name": "stdout",
     "output_type": "stream",
     "text": [
      "Retrieving information on: Rhodopirellula maiorica\n"
     ]
    },
    {
     "name": "stderr",
     "output_type": "stream",
     "text": [
      "/home/dashik/projects/180917_bac-temp/BacDivePy/bacdive/DSMZClient_temp.py:39: UserWarning: no information found for: Rhodopirellula maiorica\n",
      "  warn('no information found for: ' + str(search_value))\n"
     ]
    },
    {
     "name": "stdout",
     "output_type": "stream",
     "text": [
      "Retrieving information on: Pseudomonas mandelii\n"
     ]
    },
    {
     "name": "stderr",
     "output_type": "stream",
     "text": [
      "100%|██████████| 2/2 [00:00<00:00,  2.66it/s]\n"
     ]
    },
    {
     "name": "stdout",
     "output_type": "stream",
     "text": [
      "Retrieving information on: Acidithiobacillus ferrooxidans\n"
     ]
    },
    {
     "name": "stderr",
     "output_type": "stream",
     "text": [
      "100%|██████████| 10/10 [00:03<00:00,  2.57it/s]\n"
     ]
    },
    {
     "name": "stdout",
     "output_type": "stream",
     "text": [
      "Retrieving information on: Nitrosococcus watsoni\n"
     ]
    },
    {
     "name": "stderr",
     "output_type": "stream",
     "text": [
      "/home/dashik/projects/180917_bac-temp/BacDivePy/bacdive/DSMZClient_temp.py:39: UserWarning: no information found for: Nitrosococcus watsoni\n",
      "  warn('no information found for: ' + str(search_value))\n"
     ]
    },
    {
     "name": "stdout",
     "output_type": "stream",
     "text": [
      "Retrieving information on: Marinobacter algicola\n"
     ]
    },
    {
     "name": "stderr",
     "output_type": "stream",
     "text": [
      "100%|██████████| 1/1 [00:00<00:00,  2.42it/s]\n"
     ]
    },
    {
     "name": "stdout",
     "output_type": "stream",
     "text": [
      "Retrieving information on: Pseudomonas moraviensis\n"
     ]
    },
    {
     "name": "stderr",
     "output_type": "stream",
     "text": [
      "100%|██████████| 1/1 [00:00<00:00,  2.60it/s]\n"
     ]
    },
    {
     "name": "stdout",
     "output_type": "stream",
     "text": [
      "Retrieving information on: Hassallia byssoidea\n"
     ]
    },
    {
     "name": "stderr",
     "output_type": "stream",
     "text": [
      "/home/dashik/projects/180917_bac-temp/BacDivePy/bacdive/DSMZClient_temp.py:39: UserWarning: no information found for: Hassallia byssoidea\n",
      "  warn('no information found for: ' + str(search_value))\n"
     ]
    },
    {
     "name": "stdout",
     "output_type": "stream",
     "text": [
      "Retrieving information on: Ochrobactrum anthropi\n"
     ]
    },
    {
     "name": "stderr",
     "output_type": "stream",
     "text": [
      "100%|██████████| 19/19 [00:07<00:00,  2.57it/s]\n"
     ]
    },
    {
     "name": "stdout",
     "output_type": "stream",
     "text": [
      "Retrieving information on: Vibrio alginolyticus\n"
     ]
    },
    {
     "name": "stderr",
     "output_type": "stream",
     "text": [
      "100%|██████████| 11/11 [00:04<00:00,  2.54it/s]\n"
     ]
    },
    {
     "name": "stdout",
     "output_type": "stream",
     "text": [
      "Retrieving information on: Sulfuricurvum kujiense\n"
     ]
    },
    {
     "name": "stderr",
     "output_type": "stream",
     "text": [
      "100%|██████████| 1/1 [00:00<00:00,  2.59it/s]\n"
     ]
    },
    {
     "name": "stdout",
     "output_type": "stream",
     "text": [
      "Retrieving information on: Truepera radiovictrix\n"
     ]
    },
    {
     "name": "stderr",
     "output_type": "stream",
     "text": [
      "100%|██████████| 2/2 [00:00<00:00,  2.60it/s]\n"
     ]
    },
    {
     "name": "stdout",
     "output_type": "stream",
     "text": [
      "Retrieving information on: Saccharibacillus sacchari\n"
     ]
    },
    {
     "name": "stderr",
     "output_type": "stream",
     "text": [
      "100%|██████████| 1/1 [00:00<00:00,  2.38it/s]\n"
     ]
    },
    {
     "name": "stdout",
     "output_type": "stream",
     "text": [
      "Retrieving information on: Kirrobacter Coronado\n"
     ]
    },
    {
     "name": "stderr",
     "output_type": "stream",
     "text": [
      "/home/dashik/projects/180917_bac-temp/BacDivePy/bacdive/DSMZClient_temp.py:39: UserWarning: no information found for: Kirrobacter Coronado\n",
      "  warn('no information found for: ' + str(search_value))\n"
     ]
    },
    {
     "name": "stdout",
     "output_type": "stream",
     "text": [
      "Retrieving information on: Brucella canis\n"
     ]
    },
    {
     "name": "stderr",
     "output_type": "stream",
     "text": [
      "/home/dashik/projects/180917_bac-temp/BacDivePy/bacdive/DSMZClient_temp.py:39: UserWarning: no information found for: Brucella canis\n",
      "  warn('no information found for: ' + str(search_value))\n"
     ]
    },
    {
     "name": "stdout",
     "output_type": "stream",
     "text": [
      "Retrieving information on: Vibrio ichthyoenteri\n"
     ]
    },
    {
     "name": "stderr",
     "output_type": "stream",
     "text": [
      "100%|██████████| 1/1 [00:00<00:00,  1.61it/s]\n"
     ]
    },
    {
     "name": "stdout",
     "output_type": "stream",
     "text": [
      "Retrieving information on: Brucella ceti\n"
     ]
    },
    {
     "name": "stderr",
     "output_type": "stream",
     "text": [
      "100%|██████████| 1/1 [00:00<00:00,  2.68it/s]\n"
     ]
    },
    {
     "name": "stdout",
     "output_type": "stream",
     "text": [
      "Retrieving information on: Halomonas boliviensis\n"
     ]
    },
    {
     "name": "stderr",
     "output_type": "stream",
     "text": [
      "100%|██████████| 2/2 [00:00<00:00,  2.29it/s]\n"
     ]
    },
    {
     "name": "stdout",
     "output_type": "stream",
     "text": [
      "Retrieving information on: Labrenzia alexandrii\n"
     ]
    },
    {
     "name": "stderr",
     "output_type": "stream",
     "text": [
      "100%|██████████| 1/1 [00:00<00:00,  2.54it/s]\n"
     ]
    },
    {
     "name": "stdout",
     "output_type": "stream",
     "text": [
      "Retrieving information on: Ralstonia syzygii\n"
     ]
    },
    {
     "name": "stderr",
     "output_type": "stream",
     "text": [
      "100%|██████████| 6/6 [00:02<00:00,  2.59it/s]\n"
     ]
    },
    {
     "name": "stdout",
     "output_type": "stream",
     "text": [
      "Retrieving information on: Nakamurella multipartita\n"
     ]
    },
    {
     "name": "stderr",
     "output_type": "stream",
     "text": [
      "100%|██████████| 1/1 [00:00<00:00,  2.46it/s]\n"
     ]
    },
    {
     "name": "stdout",
     "output_type": "stream",
     "text": [
      "Retrieving information on: Arenimonas metalli\n"
     ]
    },
    {
     "name": "stderr",
     "output_type": "stream",
     "text": [
      "100%|██████████| 1/1 [00:00<00:00,  2.62it/s]\n"
     ]
    },
    {
     "name": "stdout",
     "output_type": "stream",
     "text": [
      "Retrieving information on: Pseudomonas plecoglossicida\n"
     ]
    },
    {
     "name": "stderr",
     "output_type": "stream",
     "text": [
      "100%|██████████| 3/3 [00:01<00:00,  2.53it/s]\n"
     ]
    },
    {
     "name": "stdout",
     "output_type": "stream",
     "text": [
      "Retrieving information on: Pseudomonas tuomuerensis\n"
     ]
    },
    {
     "name": "stderr",
     "output_type": "stream",
     "text": [
      "/home/dashik/projects/180917_bac-temp/BacDivePy/bacdive/DSMZClient_temp.py:39: UserWarning: no information found for: Pseudomonas tuomuerensis\n",
      "  warn('no information found for: ' + str(search_value))\n"
     ]
    },
    {
     "name": "stdout",
     "output_type": "stream",
     "text": [
      "Retrieving information on: Agrobacterium radiobacter\n"
     ]
    },
    {
     "name": "stderr",
     "output_type": "stream",
     "text": [
      "100%|██████████| 13/13 [00:05<00:00,  2.47it/s]\n"
     ]
    },
    {
     "name": "stdout",
     "output_type": "stream",
     "text": [
      "Retrieving information on: Thioalkalivibrio thiocyanoxidans\n"
     ]
    },
    {
     "name": "stderr",
     "output_type": "stream",
     "text": [
      "100%|██████████| 2/2 [00:00<00:00,  2.49it/s]\n"
     ]
    },
    {
     "name": "stdout",
     "output_type": "stream",
     "text": [
      "Retrieving information on: Bacillus aryabhattai\n"
     ]
    },
    {
     "name": "stderr",
     "output_type": "stream",
     "text": [
      "100%|██████████| 3/3 [00:01<00:00,  2.41it/s]\n"
     ]
    },
    {
     "name": "stdout",
     "output_type": "stream",
     "text": [
      "Retrieving information on: Granulicella tundricola\n"
     ]
    },
    {
     "name": "stderr",
     "output_type": "stream",
     "text": [
      "100%|██████████| 1/1 [00:00<00:00,  2.22it/s]\n"
     ]
    },
    {
     "name": "stdout",
     "output_type": "stream",
     "text": [
      "Retrieving information on: Methylovorus glucosetrophus\n"
     ]
    },
    {
     "name": "stderr",
     "output_type": "stream",
     "text": [
      "/home/dashik/projects/180917_bac-temp/BacDivePy/bacdive/DSMZClient_temp.py:39: UserWarning: no information found for: Methylovorus glucosetrophus\n",
      "  warn('no information found for: ' + str(search_value))\n"
     ]
    },
    {
     "name": "stdout",
     "output_type": "stream",
     "text": [
      "Retrieving information on: Halorhodospira halochloris\n"
     ]
    },
    {
     "name": "stderr",
     "output_type": "stream",
     "text": [
      "100%|██████████| 1/1 [00:00<00:00,  1.36it/s]\n"
     ]
    },
    {
     "name": "stdout",
     "output_type": "stream",
     "text": [
      "Retrieving information on: Caulobacter segnis\n"
     ]
    },
    {
     "name": "stderr",
     "output_type": "stream",
     "text": [
      "100%|██████████| 2/2 [00:00<00:00,  2.66it/s]\n"
     ]
    },
    {
     "name": "stdout",
     "output_type": "stream",
     "text": [
      "Retrieving information on: Acidocella aminolytica\n"
     ]
    },
    {
     "name": "stderr",
     "output_type": "stream",
     "text": [
      "100%|██████████| 1/1 [00:00<00:00,  2.68it/s]\n"
     ]
    },
    {
     "name": "stdout",
     "output_type": "stream",
     "text": [
      "Retrieving information on: Vibrio sinaloensis\n"
     ]
    },
    {
     "name": "stderr",
     "output_type": "stream",
     "text": [
      "100%|██████████| 4/4 [00:01<00:00,  2.65it/s]\n"
     ]
    },
    {
     "name": "stdout",
     "output_type": "stream",
     "text": [
      "Retrieving information on: Methylibium petroleiphilum\n"
     ]
    },
    {
     "name": "stderr",
     "output_type": "stream",
     "text": [
      "100%|██████████| 1/1 [00:00<00:00,  2.68it/s]\n"
     ]
    },
    {
     "name": "stdout",
     "output_type": "stream",
     "text": [
      "Retrieving information on: Xanthomonas citri\n"
     ]
    },
    {
     "name": "stderr",
     "output_type": "stream",
     "text": [
      "100%|██████████| 2/2 [00:00<00:00,  2.75it/s]\n"
     ]
    },
    {
     "name": "stdout",
     "output_type": "stream",
     "text": [
      "Retrieving information on: Cellulomonas carbonis\n"
     ]
    },
    {
     "name": "stderr",
     "output_type": "stream",
     "text": [
      "100%|██████████| 1/1 [00:00<00:00,  2.62it/s]\n"
     ]
    },
    {
     "name": "stdout",
     "output_type": "stream",
     "text": [
      "Retrieving information on: Skermanella stibiiresistens\n"
     ]
    },
    {
     "name": "stderr",
     "output_type": "stream",
     "text": [
      "100%|██████████| 1/1 [00:00<00:00,  2.66it/s]\n"
     ]
    },
    {
     "name": "stdout",
     "output_type": "stream",
     "text": [
      "Retrieving information on: Acidisphaera rubrifaciens\n"
     ]
    },
    {
     "name": "stderr",
     "output_type": "stream",
     "text": [
      "100%|██████████| 1/1 [00:00<00:00,  2.63it/s]\n"
     ]
    },
    {
     "name": "stdout",
     "output_type": "stream",
     "text": [
      "Retrieving information on: Marinobacter nanhaiticus\n"
     ]
    },
    {
     "name": "stderr",
     "output_type": "stream",
     "text": [
      "/home/dashik/projects/180917_bac-temp/BacDivePy/bacdive/DSMZClient_temp.py:39: UserWarning: no information found for: Marinobacter nanhaiticus\n",
      "  warn('no information found for: ' + str(search_value))\n"
     ]
    },
    {
     "name": "stdout",
     "output_type": "stream",
     "text": [
      "Retrieving information on: Mesorhizobium ciceri\n"
     ]
    },
    {
     "name": "stderr",
     "output_type": "stream",
     "text": [
      "100%|██████████| 2/2 [00:00<00:00,  2.44it/s]\n"
     ]
    },
    {
     "name": "stdout",
     "output_type": "stream",
     "text": [
      "Retrieving information on: Rhizobium etli\n"
     ]
    },
    {
     "name": "stderr",
     "output_type": "stream",
     "text": [
      "100%|██████████| 2/2 [00:00<00:00,  2.39it/s]\n"
     ]
    },
    {
     "name": "stdout",
     "output_type": "stream",
     "text": [
      "Retrieving information on: Agrobacterium vitis\n"
     ]
    },
    {
     "name": "stderr",
     "output_type": "stream",
     "text": [
      "/home/dashik/projects/180917_bac-temp/BacDivePy/bacdive/DSMZClient_temp.py:39: UserWarning: no information found for: Agrobacterium vitis\n",
      "  warn('no information found for: ' + str(search_value))\n"
     ]
    },
    {
     "name": "stdout",
     "output_type": "stream",
     "text": [
      "Retrieving information on: Thiothrix nivea\n"
     ]
    },
    {
     "name": "stderr",
     "output_type": "stream",
     "text": [
      "100%|██████████| 1/1 [00:00<00:00,  2.19it/s]\n"
     ]
    },
    {
     "name": "stdout",
     "output_type": "stream",
     "text": [
      "Retrieving information on: Haematobacter massiliensis\n"
     ]
    },
    {
     "name": "stderr",
     "output_type": "stream",
     "text": [
      "100%|██████████| 1/1 [00:00<00:00,  1.97it/s]\n"
     ]
    },
    {
     "name": "stdout",
     "output_type": "stream",
     "text": [
      "Retrieving information on: Rhizobium grahamii\n"
     ]
    },
    {
     "name": "stderr",
     "output_type": "stream",
     "text": [
      "100%|██████████| 1/1 [00:00<00:00,  2.62it/s]\n"
     ]
    },
    {
     "name": "stdout",
     "output_type": "stream",
     "text": [
      "Retrieving information on: Pseudomonas parafulva\n"
     ]
    },
    {
     "name": "stderr",
     "output_type": "stream",
     "text": [
      "100%|██████████| 1/1 [00:00<00:00,  2.61it/s]\n"
     ]
    },
    {
     "name": "stdout",
     "output_type": "stream",
     "text": [
      "Retrieving information on: Aureimonas altamirensis\n"
     ]
    },
    {
     "name": "stderr",
     "output_type": "stream",
     "text": [
      "100%|██████████| 2/2 [00:00<00:00,  2.36it/s]\n"
     ]
    },
    {
     "name": "stdout",
     "output_type": "stream",
     "text": [
      "Retrieving information on: Novosphingobium subterraneae\n"
     ]
    },
    {
     "name": "stderr",
     "output_type": "stream",
     "text": [
      "/home/dashik/projects/180917_bac-temp/BacDivePy/bacdive/DSMZClient_temp.py:39: UserWarning: no information found for: Novosphingobium subterraneae\n",
      "  warn('no information found for: ' + str(search_value))\n"
     ]
    },
    {
     "name": "stdout",
     "output_type": "stream",
     "text": [
      "Retrieving information on: Listeria rocourtiae\n"
     ]
    },
    {
     "name": "stderr",
     "output_type": "stream",
     "text": [
      "100%|██████████| 1/1 [00:00<00:00,  2.61it/s]\n"
     ]
    },
    {
     "name": "stdout",
     "output_type": "stream",
     "text": [
      "Retrieving information on: Erythrobacter litoralis\n"
     ]
    },
    {
     "name": "stderr",
     "output_type": "stream",
     "text": [
      "100%|██████████| 1/1 [00:00<00:00,  2.33it/s]\n"
     ]
    },
    {
     "name": "stdout",
     "output_type": "stream",
     "text": [
      "Retrieving information on: Pseudomonas extremaustralis\n"
     ]
    },
    {
     "name": "stderr",
     "output_type": "stream",
     "text": [
      "100%|██████████| 2/2 [00:01<00:00,  1.07it/s]\n"
     ]
    },
    {
     "name": "stdout",
     "output_type": "stream",
     "text": [
      "Retrieving information on: Salinivibrio halophile\n"
     ]
    },
    {
     "name": "stderr",
     "output_type": "stream",
     "text": [
      "/home/dashik/projects/180917_bac-temp/BacDivePy/bacdive/DSMZClient_temp.py:39: UserWarning: no information found for: Salinivibrio halophile\n",
      "  warn('no information found for: ' + str(search_value))\n"
     ]
    },
    {
     "name": "stdout",
     "output_type": "stream",
     "text": [
      "Retrieving information on: Devosia soli\n"
     ]
    },
    {
     "name": "stderr",
     "output_type": "stream",
     "text": [
      "100%|██████████| 1/1 [00:00<00:00,  2.69it/s]\n"
     ]
    },
    {
     "name": "stdout",
     "output_type": "stream",
     "text": [
      "Retrieving information on: Planktothrix agardhii\n"
     ]
    },
    {
     "name": "stderr",
     "output_type": "stream",
     "text": [
      "/home/dashik/projects/180917_bac-temp/BacDivePy/bacdive/DSMZClient_temp.py:39: UserWarning: no information found for: Planktothrix agardhii\n",
      "  warn('no information found for: ' + str(search_value))\n"
     ]
    },
    {
     "name": "stdout",
     "output_type": "stream",
     "text": [
      "Retrieving information on: Sphingobium baderi\n"
     ]
    },
    {
     "name": "stderr",
     "output_type": "stream",
     "text": [
      "100%|██████████| 1/1 [00:00<00:00,  2.51it/s]\n"
     ]
    },
    {
     "name": "stdout",
     "output_type": "stream",
     "text": [
      "Retrieving information on: Pseudomonas alcaligenes\n"
     ]
    },
    {
     "name": "stderr",
     "output_type": "stream",
     "text": [
      "100%|██████████| 5/5 [00:01<00:00,  2.56it/s]\n"
     ]
    },
    {
     "name": "stdout",
     "output_type": "stream",
     "text": [
      "Retrieving information on: Polaromonas naphthalenivorans\n"
     ]
    },
    {
     "name": "stderr",
     "output_type": "stream",
     "text": [
      "100%|██████████| 1/1 [00:00<00:00,  2.66it/s]\n"
     ]
    },
    {
     "name": "stdout",
     "output_type": "stream",
     "text": [
      "Retrieving information on: Halomonas meridiana\n"
     ]
    },
    {
     "name": "stderr",
     "output_type": "stream",
     "text": [
      "100%|██████████| 5/5 [00:02<00:00,  2.40it/s]\n"
     ]
    },
    {
     "name": "stdout",
     "output_type": "stream",
     "text": [
      "Retrieving information on: Rhodopirellula baltica\n"
     ]
    },
    {
     "name": "stderr",
     "output_type": "stream",
     "text": [
      "100%|██████████| 8/8 [00:04<00:00,  1.98it/s]\n"
     ]
    },
    {
     "name": "stdout",
     "output_type": "stream",
     "text": [
      "Retrieving information on: Acinetobacter brisoui\n"
     ]
    },
    {
     "name": "stderr",
     "output_type": "stream",
     "text": [
      "/home/dashik/projects/180917_bac-temp/BacDivePy/bacdive/DSMZClient_temp.py:39: UserWarning: no information found for: Acinetobacter brisoui\n",
      "  warn('no information found for: ' + str(search_value))\n"
     ]
    },
    {
     "name": "stdout",
     "output_type": "stream",
     "text": [
      "Retrieving information on: Halomonas salina\n"
     ]
    },
    {
     "name": "stderr",
     "output_type": "stream",
     "text": [
      "100%|██████████| 1/1 [00:00<00:00,  2.58it/s]\n"
     ]
    },
    {
     "name": "stdout",
     "output_type": "stream",
     "text": [
      "Retrieving information on: Spiribacter salinus\n"
     ]
    },
    {
     "name": "stderr",
     "output_type": "stream",
     "text": [
      "/home/dashik/projects/180917_bac-temp/BacDivePy/bacdive/DSMZClient_temp.py:39: UserWarning: no information found for: Spiribacter salinus\n",
      "  warn('no information found for: ' + str(search_value))\n"
     ]
    },
    {
     "name": "stdout",
     "output_type": "stream",
     "text": [
      "Retrieving information on: Halomonas campaniensis\n"
     ]
    },
    {
     "name": "stderr",
     "output_type": "stream",
     "text": [
      "100%|██████████| 1/1 [00:00<00:00,  2.59it/s]\n"
     ]
    },
    {
     "name": "stdout",
     "output_type": "stream",
     "text": [
      "Retrieving information on: Sphingopyxis alaskensis\n"
     ]
    },
    {
     "name": "stderr",
     "output_type": "stream",
     "text": [
      "100%|██████████| 2/2 [00:00<00:00,  2.66it/s]\n"
     ]
    },
    {
     "name": "stdout",
     "output_type": "stream",
     "text": [
      "Retrieving information on: Roseobacter denitrificans\n"
     ]
    },
    {
     "name": "stderr",
     "output_type": "stream",
     "text": [
      "100%|██████████| 1/1 [00:00<00:00,  2.59it/s]\n"
     ]
    },
    {
     "name": "stdout",
     "output_type": "stream",
     "text": [
      "Retrieving information on: Massilia consociata\n"
     ]
    },
    {
     "name": "stderr",
     "output_type": "stream",
     "text": [
      "100%|██████████| 1/1 [00:00<00:00,  2.72it/s]\n"
     ]
    },
    {
     "name": "stdout",
     "output_type": "stream",
     "text": [
      "Retrieving information on: Pseudoalteromonas citrea\n"
     ]
    },
    {
     "name": "stderr",
     "output_type": "stream",
     "text": [
      "100%|██████████| 1/1 [00:00<00:00,  2.63it/s]\n"
     ]
    },
    {
     "name": "stdout",
     "output_type": "stream",
     "text": [
      "Retrieving information on: Acinetobacter baumannii\n"
     ]
    },
    {
     "name": "stderr",
     "output_type": "stream",
     "text": [
      "100%|██████████| 64/64 [00:27<00:00,  2.35it/s]\n"
     ]
    },
    {
     "name": "stdout",
     "output_type": "stream",
     "text": [
      "Retrieving information on: Modestobacter marinus\n"
     ]
    },
    {
     "name": "stderr",
     "output_type": "stream",
     "text": [
      "100%|██████████| 1/1 [00:00<00:00,  2.72it/s]\n"
     ]
    },
    {
     "name": "stdout",
     "output_type": "stream",
     "text": [
      "Retrieving information on: Arthrospira maxima\n"
     ]
    },
    {
     "name": "stderr",
     "output_type": "stream",
     "text": [
      "/home/dashik/projects/180917_bac-temp/BacDivePy/bacdive/DSMZClient_temp.py:39: UserWarning: no information found for: Arthrospira maxima\n",
      "  warn('no information found for: ' + str(search_value))\n"
     ]
    },
    {
     "name": "stdout",
     "output_type": "stream",
     "text": [
      "Retrieving information on: Bacillus altitudinis\n"
     ]
    },
    {
     "name": "stderr",
     "output_type": "stream",
     "text": [
      "100%|██████████| 2/2 [00:00<00:00,  2.42it/s]\n"
     ]
    },
    {
     "name": "stdout",
     "output_type": "stream",
     "text": [
      "Retrieving information on: Fictibacillus macauensis\n"
     ]
    },
    {
     "name": "stderr",
     "output_type": "stream",
     "text": [
      "100%|██████████| 1/1 [00:00<00:00,  2.24it/s]\n"
     ]
    },
    {
     "name": "stdout",
     "output_type": "stream",
     "text": [
      "Retrieving information on: Haematobacter missouriensis\n"
     ]
    },
    {
     "name": "stderr",
     "output_type": "stream",
     "text": [
      "100%|██████████| 1/1 [00:00<00:00,  2.63it/s]\n"
     ]
    },
    {
     "name": "stdout",
     "output_type": "stream",
     "text": [
      "Retrieving information on: Planococcus antarcticus\n"
     ]
    },
    {
     "name": "stderr",
     "output_type": "stream",
     "text": [
      "100%|██████████| 3/3 [00:01<00:00,  2.30it/s]\n"
     ]
    },
    {
     "name": "stdout",
     "output_type": "stream",
     "text": [
      "Retrieving information on: Pseudomonas synxantha\n"
     ]
    },
    {
     "name": "stderr",
     "output_type": "stream",
     "text": [
      "100%|██████████| 2/2 [00:00<00:00,  2.54it/s]\n"
     ]
    },
    {
     "name": "stdout",
     "output_type": "stream",
     "text": [
      "Retrieving information on: Microvirga lotononidis\n"
     ]
    },
    {
     "name": "stderr",
     "output_type": "stream",
     "text": [
      "100%|██████████| 1/1 [00:00<00:00,  2.63it/s]\n"
     ]
    },
    {
     "name": "stdout",
     "output_type": "stream",
     "text": [
      "Retrieving information on: Asticcacaulis excentricus\n"
     ]
    },
    {
     "name": "stderr",
     "output_type": "stream",
     "text": [
      "100%|██████████| 1/1 [00:00<00:00,  2.24it/s]\n"
     ]
    },
    {
     "name": "stdout",
     "output_type": "stream",
     "text": [
      "Retrieving information on: Cyclobacterium qasimii\n"
     ]
    },
    {
     "name": "stderr",
     "output_type": "stream",
     "text": [
      "100%|██████████| 1/1 [00:00<00:00,  2.64it/s]\n"
     ]
    },
    {
     "name": "stdout",
     "output_type": "stream",
     "text": [
      "Retrieving information on: Tanticharoenia sakaeratensis\n"
     ]
    },
    {
     "name": "stderr",
     "output_type": "stream",
     "text": [
      "/home/dashik/projects/180917_bac-temp/BacDivePy/bacdive/DSMZClient_temp.py:39: UserWarning: no information found for: Tanticharoenia sakaeratensis\n",
      "  warn('no information found for: ' + str(search_value))\n"
     ]
    },
    {
     "name": "stdout",
     "output_type": "stream",
     "text": [
      "Retrieving information on: Roseivivax halodurans\n"
     ]
    },
    {
     "name": "stderr",
     "output_type": "stream",
     "text": [
      "100%|██████████| 1/1 [00:00<00:00,  2.49it/s]\n"
     ]
    },
    {
     "name": "stdout",
     "output_type": "stream",
     "text": [
      "Retrieving information on: Chryseobacterium formosense\n"
     ]
    },
    {
     "name": "stderr",
     "output_type": "stream",
     "text": [
      "100%|██████████| 1/1 [00:00<00:00,  2.70it/s]\n"
     ]
    },
    {
     "name": "stdout",
     "output_type": "stream",
     "text": [
      "Retrieving information on: Luteibacter yeojuensis\n"
     ]
    },
    {
     "name": "stderr",
     "output_type": "stream",
     "text": [
      "100%|██████████| 1/1 [00:00<00:00,  2.62it/s]\n"
     ]
    },
    {
     "name": "stdout",
     "output_type": "stream",
     "text": [
      "Retrieving information on: Sphingobacterium antarcticus\n"
     ]
    },
    {
     "name": "stderr",
     "output_type": "stream",
     "text": [
      "/home/dashik/projects/180917_bac-temp/BacDivePy/bacdive/DSMZClient_temp.py:39: UserWarning: no information found for: Sphingobacterium antarcticus\n",
      "  warn('no information found for: ' + str(search_value))\n"
     ]
    },
    {
     "name": "stdout",
     "output_type": "stream",
     "text": [
      "Retrieving information on: Halobacillus karajensis\n"
     ]
    },
    {
     "name": "stderr",
     "output_type": "stream",
     "text": [
      "100%|██████████| 1/1 [00:00<00:00,  2.26it/s]\n"
     ]
    },
    {
     "name": "stdout",
     "output_type": "stream",
     "text": [
      "Retrieving information on: Crocosphaera watsonii\n"
     ]
    },
    {
     "name": "stderr",
     "output_type": "stream",
     "text": [
      "/home/dashik/projects/180917_bac-temp/BacDivePy/bacdive/DSMZClient_temp.py:39: UserWarning: no information found for: Crocosphaera watsonii\n",
      "  warn('no information found for: ' + str(search_value))\n"
     ]
    },
    {
     "name": "stdout",
     "output_type": "stream",
     "text": [
      "Retrieving information on: Brucella neotomae\n"
     ]
    },
    {
     "name": "stderr",
     "output_type": "stream",
     "text": [
      "/home/dashik/projects/180917_bac-temp/BacDivePy/bacdive/DSMZClient_temp.py:39: UserWarning: no information found for: Brucella neotomae\n",
      "  warn('no information found for: ' + str(search_value))\n"
     ]
    },
    {
     "name": "stdout",
     "output_type": "stream",
     "text": [
      "Retrieving information on: Cellulomonas bogoriensis\n"
     ]
    },
    {
     "name": "stderr",
     "output_type": "stream",
     "text": [
      "100%|██████████| 1/1 [00:00<00:00,  2.48it/s]\n"
     ]
    },
    {
     "name": "stdout",
     "output_type": "stream",
     "text": [
      "Retrieving information on: Jeotgalibacillus alimentarius\n"
     ]
    },
    {
     "name": "stderr",
     "output_type": "stream",
     "text": [
      "100%|██████████| 1/1 [00:00<00:00,  2.05it/s]\n"
     ]
    },
    {
     "name": "stdout",
     "output_type": "stream",
     "text": [
      "Retrieving information on: Alteromonas macleodii\n"
     ]
    },
    {
     "name": "stderr",
     "output_type": "stream",
     "text": [
      "100%|██████████| 13/13 [00:06<00:00,  2.06it/s]\n"
     ]
    },
    {
     "name": "stdout",
     "output_type": "stream",
     "text": [
      "Retrieving information on: Pseudomonas mendocina\n"
     ]
    },
    {
     "name": "stderr",
     "output_type": "stream",
     "text": [
      "100%|██████████| 7/7 [00:02<00:00,  2.58it/s]\n"
     ]
    },
    {
     "name": "stdout",
     "output_type": "stream",
     "text": [
      "Retrieving information on: Pseudomonas syringae\n"
     ]
    },
    {
     "name": "stderr",
     "output_type": "stream",
     "text": [
      "100%|██████████| 29/29 [00:14<00:00,  2.04it/s]\n"
     ]
    },
    {
     "name": "stdout",
     "output_type": "stream",
     "text": [
      "Retrieving information on: Brucella inopinata\n"
     ]
    },
    {
     "name": "stderr",
     "output_type": "stream",
     "text": [
      "100%|██████████| 1/1 [00:00<00:00,  2.24it/s]\n"
     ]
    },
    {
     "name": "stdout",
     "output_type": "stream",
     "text": [
      "Retrieving information on: Loktanella hongkongensis\n"
     ]
    },
    {
     "name": "stderr",
     "output_type": "stream",
     "text": [
      "100%|██████████| 2/2 [00:00<00:00,  2.46it/s]\n"
     ]
    },
    {
     "name": "stdout",
     "output_type": "stream",
     "text": [
      "Retrieving information on: Burkholderia grimmiae\n"
     ]
    },
    {
     "name": "stderr",
     "output_type": "stream",
     "text": [
      "/home/dashik/projects/180917_bac-temp/BacDivePy/bacdive/DSMZClient_temp.py:39: UserWarning: no information found for: Burkholderia grimmiae\n",
      "  warn('no information found for: ' + str(search_value))\n"
     ]
    },
    {
     "name": "stdout",
     "output_type": "stream",
     "text": [
      "Retrieving information on: Methylobacterium mesophilicum\n"
     ]
    },
    {
     "name": "stderr",
     "output_type": "stream",
     "text": [
      "100%|██████████| 2/2 [00:00<00:00,  2.48it/s]\n"
     ]
    },
    {
     "name": "stdout",
     "output_type": "stream",
     "text": [
      "Retrieving information on: Granulicella mallensis\n"
     ]
    },
    {
     "name": "stderr",
     "output_type": "stream",
     "text": [
      "100%|██████████| 1/1 [00:00<00:00,  2.21it/s]\n"
     ]
    },
    {
     "name": "stdout",
     "output_type": "stream",
     "text": [
      "Retrieving information on: Parvularcula bermudensis\n"
     ]
    },
    {
     "name": "stderr",
     "output_type": "stream",
     "text": [
      "100%|██████████| 1/1 [00:00<00:00,  2.64it/s]\n"
     ]
    },
    {
     "name": "stdout",
     "output_type": "stream",
     "text": [
      "Retrieving information on: Listeria monocytogenes\n"
     ]
    },
    {
     "name": "stderr",
     "output_type": "stream",
     "text": [
      "100%|██████████| 69/69 [00:27<00:00,  2.47it/s]\n"
     ]
    },
    {
     "name": "stdout",
     "output_type": "stream",
     "text": [
      "Retrieving information on: Pseudoalteromonas luteoviolacea\n"
     ]
    },
    {
     "name": "stderr",
     "output_type": "stream",
     "text": [
      "100%|██████████| 2/2 [00:00<00:00,  2.65it/s]\n"
     ]
    },
    {
     "name": "stdout",
     "output_type": "stream",
     "text": [
      "Retrieving information on: Idiomarina salinarum\n"
     ]
    },
    {
     "name": "stderr",
     "output_type": "stream",
     "text": [
      "100%|██████████| 1/1 [00:00<00:00,  1.83it/s]\n"
     ]
    },
    {
     "name": "stdout",
     "output_type": "stream",
     "text": [
      "Retrieving information on: Salinisphaera shabanensis\n"
     ]
    },
    {
     "name": "stderr",
     "output_type": "stream",
     "text": [
      "100%|██████████| 1/1 [00:00<00:00,  2.52it/s]\n"
     ]
    },
    {
     "name": "stdout",
     "output_type": "stream",
     "text": [
      "Retrieving information on: Bacillus safensis\n"
     ]
    },
    {
     "name": "stderr",
     "output_type": "stream",
     "text": [
      "100%|██████████| 2/2 [00:00<00:00,  2.41it/s]\n"
     ]
    },
    {
     "name": "stdout",
     "output_type": "stream",
     "text": [
      "Retrieving information on: Novosphingobium aromaticivorans\n"
     ]
    },
    {
     "name": "stderr",
     "output_type": "stream",
     "text": [
      "100%|██████████| 2/2 [00:01<00:00,  1.45it/s]\n"
     ]
    },
    {
     "name": "stdout",
     "output_type": "stream",
     "text": [
      "Retrieving information on: Acinetobacter brisouii\n"
     ]
    },
    {
     "name": "stderr",
     "output_type": "stream",
     "text": [
      "100%|██████████| 1/1 [00:00<00:00,  2.31it/s]\n"
     ]
    },
    {
     "name": "stdout",
     "output_type": "stream",
     "text": [
      "Retrieving information on: Brucella melitensis\n"
     ]
    },
    {
     "name": "stderr",
     "output_type": "stream",
     "text": [
      "/home/dashik/projects/180917_bac-temp/BacDivePy/bacdive/DSMZClient_temp.py:39: UserWarning: no information found for: Brucella melitensis\n",
      "  warn('no information found for: ' + str(search_value))\n"
     ]
    },
    {
     "name": "stdout",
     "output_type": "stream",
     "text": [
      "Retrieving information on: Pontibacillus litoralis\n"
     ]
    },
    {
     "name": "stderr",
     "output_type": "stream",
     "text": [
      "100%|██████████| 1/1 [00:00<00:00,  1.92it/s]\n"
     ]
    },
    {
     "name": "stdout",
     "output_type": "stream",
     "text": [
      "Retrieving information on: Brevundimonas nasdae\n"
     ]
    },
    {
     "name": "stderr",
     "output_type": "stream",
     "text": [
      "100%|██████████| 2/2 [00:00<00:00,  2.62it/s]\n"
     ]
    },
    {
     "name": "stdout",
     "output_type": "stream",
     "text": [
      "Retrieving information on: Cellulophaga baltica\n"
     ]
    },
    {
     "name": "stderr",
     "output_type": "stream",
     "text": [
      "100%|██████████| 1/1 [00:00<00:00,  2.20it/s]\n"
     ]
    },
    {
     "name": "stdout",
     "output_type": "stream",
     "text": [
      "Retrieving information on: Acinetobacter idrijaensis\n"
     ]
    },
    {
     "name": "stderr",
     "output_type": "stream",
     "text": [
      "/home/dashik/projects/180917_bac-temp/BacDivePy/bacdive/DSMZClient_temp.py:39: UserWarning: no information found for: Acinetobacter idrijaensis\n",
      "  warn('no information found for: ' + str(search_value))\n"
     ]
    },
    {
     "name": "stdout",
     "output_type": "stream",
     "text": [
      "Retrieving information on: Pontibacillus chungwhensis\n"
     ]
    },
    {
     "name": "stderr",
     "output_type": "stream",
     "text": [
      "100%|██████████| 1/1 [00:00<00:00,  2.60it/s]\n"
     ]
    },
    {
     "name": "stdout",
     "output_type": "stream",
     "text": [
      "Retrieving information on: Ochrobactrum intermedium\n"
     ]
    },
    {
     "name": "stderr",
     "output_type": "stream",
     "text": [
      "100%|██████████| 4/4 [00:01<00:00,  2.48it/s]\n"
     ]
    },
    {
     "name": "stdout",
     "output_type": "stream",
     "text": [
      "Retrieving information on: Listeria cornellensis\n"
     ]
    },
    {
     "name": "stderr",
     "output_type": "stream",
     "text": [
      "100%|██████████| 1/1 [00:00<00:00,  2.56it/s]\n"
     ]
    },
    {
     "name": "stdout",
     "output_type": "stream",
     "text": [
      "Retrieving information on: Sphingobacterium deserti\n"
     ]
    },
    {
     "name": "stderr",
     "output_type": "stream",
     "text": [
      "/home/dashik/projects/180917_bac-temp/BacDivePy/bacdive/DSMZClient_temp.py:39: UserWarning: no information found for: Sphingobacterium deserti\n",
      "  warn('no information found for: ' + str(search_value))\n"
     ]
    },
    {
     "name": "stdout",
     "output_type": "stream",
     "text": [
      "Retrieving information on: Methylobacterium extorquens\n"
     ]
    },
    {
     "name": "stderr",
     "output_type": "stream",
     "text": [
      "100%|██████████| 8/8 [00:04<00:00,  1.83it/s]\n"
     ]
    },
    {
     "name": "stdout",
     "output_type": "stream",
     "text": [
      "Retrieving information on: Leifsonia rubra\n"
     ]
    },
    {
     "name": "stderr",
     "output_type": "stream",
     "text": [
      "100%|██████████| 1/1 [00:00<00:00,  2.64it/s]\n"
     ]
    },
    {
     "name": "stdout",
     "output_type": "stream",
     "text": [
      "Retrieving information on: Sphingobium ummariense\n"
     ]
    },
    {
     "name": "stderr",
     "output_type": "stream",
     "text": [
      "100%|██████████| 1/1 [00:00<00:00,  2.60it/s]\n"
     ]
    },
    {
     "name": "stdout",
     "output_type": "stream",
     "text": [
      "Retrieving information on: Brucella microti\n"
     ]
    },
    {
     "name": "stderr",
     "output_type": "stream",
     "text": [
      "100%|██████████| 1/1 [00:00<00:00,  2.53it/s]\n"
     ]
    },
    {
     "name": "stdout",
     "output_type": "stream",
     "text": [
      "Retrieving information on: Thioalkalivibrio nitratireducens\n"
     ]
    },
    {
     "name": "stderr",
     "output_type": "stream",
     "text": [
      "100%|██████████| 1/1 [00:00<00:00,  2.26it/s]\n"
     ]
    },
    {
     "name": "stdout",
     "output_type": "stream",
     "text": [
      "Retrieving information on: Pontibacillus halophilus\n"
     ]
    },
    {
     "name": "stderr",
     "output_type": "stream",
     "text": [
      "100%|██████████| 1/1 [00:00<00:00,  2.13it/s]\n"
     ]
    },
    {
     "name": "stdout",
     "output_type": "stream",
     "text": [
      "Retrieving information on: Agrobacterium albertimagni\n"
     ]
    },
    {
     "name": "stderr",
     "output_type": "stream",
     "text": [
      "/home/dashik/projects/180917_bac-temp/BacDivePy/bacdive/DSMZClient_temp.py:39: UserWarning: no information found for: Agrobacterium albertimagni\n",
      "  warn('no information found for: ' + str(search_value))\n"
     ]
    },
    {
     "name": "stdout",
     "output_type": "stream",
     "text": [
      "Retrieving information on: Bacillus wakoensis\n"
     ]
    },
    {
     "name": "stderr",
     "output_type": "stream",
     "text": [
      "100%|██████████| 1/1 [00:00<00:00,  2.59it/s]\n"
     ]
    },
    {
     "name": "stdout",
     "output_type": "stream",
     "text": [
      "Retrieving information on: Crinalium epipsammum\n"
     ]
    },
    {
     "name": "stderr",
     "output_type": "stream",
     "text": [
      "100%|██████████| 1/1 [00:00<00:00,  2.71it/s]\n"
     ]
    },
    {
     "name": "stdout",
     "output_type": "stream",
     "text": [
      "Retrieving information on: Pseudomonas alkylphenolia\n"
     ]
    },
    {
     "name": "stderr",
     "output_type": "stream",
     "text": [
      "/home/dashik/projects/180917_bac-temp/BacDivePy/bacdive/DSMZClient_temp.py:39: UserWarning: no information found for: Pseudomonas alkylphenolia\n",
      "  warn('no information found for: ' + str(search_value))\n"
     ]
    },
    {
     "name": "stdout",
     "output_type": "stream",
     "text": [
      "Retrieving information on: Methylobacterium populi\n"
     ]
    },
    {
     "name": "stderr",
     "output_type": "stream",
     "text": [
      "100%|██████████| 1/1 [00:00<00:00,  2.13it/s]\n"
     ]
    },
    {
     "name": "stdout",
     "output_type": "stream",
     "text": [
      "Retrieving information on: Xanthomonas vasicola\n"
     ]
    },
    {
     "name": "stderr",
     "output_type": "stream",
     "text": [
      "100%|██████████| 2/2 [00:00<00:00,  2.09it/s]\n"
     ]
    },
    {
     "name": "stdout",
     "output_type": "stream",
     "text": [
      "Retrieving information on: Cobetia marina\n"
     ]
    },
    {
     "name": "stderr",
     "output_type": "stream",
     "text": [
      "100%|██████████| 5/5 [00:01<00:00,  2.64it/s]\n"
     ]
    },
    {
     "name": "stdout",
     "output_type": "stream",
     "text": [
      "Retrieving information on: Oceanobacillus picturae\n"
     ]
    },
    {
     "name": "stderr",
     "output_type": "stream",
     "text": [
      "100%|██████████| 1/1 [00:00<00:00,  2.61it/s]\n"
     ]
    },
    {
     "name": "stdout",
     "output_type": "stream",
     "text": [
      "Retrieving information on: Pseudomonas pseudoalcaligenes\n"
     ]
    },
    {
     "name": "stderr",
     "output_type": "stream",
     "text": [
      "100%|██████████| 1/1 [00:00<00:00,  2.67it/s]\n"
     ]
    },
    {
     "name": "stdout",
     "output_type": "stream",
     "text": [
      "Retrieving information on: Listeria marthii\n"
     ]
    },
    {
     "name": "stderr",
     "output_type": "stream",
     "text": [
      "100%|██████████| 1/1 [00:00<00:00,  2.63it/s]\n"
     ]
    },
    {
     "name": "stdout",
     "output_type": "stream",
     "text": [
      "Retrieving information on: Herminiimonas arsenicoxydans\n"
     ]
    },
    {
     "name": "stderr",
     "output_type": "stream",
     "text": [
      "100%|██████████| 1/1 [00:00<00:00,  2.61it/s]\n"
     ]
    },
    {
     "name": "stdout",
     "output_type": "stream",
     "text": [
      "Retrieving information on: Herpetosiphon aurantiacus\n"
     ]
    },
    {
     "name": "stderr",
     "output_type": "stream",
     "text": [
      "100%|██████████| 3/3 [00:01<00:00,  2.53it/s]\n"
     ]
    },
    {
     "name": "stdout",
     "output_type": "stream",
     "text": [
      "Retrieving information on: Vibrio proteolyticus\n"
     ]
    },
    {
     "name": "stderr",
     "output_type": "stream",
     "text": [
      "100%|██████████| 1/1 [00:00<00:00,  2.32it/s]\n"
     ]
    },
    {
     "name": "stdout",
     "output_type": "stream",
     "text": [
      "Retrieving information on: Xanthomonas oryzae\n"
     ]
    },
    {
     "name": "stderr",
     "output_type": "stream",
     "text": [
      "/home/dashik/projects/180917_bac-temp/BacDivePy/bacdive/DSMZClient_temp.py:39: UserWarning: no information found for: Xanthomonas oryzae\n",
      "  warn('no information found for: ' + str(search_value))\n"
     ]
    },
    {
     "name": "stdout",
     "output_type": "stream",
     "text": [
      "Retrieving information on: Cellulomonas flavigena\n"
     ]
    },
    {
     "name": "stderr",
     "output_type": "stream",
     "text": [
      "100%|██████████| 5/5 [00:02<00:00,  2.37it/s]\n"
     ]
    },
    {
     "name": "stdout",
     "output_type": "stream",
     "text": [
      "Retrieving information on: Pseudomonas cremoricolorata\n"
     ]
    },
    {
     "name": "stderr",
     "output_type": "stream",
     "text": [
      "100%|██████████| 1/1 [00:00<00:00,  2.64it/s]\n"
     ]
    },
    {
     "name": "stdout",
     "output_type": "stream",
     "text": [
      "Retrieving information on: Rhizobium tropici\n"
     ]
    },
    {
     "name": "stderr",
     "output_type": "stream",
     "text": [
      "100%|██████████| 1/1 [00:00<00:00,  2.31it/s]\n"
     ]
    },
    {
     "name": "stdout",
     "output_type": "stream",
     "text": [
      "Retrieving information on: Burkholderia phenoliruptrix\n"
     ]
    },
    {
     "name": "stderr",
     "output_type": "stream",
     "text": [
      "/home/dashik/projects/180917_bac-temp/BacDivePy/bacdive/DSMZClient_temp.py:39: UserWarning: no information found for: Burkholderia phenoliruptrix\n",
      "  warn('no information found for: ' + str(search_value))\n"
     ]
    },
    {
     "name": "stdout",
     "output_type": "stream",
     "text": [
      "Retrieving information on: Cylindrospermum stagnale\n"
     ]
    },
    {
     "name": "stderr",
     "output_type": "stream",
     "text": [
      "/home/dashik/projects/180917_bac-temp/BacDivePy/bacdive/DSMZClient_temp.py:39: UserWarning: no information found for: Cylindrospermum stagnale\n",
      "  warn('no information found for: ' + str(search_value))\n"
     ]
    },
    {
     "name": "stdout",
     "output_type": "stream",
     "text": [
      "Retrieving information on: Marinobacter lipolyticus\n"
     ]
    },
    {
     "name": "stderr",
     "output_type": "stream",
     "text": [
      "100%|██████████| 1/1 [00:00<00:00,  2.18it/s]\n"
     ]
    },
    {
     "name": "stdout",
     "output_type": "stream",
     "text": [
      "Retrieving information on: Thermosynechococcus elongatus\n"
     ]
    },
    {
     "name": "stderr",
     "output_type": "stream",
     "text": [
      "/home/dashik/projects/180917_bac-temp/BacDivePy/bacdive/DSMZClient_temp.py:39: UserWarning: no information found for: Thermosynechococcus elongatus\n",
      "  warn('no information found for: ' + str(search_value))\n"
     ]
    },
    {
     "name": "stdout",
     "output_type": "stream",
     "text": [
      "Retrieving information on: Xanthomonas perforans\n"
     ]
    },
    {
     "name": "stderr",
     "output_type": "stream",
     "text": [
      "100%|██████████| 1/1 [00:00<00:00,  2.61it/s]\n"
     ]
    },
    {
     "name": "stdout",
     "output_type": "stream",
     "text": [
      "Retrieving information on: Microcoleus vaginatus\n"
     ]
    },
    {
     "name": "stderr",
     "output_type": "stream",
     "text": [
      "/home/dashik/projects/180917_bac-temp/BacDivePy/bacdive/DSMZClient_temp.py:39: UserWarning: no information found for: Microcoleus vaginatus\n",
      "  warn('no information found for: ' + str(search_value))\n"
     ]
    },
    {
     "name": "stdout",
     "output_type": "stream",
     "text": [
      "Retrieving information on: Acidovorax avenae\n"
     ]
    },
    {
     "name": "stderr",
     "output_type": "stream",
     "text": [
      "100%|██████████| 3/3 [00:01<00:00,  2.37it/s]\n"
     ]
    },
    {
     "name": "stdout",
     "output_type": "stream",
     "text": [
      "Retrieving information on: Xanthomonas gardneri\n"
     ]
    },
    {
     "name": "stderr",
     "output_type": "stream",
     "text": [
      "100%|██████████| 1/1 [00:00<00:00,  1.39it/s]\n"
     ]
    },
    {
     "name": "stdout",
     "output_type": "stream",
     "text": [
      "Retrieving information on: Aneurinibacillus aneurinilyticus\n"
     ]
    },
    {
     "name": "stderr",
     "output_type": "stream",
     "text": [
      "100%|██████████| 1/1 [00:00<00:00,  2.45it/s]\n"
     ]
    },
    {
     "name": "stdout",
     "output_type": "stream",
     "text": [
      "Retrieving information on: Roseobacter litoralis\n"
     ]
    },
    {
     "name": "stderr",
     "output_type": "stream",
     "text": [
      "100%|██████████| 1/1 [00:00<00:00,  2.28it/s]\n"
     ]
    },
    {
     "name": "stdout",
     "output_type": "stream",
     "text": [
      "Retrieving information on: Methylomonas methanica\n"
     ]
    },
    {
     "name": "stderr",
     "output_type": "stream",
     "text": [
      "100%|██████████| 1/1 [00:00<00:00,  2.61it/s]\n"
     ]
    },
    {
     "name": "stdout",
     "output_type": "stream",
     "text": [
      "Retrieving information on: Chromohalobacter salexigens\n"
     ]
    },
    {
     "name": "stderr",
     "output_type": "stream",
     "text": [
      "100%|██████████| 2/2 [00:00<00:00,  2.29it/s]\n"
     ]
    },
    {
     "name": "stdout",
     "output_type": "stream",
     "text": [
      "Retrieving information on: Mesorhizobium australicum\n"
     ]
    },
    {
     "name": "stderr",
     "output_type": "stream",
     "text": [
      "100%|██████████| 1/1 [00:00<00:00,  2.69it/s]\n"
     ]
    },
    {
     "name": "stdout",
     "output_type": "stream",
     "text": [
      "Retrieving information on: Burkholderia sacchari\n"
     ]
    },
    {
     "name": "stderr",
     "output_type": "stream",
     "text": [
      "/home/dashik/projects/180917_bac-temp/BacDivePy/bacdive/DSMZClient_temp.py:39: UserWarning: no information found for: Burkholderia sacchari\n",
      "  warn('no information found for: ' + str(search_value))\n"
     ]
    },
    {
     "name": "stdout",
     "output_type": "stream",
     "text": [
      "Retrieving information on: Sphingobium yanoikuyae\n"
     ]
    },
    {
     "name": "stderr",
     "output_type": "stream",
     "text": [
      "100%|██████████| 5/5 [00:01<00:00,  2.54it/s]\n"
     ]
    },
    {
     "name": "stdout",
     "output_type": "stream",
     "text": [
      "Retrieving information on: Acidovorax citrulli\n"
     ]
    },
    {
     "name": "stderr",
     "output_type": "stream",
     "text": [
      "100%|██████████| 4/4 [00:01<00:00,  2.71it/s]\n"
     ]
    },
    {
     "name": "stdout",
     "output_type": "stream",
     "text": [
      "Retrieving information on: Novosphingobium malaysiense\n"
     ]
    },
    {
     "name": "stderr",
     "output_type": "stream",
     "text": [
      "100%|██████████| 1/1 [00:00<00:00,  2.64it/s]\n"
     ]
    },
    {
     "name": "stdout",
     "output_type": "stream",
     "text": [
      "Retrieving information on: Muricauda ruestringensis\n"
     ]
    },
    {
     "name": "stderr",
     "output_type": "stream",
     "text": [
      "100%|██████████| 1/1 [00:00<00:00,  2.58it/s]\n"
     ]
    },
    {
     "name": "stdout",
     "output_type": "stream",
     "text": [
      "Retrieving information on: Sphingobium indicum\n"
     ]
    },
    {
     "name": "stderr",
     "output_type": "stream",
     "text": [
      "100%|██████████| 1/1 [00:00<00:00,  1.83it/s]\n"
     ]
    },
    {
     "name": "stdout",
     "output_type": "stream",
     "text": [
      "Retrieving information on: Acidithiobacillus caldus\n"
     ]
    },
    {
     "name": "stderr",
     "output_type": "stream",
     "text": [
      "100%|██████████| 2/2 [00:00<00:00,  2.12it/s]\n"
     ]
    },
    {
     "name": "stdout",
     "output_type": "stream",
     "text": [
      "Retrieving information on: Microvirga aerilata\n"
     ]
    },
    {
     "name": "stderr",
     "output_type": "stream",
     "text": [
      "100%|██████████| 1/1 [00:00<00:00,  2.65it/s]\n"
     ]
    },
    {
     "name": "stdout",
     "output_type": "stream",
     "text": [
      "Retrieving information on: Pseudomonas fulva\n"
     ]
    },
    {
     "name": "stderr",
     "output_type": "stream",
     "text": [
      "100%|██████████| 3/3 [00:01<00:00,  2.65it/s]\n"
     ]
    },
    {
     "name": "stdout",
     "output_type": "stream",
     "text": [
      "Retrieving information on: Halomonas anticariensis\n"
     ]
    },
    {
     "name": "stderr",
     "output_type": "stream",
     "text": [
      "100%|██████████| 1/1 [00:00<00:00,  1.94it/s]\n"
     ]
    },
    {
     "name": "stdout",
     "output_type": "stream",
     "text": [
      "Retrieving information on: Brucella ovis\n"
     ]
    },
    {
     "name": "stderr",
     "output_type": "stream",
     "text": [
      "/home/dashik/projects/180917_bac-temp/BacDivePy/bacdive/DSMZClient_temp.py:39: UserWarning: no information found for: Brucella ovis\n",
      "  warn('no information found for: ' + str(search_value))\n"
     ]
    },
    {
     "name": "stdout",
     "output_type": "stream",
     "text": [
      "Retrieving information on: Brucella pinnipedialis\n"
     ]
    },
    {
     "name": "stderr",
     "output_type": "stream",
     "text": [
      "100%|██████████| 1/1 [00:00<00:00,  2.61it/s]\n"
     ]
    },
    {
     "name": "stdout",
     "output_type": "stream",
     "text": [
      "Retrieving information on: Caulobacter crescentus\n"
     ]
    },
    {
     "name": "stderr",
     "output_type": "stream",
     "text": [
      "/home/dashik/projects/180917_bac-temp/BacDivePy/bacdive/DSMZClient_temp.py:39: UserWarning: no information found for: Caulobacter crescentus\n",
      "  warn('no information found for: ' + str(search_value))\n"
     ]
    },
    {
     "name": "stdout",
     "output_type": "stream",
     "text": [
      "Retrieving information on: Deinococcus peraridilitoris\n"
     ]
    },
    {
     "name": "stderr",
     "output_type": "stream",
     "text": [
      "100%|██████████| 2/2 [00:00<00:00,  2.57it/s]\n"
     ]
    },
    {
     "name": "stdout",
     "output_type": "stream",
     "text": [
      "Retrieving information on: Pseudanabaena biceps\n"
     ]
    },
    {
     "name": "stderr",
     "output_type": "stream",
     "text": [
      "/home/dashik/projects/180917_bac-temp/BacDivePy/bacdive/DSMZClient_temp.py:39: UserWarning: no information found for: Pseudanabaena biceps\n",
      "  warn('no information found for: ' + str(search_value))\n"
     ]
    },
    {
     "name": "stdout",
     "output_type": "stream",
     "text": [
      "Retrieving information on: Listeria riparia\n"
     ]
    },
    {
     "name": "stderr",
     "output_type": "stream",
     "text": [
      "100%|██████████| 1/1 [00:00<00:00,  2.43it/s]\n"
     ]
    },
    {
     "name": "stdout",
     "output_type": "stream",
     "text": [
      "Retrieving information on: Burkholderia phytofirmans\n"
     ]
    },
    {
     "name": "stderr",
     "output_type": "stream",
     "text": [
      "/home/dashik/projects/180917_bac-temp/BacDivePy/bacdive/DSMZClient_temp.py:39: UserWarning: no information found for: Burkholderia phytofirmans\n",
      "  warn('no information found for: ' + str(search_value))\n"
     ]
    },
    {
     "name": "stdout",
     "output_type": "stream",
     "text": [
      "Retrieving information on: Methylobacterium radiotolerans\n"
     ]
    },
    {
     "name": "stderr",
     "output_type": "stream",
     "text": [
      "100%|██████████| 3/3 [00:01<00:00,  2.52it/s]\n"
     ]
    },
    {
     "name": "stdout",
     "output_type": "stream",
     "text": [
      "Retrieving information on: Muricauda lutaonensis\n"
     ]
    },
    {
     "name": "stderr",
     "output_type": "stream",
     "text": [
      "100%|██████████| 1/1 [00:00<00:00,  2.63it/s]\n"
     ]
    },
    {
     "name": "stdout",
     "output_type": "stream",
     "text": [
      "Retrieving information on: Brucella suis\n"
     ]
    },
    {
     "name": "stderr",
     "output_type": "stream",
     "text": [
      "/home/dashik/projects/180917_bac-temp/BacDivePy/bacdive/DSMZClient_temp.py:39: UserWarning: no information found for: Brucella suis\n",
      "  warn('no information found for: ' + str(search_value))\n"
     ]
    },
    {
     "name": "stdout",
     "output_type": "stream",
     "text": [
      "Retrieving information on: Arenimonas malthae\n"
     ]
    },
    {
     "name": "stderr",
     "output_type": "stream",
     "text": [
      "100%|██████████| 1/1 [00:00<00:00,  2.24it/s]\n"
     ]
    },
    {
     "name": "stdout",
     "output_type": "stream",
     "text": [
      "Retrieving information on: Pseudomonas aeruginosa\n"
     ]
    },
    {
     "name": "stderr",
     "output_type": "stream",
     "text": [
      "100%|██████████| 100/100 [00:38<00:00,  2.58it/s]\n"
     ]
    },
    {
     "name": "stdout",
     "output_type": "stream",
     "text": [
      "Retrieving information on: Ralstonia solanacearum\n"
     ]
    },
    {
     "name": "stderr",
     "output_type": "stream",
     "text": [
      "100%|██████████| 4/4 [00:01<00:00,  2.53it/s]\n"
     ]
    },
    {
     "name": "stdout",
     "output_type": "stream",
     "text": [
      "Retrieving information on: Rhodopirellula europaea\n"
     ]
    },
    {
     "name": "stderr",
     "output_type": "stream",
     "text": [
      "/home/dashik/projects/180917_bac-temp/BacDivePy/bacdive/DSMZClient_temp.py:39: UserWarning: no information found for: Rhodopirellula europaea\n",
      "  warn('no information found for: ' + str(search_value))\n"
     ]
    },
    {
     "name": "stdout",
     "output_type": "stream",
     "text": [
      "Retrieving information on: Cellulomonas cellasea\n"
     ]
    },
    {
     "name": "stderr",
     "output_type": "stream",
     "text": [
      "100%|██████████| 2/2 [00:00<00:00,  2.42it/s]\n"
     ]
    },
    {
     "name": "stdout",
     "output_type": "stream",
     "text": [
      "Retrieving information on: Leptospirillum ferriphilum\n"
     ]
    },
    {
     "name": "stderr",
     "output_type": "stream",
     "text": [
      "100%|██████████| 1/1 [00:00<00:00,  2.65it/s]\n"
     ]
    },
    {
     "name": "stdout",
     "output_type": "stream",
     "text": [
      "Retrieving information on: Thioflavicoccus mobilis\n"
     ]
    },
    {
     "name": "stderr",
     "output_type": "stream",
     "text": [
      "/home/dashik/projects/180917_bac-temp/BacDivePy/bacdive/DSMZClient_temp.py:39: UserWarning: no information found for: Thioflavicoccus mobilis\n",
      "  warn('no information found for: ' + str(search_value))\n"
     ]
    },
    {
     "name": "stdout",
     "output_type": "stream",
     "text": [
      "Retrieving information on: Alishewanella agri\n"
     ]
    },
    {
     "name": "stderr",
     "output_type": "stream",
     "text": [
      "100%|██████████| 1/1 [00:00<00:00,  2.25it/s]\n"
     ]
    },
    {
     "name": "stdout",
     "output_type": "stream",
     "text": [
      "Retrieving information on: Candidatus Accumulibacter phosphatis\n"
     ]
    },
    {
     "name": "stderr",
     "output_type": "stream",
     "text": [
      "/home/dashik/projects/180917_bac-temp/BacDivePy/bacdive/DSMZClient_temp.py:39: UserWarning: no information found for: Candidatus Accumulibacter phosphatis\n",
      "  warn('no information found for: ' + str(search_value))\n"
     ]
    },
    {
     "name": "stdout",
     "output_type": "stream",
     "text": [
      "Retrieving information on: Geodermatophilus obscurus\n"
     ]
    },
    {
     "name": "stderr",
     "output_type": "stream",
     "text": [
      "100%|██████████| 3/3 [00:01<00:00,  2.27it/s]\n"
     ]
    },
    {
     "name": "stdout",
     "output_type": "stream",
     "text": [
      "Retrieving information on: Oceanibulbus indolifex\n"
     ]
    },
    {
     "name": "stderr",
     "output_type": "stream",
     "text": [
      "/home/dashik/projects/180917_bac-temp/BacDivePy/bacdive/DSMZClient_temp.py:39: UserWarning: no information found for: Oceanibulbus indolifex\n",
      "  warn('no information found for: ' + str(search_value))\n"
     ]
    },
    {
     "name": "stdout",
     "output_type": "stream",
     "text": [
      "Retrieving information on: Caulobacter vibrioides\n"
     ]
    },
    {
     "name": "stderr",
     "output_type": "stream",
     "text": [
      "100%|██████████| 8/8 [00:03<00:00,  2.07it/s]\n"
     ]
    },
    {
     "name": "stdout",
     "output_type": "stream",
     "text": [
      "Retrieving information on: Herbaspirillum frisingense\n"
     ]
    },
    {
     "name": "stderr",
     "output_type": "stream",
     "text": [
      "100%|██████████| 3/3 [00:02<00:00,  1.46it/s]\n"
     ]
    },
    {
     "name": "stdout",
     "output_type": "stream",
     "text": [
      "Retrieving information on: Nitrosospira multiformis\n"
     ]
    },
    {
     "name": "stderr",
     "output_type": "stream",
     "text": [
      "100%|██████████| 1/1 [00:00<00:00,  2.65it/s]\n"
     ]
    },
    {
     "name": "stdout",
     "output_type": "stream",
     "text": [
      "Retrieving information on: Acinetobacter lwoffii\n"
     ]
    },
    {
     "name": "stderr",
     "output_type": "stream",
     "text": [
      "100%|██████████| 29/29 [00:11<00:00,  2.47it/s]\n"
     ]
    },
    {
     "name": "stdout",
     "output_type": "stream",
     "text": [
      "Retrieving information on: Rubrivivax benzoatilyticus\n"
     ]
    },
    {
     "name": "stderr",
     "output_type": "stream",
     "text": [
      "100%|██████████| 1/1 [00:00<00:00,  2.60it/s]\n"
     ]
    },
    {
     "name": "stdout",
     "output_type": "stream",
     "text": [
      "Retrieving information on: Thauera phenylacetica\n"
     ]
    },
    {
     "name": "stderr",
     "output_type": "stream",
     "text": [
      "100%|██████████| 1/1 [00:00<00:00,  1.22it/s]\n"
     ]
    },
    {
     "name": "stdout",
     "output_type": "stream",
     "text": [
      "Retrieving information on: Sphingomonas sanxanigenens\n"
     ]
    },
    {
     "name": "stderr",
     "output_type": "stream",
     "text": [
      "100%|██████████| 1/1 [00:00<00:00,  2.55it/s]\n"
     ]
    },
    {
     "name": "stdout",
     "output_type": "stream",
     "text": [
      "Retrieving information on: Mastigocladus laminosus\n"
     ]
    },
    {
     "name": "stderr",
     "output_type": "stream",
     "text": [
      "/home/dashik/projects/180917_bac-temp/BacDivePy/bacdive/DSMZClient_temp.py:39: UserWarning: no information found for: Mastigocladus laminosus\n",
      "  warn('no information found for: ' + str(search_value))\n"
     ]
    },
    {
     "name": "stdout",
     "output_type": "stream",
     "text": [
      "Retrieving information on: Ensifer adhaerens\n"
     ]
    },
    {
     "name": "stderr",
     "output_type": "stream",
     "text": [
      "100%|██████████| 2/2 [00:00<00:00,  2.70it/s]\n"
     ]
    },
    {
     "name": "stdout",
     "output_type": "stream",
     "text": [
      "Retrieving information on: Nitrosococcus oceani\n"
     ]
    },
    {
     "name": "stderr",
     "output_type": "stream",
     "text": [
      "/home/dashik/projects/180917_bac-temp/BacDivePy/bacdive/DSMZClient_temp.py:39: UserWarning: no information found for: Nitrosococcus oceani\n",
      "  warn('no information found for: ' + str(search_value))\n"
     ]
    },
    {
     "name": "stdout",
     "output_type": "stream",
     "text": [
      "Retrieving information on: Roseibacterium elongatum\n"
     ]
    },
    {
     "name": "stderr",
     "output_type": "stream",
     "text": [
      "100%|██████████| 1/1 [00:00<00:00,  2.56it/s]\n"
     ]
    },
    {
     "name": "stdout",
     "output_type": "stream",
     "text": [
      "Retrieving information on: Xanthomonas campestris\n"
     ]
    },
    {
     "name": "stderr",
     "output_type": "stream",
     "text": [
      "100%|██████████| 18/18 [00:08<00:00,  2.24it/s]\n"
     ]
    },
    {
     "name": "stdout",
     "output_type": "stream",
     "text": [
      "Retrieving information on: Gluconobacter thailandicus\n"
     ]
    },
    {
     "name": "stderr",
     "output_type": "stream",
     "text": [
      "100%|██████████| 1/1 [00:00<00:00,  1.25it/s]\n"
     ]
    },
    {
     "name": "stdout",
     "output_type": "stream",
     "text": [
      "Retrieving information on: Zobellia galactanivorans\n"
     ]
    },
    {
     "name": "stderr",
     "output_type": "stream",
     "text": [
      "100%|██████████| 1/1 [00:00<00:00,  2.04it/s]\n"
     ]
    },
    {
     "name": "stdout",
     "output_type": "stream",
     "text": [
      "Retrieving information on: Pseudomonas fluorescens\n"
     ]
    },
    {
     "name": "stderr",
     "output_type": "stream",
     "text": [
      "100%|██████████| 51/51 [00:22<00:00,  2.31it/s]\n"
     ]
    },
    {
     "name": "stdout",
     "output_type": "stream",
     "text": [
      "Retrieving information on: Burkholderia xenovorans\n"
     ]
    },
    {
     "name": "stderr",
     "output_type": "stream",
     "text": [
      "/home/dashik/projects/180917_bac-temp/BacDivePy/bacdive/DSMZClient_temp.py:39: UserWarning: no information found for: Burkholderia xenovorans\n",
      "  warn('no information found for: ' + str(search_value))\n"
     ]
    },
    {
     "name": "stdout",
     "output_type": "stream",
     "text": [
      "Retrieving information on: Roseivivax isoporae\n"
     ]
    },
    {
     "name": "stderr",
     "output_type": "stream",
     "text": [
      "100%|██████████| 2/2 [00:00<00:00,  2.59it/s]\n"
     ]
    },
    {
     "name": "stdout",
     "output_type": "stream",
     "text": [
      "Retrieving information on: Rubellimicrobium thermophilum\n"
     ]
    },
    {
     "name": "stderr",
     "output_type": "stream",
     "text": [
      "100%|██████████| 1/1 [00:00<00:00,  2.12it/s]\n"
     ]
    },
    {
     "name": "stdout",
     "output_type": "stream",
     "text": [
      "Retrieving information on: Pseudomonas psychrotolerans\n"
     ]
    },
    {
     "name": "stderr",
     "output_type": "stream",
     "text": [
      "100%|██████████| 1/1 [00:00<00:00,  2.44it/s]\n"
     ]
    },
    {
     "name": "stdout",
     "output_type": "stream",
     "text": [
      "Retrieving information on: Thiobacillus prosperus\n"
     ]
    },
    {
     "name": "stderr",
     "output_type": "stream",
     "text": [
      "/home/dashik/projects/180917_bac-temp/BacDivePy/bacdive/DSMZClient_temp.py:39: UserWarning: no information found for: Thiobacillus prosperus\n",
      "  warn('no information found for: ' + str(search_value))\n"
     ]
    },
    {
     "name": "stdout",
     "output_type": "stream",
     "text": [
      "Retrieving information on: Xanthomonas translucens\n"
     ]
    },
    {
     "name": "stderr",
     "output_type": "stream",
     "text": [
      "100%|██████████| 1/1 [00:00<00:00,  1.31it/s]\n"
     ]
    },
    {
     "name": "stdout",
     "output_type": "stream",
     "text": [
      "Retrieving information on: Dinoroseobacter shibae\n"
     ]
    },
    {
     "name": "stderr",
     "output_type": "stream",
     "text": [
      "100%|██████████| 1/1 [00:00<00:00,  2.11it/s]\n"
     ]
    },
    {
     "name": "stdout",
     "output_type": "stream",
     "text": [
      "Retrieving information on: Nitratireductor basaltis\n"
     ]
    },
    {
     "name": "stderr",
     "output_type": "stream",
     "text": [
      "100%|██████████| 1/1 [00:00<00:00,  2.29it/s]\n"
     ]
    },
    {
     "name": "stdout",
     "output_type": "stream",
     "text": [
      "Retrieving information on: Planococcus halocryophilus\n"
     ]
    },
    {
     "name": "stderr",
     "output_type": "stream",
     "text": [
      "100%|██████████| 1/1 [00:00<00:00,  2.60it/s]\n"
     ]
    },
    {
     "name": "stdout",
     "output_type": "stream",
     "text": [
      "Retrieving information on: Thioalkalimicrobium cyclicum\n"
     ]
    },
    {
     "name": "stderr",
     "output_type": "stream",
     "text": [
      "/home/dashik/projects/180917_bac-temp/BacDivePy/bacdive/DSMZClient_temp.py:39: UserWarning: no information found for: Thioalkalimicrobium cyclicum\n",
      "  warn('no information found for: ' + str(search_value))\n"
     ]
    },
    {
     "name": "stdout",
     "output_type": "stream",
     "text": [
      "Retrieving information on: Anabaena variabilis\n"
     ]
    },
    {
     "name": "stderr",
     "output_type": "stream",
     "text": [
      "/home/dashik/projects/180917_bac-temp/BacDivePy/bacdive/DSMZClient_temp.py:39: UserWarning: no information found for: Anabaena variabilis\n",
      "  warn('no information found for: ' + str(search_value))\n"
     ]
    },
    {
     "name": "stdout",
     "output_type": "stream",
     "text": [
      "Retrieving information on: Pseudomonas putida\n"
     ]
    },
    {
     "name": "stderr",
     "output_type": "stream",
     "text": [
      "100%|██████████| 82/82 [00:31<00:00,  2.59it/s]\n"
     ]
    },
    {
     "name": "stdout",
     "output_type": "stream",
     "text": [
      "Retrieving information on: Halobacillus halophilus\n"
     ]
    },
    {
     "name": "stderr",
     "output_type": "stream",
     "text": [
      "100%|██████████| 21/21 [00:08<00:00,  2.53it/s]\n"
     ]
    },
    {
     "name": "stdout",
     "output_type": "stream",
     "text": [
      "Retrieving information on: Terriglobus roseus\n"
     ]
    },
    {
     "name": "stderr",
     "output_type": "stream",
     "text": [
      "100%|██████████| 1/1 [00:00<00:00,  2.24it/s]\n"
     ]
    },
    {
     "name": "stdout",
     "output_type": "stream",
     "text": [
      "Retrieving information on: Kangiella koreensis\n"
     ]
    },
    {
     "name": "stderr",
     "output_type": "stream",
     "text": [
      "100%|██████████| 1/1 [00:00<00:00,  2.53it/s]\n"
     ]
    },
    {
     "name": "stdout",
     "output_type": "stream",
     "text": [
      "Retrieving information on: Oceanicola granulosus\n"
     ]
    },
    {
     "name": "stderr",
     "output_type": "stream",
     "text": [
      "100%|██████████| 2/2 [00:00<00:00,  2.21it/s]\n"
     ]
    },
    {
     "name": "stdout",
     "output_type": "stream",
     "text": [
      "Retrieving information on: Pseudomonas frederiksbergensis\n"
     ]
    },
    {
     "name": "stderr",
     "output_type": "stream",
     "text": [
      "100%|██████████| 2/2 [00:00<00:00,  2.66it/s]\n"
     ]
    },
    {
     "name": "stdout",
     "output_type": "stream",
     "text": [
      "Retrieving information on: Acetobacter indonesiensis\n"
     ]
    },
    {
     "name": "stderr",
     "output_type": "stream",
     "text": [
      "100%|██████████| 2/2 [00:00<00:00,  2.67it/s]\n"
     ]
    },
    {
     "name": "stdout",
     "output_type": "stream",
     "text": [
      "Retrieving information on: Ketogulonicigenium vulgare\n"
     ]
    },
    {
     "name": "stderr",
     "output_type": "stream",
     "text": [
      "/home/dashik/projects/180917_bac-temp/BacDivePy/bacdive/DSMZClient_temp.py:39: UserWarning: no information found for: Ketogulonicigenium vulgare\n",
      "  warn('no information found for: ' + str(search_value))\n"
     ]
    },
    {
     "name": "stdout",
     "output_type": "stream",
     "text": [
      "Retrieving information on: Asaia platycodi\n"
     ]
    },
    {
     "name": "stderr",
     "output_type": "stream",
     "text": [
      "100%|██████████| 1/1 [00:00<00:00,  2.75it/s]\n"
     ]
    },
    {
     "name": "stdout",
     "output_type": "stream",
     "text": [
      "Retrieving information on: Burkholderia caribensis\n"
     ]
    },
    {
     "name": "stderr",
     "output_type": "stream",
     "text": [
      "/home/dashik/projects/180917_bac-temp/BacDivePy/bacdive/DSMZClient_temp.py:39: UserWarning: no information found for: Burkholderia caribensis\n",
      "  warn('no information found for: ' + str(search_value))\n"
     ]
    },
    {
     "name": "stdout",
     "output_type": "stream",
     "text": [
      "Retrieving information on: Methylomicrobium alcaliphilum\n"
     ]
    },
    {
     "name": "stderr",
     "output_type": "stream",
     "text": [
      "100%|██████████| 1/1 [00:00<00:00,  1.45it/s]\n"
     ]
    },
    {
     "name": "stdout",
     "output_type": "stream",
     "text": [
      "Retrieving information on: Altererythrobacter atlanticus\n"
     ]
    },
    {
     "name": "stderr",
     "output_type": "stream",
     "text": [
      "100%|██████████| 1/1 [00:00<00:00,  2.57it/s]\n"
     ]
    },
    {
     "name": "stdout",
     "output_type": "stream",
     "text": [
      "Retrieving information on: Coleofasciculus chthonoplastes\n"
     ]
    },
    {
     "name": "stderr",
     "output_type": "stream",
     "text": [
      "/home/dashik/projects/180917_bac-temp/BacDivePy/bacdive/DSMZClient_temp.py:39: UserWarning: no information found for: Coleofasciculus chthonoplastes\n",
      "  warn('no information found for: ' + str(search_value))\n"
     ]
    },
    {
     "name": "stdout",
     "output_type": "stream",
     "text": [
      "Retrieving information on: Nitrosomonas communis\n"
     ]
    },
    {
     "name": "stderr",
     "output_type": "stream",
     "text": [
      "100%|██████████| 1/1 [00:00<00:00,  2.26it/s]\n"
     ]
    },
    {
     "name": "stdout",
     "output_type": "stream",
     "text": [
      "Retrieving information on: Ralstonia disease\n"
     ]
    },
    {
     "name": "stderr",
     "output_type": "stream",
     "text": [
      "/home/dashik/projects/180917_bac-temp/BacDivePy/bacdive/DSMZClient_temp.py:39: UserWarning: no information found for: Ralstonia disease\n",
      "  warn('no information found for: ' + str(search_value))\n"
     ]
    },
    {
     "name": "stdout",
     "output_type": "stream",
     "text": [
      "Retrieving information on: Pseudomonas kilonensis\n"
     ]
    },
    {
     "name": "stderr",
     "output_type": "stream",
     "text": [
      "100%|██████████| 1/1 [00:00<00:00,  1.25it/s]\n"
     ]
    },
    {
     "name": "stdout",
     "output_type": "stream",
     "text": [
      "Retrieving information on: Sphingobium japonicum\n"
     ]
    },
    {
     "name": "stderr",
     "output_type": "stream",
     "text": [
      "100%|██████████| 1/1 [00:00<00:00,  1.82it/s]\n"
     ]
    },
    {
     "name": "stdout",
     "output_type": "stream",
     "text": [
      "Retrieving information on: Xanthomonas albilineans\n"
     ]
    },
    {
     "name": "stderr",
     "output_type": "stream",
     "text": [
      "100%|██████████| 1/1 [00:00<00:00,  2.61it/s]\n"
     ]
    },
    {
     "name": "stdout",
     "output_type": "stream",
     "text": [
      "Retrieving information on: Rhodobacter sphaeroides\n"
     ]
    },
    {
     "name": "stderr",
     "output_type": "stream",
     "text": [
      "100%|██████████| 8/8 [00:03<00:00,  2.48it/s]\n"
     ]
    },
    {
     "name": "stdout",
     "output_type": "stream",
     "text": [
      "Retrieving information on: Meiothermus ruber\n"
     ]
    },
    {
     "name": "stderr",
     "output_type": "stream",
     "text": [
      "100%|██████████| 1/1 [00:00<00:00,  2.39it/s]\n"
     ]
    },
    {
     "name": "stdout",
     "output_type": "stream",
     "text": [
      "Retrieving information on: Acinetobacter bohemicus\n"
     ]
    },
    {
     "name": "stderr",
     "output_type": "stream",
     "text": [
      "100%|██████████| 2/2 [00:00<00:00,  2.60it/s]\n"
     ]
    },
    {
     "name": "stdout",
     "output_type": "stream",
     "text": [
      "Retrieving information on: Burkholderia phymatum\n"
     ]
    },
    {
     "name": "stderr",
     "output_type": "stream",
     "text": [
      "100%|██████████| 1/1 [00:00<00:00,  2.74it/s]\n"
     ]
    },
    {
     "name": "stdout",
     "output_type": "stream",
     "text": [
      "Retrieving information on: Roseomonas cervicalis\n"
     ]
    },
    {
     "name": "stderr",
     "output_type": "stream",
     "text": [
      "100%|██████████| 1/1 [00:00<00:00,  2.71it/s]\n"
     ]
    },
    {
     "name": "stdout",
     "output_type": "stream",
     "text": [
      "Retrieving information on: Leptospirillum ferrooxidans\n"
     ]
    },
    {
     "name": "stderr",
     "output_type": "stream",
     "text": [
      "100%|██████████| 2/2 [00:00<00:00,  2.60it/s]\n"
     ]
    },
    {
     "name": "stdout",
     "output_type": "stream",
     "text": [
      "Retrieving information on: Skermanella aerolata\n"
     ]
    },
    {
     "name": "stderr",
     "output_type": "stream",
     "text": [
      "100%|██████████| 1/1 [00:00<00:00,  2.13it/s]\n"
     ]
    },
    {
     "name": "stdout",
     "output_type": "stream",
     "text": [
      "Retrieving information on: Mucilaginibacter paludis\n"
     ]
    },
    {
     "name": "stderr",
     "output_type": "stream",
     "text": [
      "100%|██████████| 1/1 [00:00<00:00,  1.71it/s]\n"
     ]
    },
    {
     "name": "stdout",
     "output_type": "stream",
     "text": [
      "Retrieving information on: Lyngbya aestuarii\n"
     ]
    },
    {
     "name": "stderr",
     "output_type": "stream",
     "text": [
      "/home/dashik/projects/180917_bac-temp/BacDivePy/bacdive/DSMZClient_temp.py:39: UserWarning: no information found for: Lyngbya aestuarii\n",
      "  warn('no information found for: ' + str(search_value))\n"
     ]
    },
    {
     "name": "stdout",
     "output_type": "stream",
     "text": [
      "Retrieving information on: Beutenbergia cavernae\n"
     ]
    },
    {
     "name": "stderr",
     "output_type": "stream",
     "text": [
      "100%|██████████| 4/4 [00:01<00:00,  2.40it/s]\n"
     ]
    },
    {
     "name": "stdout",
     "output_type": "stream",
     "text": [
      "Retrieving information on: Brucella abortus\n"
     ]
    },
    {
     "name": "stderr",
     "output_type": "stream",
     "text": [
      "/home/dashik/projects/180917_bac-temp/BacDivePy/bacdive/DSMZClient_temp.py:39: UserWarning: no information found for: Brucella abortus\n",
      "  warn('no information found for: ' + str(search_value))\n"
     ]
    },
    {
     "name": "stdout",
     "output_type": "stream",
     "text": [
      "Retrieving information on: Actinotalea ferrariae\n"
     ]
    },
    {
     "name": "stderr",
     "output_type": "stream",
     "text": [
      "100%|██████████| 1/1 [00:00<00:00,  2.70it/s]\n"
     ]
    },
    {
     "name": "stdout",
     "output_type": "stream",
     "text": [
      "Retrieving information on: Listeria grayi\n"
     ]
    },
    {
     "name": "stderr",
     "output_type": "stream",
     "text": [
      "100%|██████████| 6/6 [00:02<00:00,  2.54it/s]\n"
     ]
    },
    {
     "name": "stdout",
     "output_type": "stream",
     "text": [
      "Retrieving information on: Bacillus amyloliquefaciens\n"
     ]
    },
    {
     "name": "stderr",
     "output_type": "stream",
     "text": [
      "100%|██████████| 10/10 [00:04<00:00,  2.34it/s]\n"
     ]
    },
    {
     "name": "stdout",
     "output_type": "stream",
     "text": [
      "Retrieving information on: Bradyrhizobium oligotrophicum\n"
     ]
    },
    {
     "name": "stderr",
     "output_type": "stream",
     "text": [
      "100%|██████████| 1/1 [00:00<00:00,  2.36it/s]\n"
     ]
    },
    {
     "name": "stdout",
     "output_type": "stream",
     "text": [
      "Retrieving information on: Oceanobacillus iheyensis\n"
     ]
    },
    {
     "name": "stderr",
     "output_type": "stream",
     "text": [
      "100%|██████████| 1/1 [00:00<00:00,  2.57it/s]\n"
     ]
    },
    {
     "name": "stdout",
     "output_type": "stream",
     "text": [
      "Retrieving information on: Sphingopyxis fribergensis\n"
     ]
    },
    {
     "name": "stderr",
     "output_type": "stream",
     "text": [
      "100%|██████████| 1/1 [00:00<00:00,  2.63it/s]\n"
     ]
    },
    {
     "name": "stdout",
     "output_type": "stream",
     "text": [
      "Retrieving information on: Pseudomonas batumici\n"
     ]
    },
    {
     "name": "stderr",
     "output_type": "stream",
     "text": [
      "/home/dashik/projects/180917_bac-temp/BacDivePy/bacdive/DSMZClient_temp.py:39: UserWarning: no information found for: Pseudomonas batumici\n",
      "  warn('no information found for: ' + str(search_value))\n"
     ]
    },
    {
     "name": "stdout",
     "output_type": "stream",
     "text": [
      "Retrieving information on: Rhizobium leguminosarum\n"
     ]
    },
    {
     "name": "stderr",
     "output_type": "stream",
     "text": [
      "100%|██████████| 16/16 [00:06<00:00,  2.56it/s]\n"
     ]
    },
    {
     "name": "stdout",
     "output_type": "stream",
     "text": [
      "Retrieving information on: Rhodospirillum centenum\n"
     ]
    },
    {
     "name": "stderr",
     "output_type": "stream",
     "text": [
      "/home/dashik/projects/180917_bac-temp/BacDivePy/bacdive/DSMZClient_temp.py:39: UserWarning: no information found for: Rhodospirillum centenum\n",
      "  warn('no information found for: ' + str(search_value))\n"
     ]
    },
    {
     "name": "stdout",
     "output_type": "stream",
     "text": [
      "Retrieving information on: Glaciecola nitratireducens\n"
     ]
    },
    {
     "name": "stderr",
     "output_type": "stream",
     "text": [
      "/home/dashik/projects/180917_bac-temp/BacDivePy/bacdive/DSMZClient_temp.py:39: UserWarning: no information found for: Glaciecola nitratireducens\n",
      "  warn('no information found for: ' + str(search_value))\n"
     ]
    },
    {
     "name": "stdout",
     "output_type": "stream",
     "text": [
      "Retrieving information on: Leisingera methylohalidivorans\n"
     ]
    },
    {
     "name": "stderr",
     "output_type": "stream",
     "text": [
      "100%|██████████| 1/1 [00:00<00:00,  2.62it/s]\n"
     ]
    },
    {
     "name": "stdout",
     "output_type": "stream",
     "text": [
      "Retrieving information on: Cellulomonas fimi\n"
     ]
    },
    {
     "name": "stderr",
     "output_type": "stream",
     "text": [
      "100%|██████████| 2/2 [00:00<00:00,  2.43it/s]\n"
     ]
    },
    {
     "name": "stdout",
     "output_type": "stream",
     "text": [
      "Retrieving information on: Xanthomonas Nyagatare\n"
     ]
    },
    {
     "name": "stderr",
     "output_type": "stream",
     "text": [
      "/home/dashik/projects/180917_bac-temp/BacDivePy/bacdive/DSMZClient_temp.py:39: UserWarning: no information found for: Xanthomonas Nyagatare\n",
      "  warn('no information found for: ' + str(search_value))\n"
     ]
    },
    {
     "name": "stdout",
     "output_type": "stream",
     "text": [
      "Retrieving information on: Oscillatoria acuminata\n"
     ]
    },
    {
     "name": "stderr",
     "output_type": "stream",
     "text": [
      "/home/dashik/projects/180917_bac-temp/BacDivePy/bacdive/DSMZClient_temp.py:39: UserWarning: no information found for: Oscillatoria acuminata\n",
      "  warn('no information found for: ' + str(search_value))\n"
     ]
    },
    {
     "name": "stdout",
     "output_type": "stream",
     "text": [
      "Retrieving information on: Bacillus nealsonii\n"
     ]
    },
    {
     "name": "stderr",
     "output_type": "stream",
     "text": [
      "100%|██████████| 1/1 [00:00<00:00,  2.56it/s]\n"
     ]
    },
    {
     "name": "stdout",
     "output_type": "stream",
     "text": [
      "Retrieving information on: Acaryochloris marina\n"
     ]
    },
    {
     "name": "stderr",
     "output_type": "stream",
     "text": [
      "/home/dashik/projects/180917_bac-temp/BacDivePy/bacdive/DSMZClient_temp.py:39: UserWarning: no information found for: Acaryochloris marina\n",
      "  warn('no information found for: ' + str(search_value))\n"
     ]
    },
    {
     "name": "stdout",
     "output_type": "stream",
     "text": [
      "Retrieving information on: Rhizobium lupini\n"
     ]
    },
    {
     "name": "stderr",
     "output_type": "stream",
     "text": [
      "100%|██████████| 13/13 [00:04<00:00,  2.64it/s]\n"
     ]
    },
    {
     "name": "stdout",
     "output_type": "stream",
     "text": [
      "Retrieving information on: Pseudomonas chlororaphis\n"
     ]
    },
    {
     "name": "stderr",
     "output_type": "stream",
     "text": [
      "100%|██████████| 14/14 [00:05<00:00,  2.47it/s]\n"
     ]
    },
    {
     "name": "stdout",
     "output_type": "stream",
     "text": [
      "Retrieving information on: Listeria grandensis\n"
     ]
    },
    {
     "name": "stderr",
     "output_type": "stream",
     "text": [
      "100%|██████████| 1/1 [00:00<00:00,  2.46it/s]\n"
     ]
    },
    {
     "name": "stdout",
     "output_type": "stream",
     "text": [
      "Retrieving information on: Pseudomonas savastanoi\n"
     ]
    },
    {
     "name": "stderr",
     "output_type": "stream",
     "text": [
      "100%|██████████| 7/7 [00:02<00:00,  2.51it/s]\n"
     ]
    },
    {
     "name": "stdout",
     "output_type": "stream",
     "text": [
      "Retrieving information on: Xanthomonas arboricola\n"
     ]
    },
    {
     "name": "stderr",
     "output_type": "stream",
     "text": [
      "100%|██████████| 4/4 [00:01<00:00,  2.50it/s]\n"
     ]
    },
    {
     "name": "stdout",
     "output_type": "stream",
     "text": [
      "Retrieving information on: Novosphingobium nitrogenifigens\n"
     ]
    },
    {
     "name": "stderr",
     "output_type": "stream",
     "text": [
      "100%|██████████| 1/1 [00:00<00:00,  1.91it/s]\n"
     ]
    },
    {
     "name": "stdout",
     "output_type": "stream",
     "text": [
      "Retrieving information on: Paenibacillus polymyxa\n"
     ]
    },
    {
     "name": "stderr",
     "output_type": "stream",
     "text": [
      "100%|██████████| 21/21 [00:10<00:00,  2.03it/s]\n"
     ]
    },
    {
     "name": "stdout",
     "output_type": "stream",
     "text": [
      "Retrieving information on: Jeotgalibacillus malaysiensis\n"
     ]
    },
    {
     "name": "stderr",
     "output_type": "stream",
     "text": [
      "100%|██████████| 1/1 [00:00<00:00,  2.50it/s]\n"
     ]
    },
    {
     "name": "stdout",
     "output_type": "stream",
     "text": [
      "Retrieving information on: Sphingomonas taxi\n"
     ]
    },
    {
     "name": "stderr",
     "output_type": "stream",
     "text": [
      "/home/dashik/projects/180917_bac-temp/BacDivePy/bacdive/DSMZClient_temp.py:39: UserWarning: no information found for: Sphingomonas taxi\n",
      "  warn('no information found for: ' + str(search_value))\n"
     ]
    },
    {
     "name": "stdout",
     "output_type": "stream",
     "text": [
      "Retrieving information on: Pseudomonas cichorii\n"
     ]
    },
    {
     "name": "stderr",
     "output_type": "stream",
     "text": [
      "100%|██████████| 4/4 [00:01<00:00,  2.49it/s]\n"
     ]
    },
    {
     "name": "stdout",
     "output_type": "stream",
     "text": [
      "Retrieving information on: Methylobacterium nodulans\n"
     ]
    },
    {
     "name": "stderr",
     "output_type": "stream",
     "text": [
      "100%|██████████| 1/1 [00:00<00:00,  2.50it/s]\n"
     ]
    },
    {
     "name": "stdout",
     "output_type": "stream",
     "text": [
      "Retrieving information on: Thioalkalivibrio sulfidiphilus\n"
     ]
    },
    {
     "name": "stderr",
     "output_type": "stream",
     "text": [
      "100%|██████████| 1/1 [00:00<00:00,  2.67it/s]\n"
     ]
    },
    {
     "name": "stdout",
     "output_type": "stream",
     "text": [
      "Retrieving information on: Chloroflexus aurantiacus\n"
     ]
    },
    {
     "name": "stderr",
     "output_type": "stream",
     "text": [
      "100%|██████████| 4/4 [00:01<00:00,  2.60it/s]\n"
     ]
    },
    {
     "name": "stdout",
     "output_type": "stream",
     "text": [
      "Retrieving information on: Bermanella marisrubri\n"
     ]
    },
    {
     "name": "stderr",
     "output_type": "stream",
     "text": [
      "100%|██████████| 1/1 [00:00<00:00,  2.66it/s]\n"
     ]
    },
    {
     "name": "stdout",
     "output_type": "stream",
     "text": [
      "Retrieving information on: Pseudomonas brassicacearum\n"
     ]
    },
    {
     "name": "stderr",
     "output_type": "stream",
     "text": [
      "100%|██████████| 4/4 [00:01<00:00,  2.59it/s]\n"
     ]
    },
    {
     "name": "stdout",
     "output_type": "stream",
     "text": [
      "Retrieving information on: Epilithonimonas lactis\n"
     ]
    },
    {
     "name": "stderr",
     "output_type": "stream",
     "text": [
      "/home/dashik/projects/180917_bac-temp/BacDivePy/bacdive/DSMZClient_temp.py:39: UserWarning: no information found for: Epilithonimonas lactis\n",
      "  warn('no information found for: ' + str(search_value))\n"
     ]
    },
    {
     "name": "stdout",
     "output_type": "stream",
     "text": [
      "Retrieving information on: Synechococcus elongatus\n"
     ]
    },
    {
     "name": "stderr",
     "output_type": "stream",
     "text": [
      "/home/dashik/projects/180917_bac-temp/BacDivePy/bacdive/DSMZClient_temp.py:39: UserWarning: no information found for: Synechococcus elongatus\n",
      "  warn('no information found for: ' + str(search_value))\n"
     ]
    },
    {
     "name": "stdout",
     "output_type": "stream",
     "text": [
      "Retrieving information on: Burkholderia fungorum\n"
     ]
    },
    {
     "name": "stderr",
     "output_type": "stream",
     "text": [
      "100%|██████████| 2/2 [00:00<00:00,  2.64it/s]\n"
     ]
    },
    {
     "name": "stdout",
     "output_type": "stream",
     "text": [
      "Retrieving information on: Arthrospira platensis\n"
     ]
    },
    {
     "name": "stderr",
     "output_type": "stream",
     "text": [
      "/home/dashik/projects/180917_bac-temp/BacDivePy/bacdive/DSMZClient_temp.py:39: UserWarning: no information found for: Arthrospira platensis\n",
      "  warn('no information found for: ' + str(search_value))\n"
     ]
    },
    {
     "name": "stdout",
     "output_type": "stream",
     "text": [
      "Retrieving information on: Nitrosococcus halophilus\n"
     ]
    },
    {
     "name": "stderr",
     "output_type": "stream",
     "text": [
      "/home/dashik/projects/180917_bac-temp/BacDivePy/bacdive/DSMZClient_temp.py:39: UserWarning: no information found for: Nitrosococcus halophilus\n",
      "  warn('no information found for: ' + str(search_value))\n"
     ]
    },
    {
     "name": "stdout",
     "output_type": "stream",
     "text": [
      "Retrieving information on: Listeria ivanovii\n"
     ]
    },
    {
     "name": "stderr",
     "output_type": "stream",
     "text": [
      "100%|██████████| 5/5 [00:02<00:00,  2.26it/s]\n"
     ]
    }
   ],
   "source": [
    "txns = taxons_\n",
    "for txn in txns:\n",
    "    \n",
    "    sp_s = retrieve_temp(txn, search_type='species')\n",
    "    if sp_s is not None:\n",
    "        sp_s = sp_s.swaplevel(0, 1, axis=0).sort_index()\n",
    "        if lookup(sp_s.loc['test_type'], 'optimum') != []:\n",
    "            t_t_list = lookup(sp_s.loc['test_type'], 'optimum')\n",
    "            temp = []\n",
    "            for ij in t_t_list:\n",
    "                temp.append(sp_s.loc[('temp', ij[0]), ij[1]])\n",
    "            txn_l = txn.split(' ')\n",
    "        \n",
    "            for i in lookindex(table['Genus'], txn_l[0]):\n",
    "                if table.iloc[i,6] == txn_l[1]:\n",
    "                    table.iloc[i,7] = ', '.join(temp)\n",
    "                \n",
    "        elif lookup(sp_s.loc['test_type'], 'growth') != []:\n",
    "        \n",
    "            t_t_list = lookup(sp_s.loc['test_type'], 'growth')\n",
    "            temp = []\n",
    "        \n",
    "            for ij in t_t_list:\n",
    "                temp.append(sp_s.loc[('temp', ij[0]), ij[1]])\n",
    "            \n",
    "            txn_l = txn.split(' ')\n",
    "        \n",
    "            for i in lookindex(table['Genus'], txn_l[0]):\n",
    "                if table.iloc[i,6] == txn_l[1]:\n",
    "                    table.iloc[i,7] = ', '.join(temp)\n",
    "            \n",
    "    \n",
    "                         "
   ]
  },
  {
   "cell_type": "code",
   "execution_count": null,
   "metadata": {},
   "outputs": [],
   "source": [
    "sp_s = retrieve('Thiohalocapsa Thiohalocapsa', search_type='species')\n",
    "sp_s"
   ]
  },
  {
   "cell_type": "code",
   "execution_count": 9,
   "metadata": {},
   "outputs": [
    {
     "data": {
      "text/html": [
       "<div>\n",
       "<style scoped>\n",
       "    .dataframe tbody tr th:only-of-type {\n",
       "        vertical-align: middle;\n",
       "    }\n",
       "\n",
       "    .dataframe tbody tr th {\n",
       "        vertical-align: top;\n",
       "    }\n",
       "\n",
       "    .dataframe thead th {\n",
       "        text-align: right;\n",
       "    }\n",
       "</style>\n",
       "<table border=\"1\" class=\"dataframe\">\n",
       "  <thead>\n",
       "    <tr style=\"text-align: right;\">\n",
       "      <th></th>\n",
       "      <th>Sequence ID</th>\n",
       "      <th>Phylum</th>\n",
       "      <th>Class</th>\n",
       "      <th>Family</th>\n",
       "      <th>Order</th>\n",
       "      <th>Genus</th>\n",
       "      <th>Species</th>\n",
       "      <th>Temperature</th>\n",
       "    </tr>\n",
       "  </thead>\n",
       "  <tbody>\n",
       "    <tr>\n",
       "      <th>0</th>\n",
       "      <td>B0C6M6</td>\n",
       "      <td>Cyanobacteria</td>\n",
       "      <td>Cyanophyceae</td>\n",
       "      <td>Chroococcales</td>\n",
       "      <td>Chroococcales-unclassified</td>\n",
       "      <td>Acaryochloris</td>\n",
       "      <td>marina</td>\n",
       "      <td>NaN</td>\n",
       "    </tr>\n",
       "    <tr>\n",
       "      <th>1</th>\n",
       "      <td>A0A0D6N889</td>\n",
       "      <td>Proteobacteria</td>\n",
       "      <td>Alphaproteobacteria</td>\n",
       "      <td>Rhodospirillales</td>\n",
       "      <td>Acetobacteraceae</td>\n",
       "      <td>Acetobacter</td>\n",
       "      <td>indonesiensis</td>\n",
       "      <td>30, 25</td>\n",
       "    </tr>\n",
       "    <tr>\n",
       "      <th>2</th>\n",
       "      <td>A0A0D6P985</td>\n",
       "      <td>Proteobacteria</td>\n",
       "      <td>Alphaproteobacteria</td>\n",
       "      <td>Rhodospirillales</td>\n",
       "      <td>Acetobacteraceae</td>\n",
       "      <td>Acidisphaera</td>\n",
       "      <td>rubrifaciens</td>\n",
       "      <td>30-35</td>\n",
       "    </tr>\n",
       "    <tr>\n",
       "      <th>3</th>\n",
       "      <td>A0A059ZR30</td>\n",
       "      <td>Proteobacteria</td>\n",
       "      <td>Gammaproteobacteria</td>\n",
       "      <td>Acidithiobacillales</td>\n",
       "      <td>Acidithiobacillaceae</td>\n",
       "      <td>Acidithiobacillus</td>\n",
       "      <td>caldus</td>\n",
       "      <td>37, 45</td>\n",
       "    </tr>\n",
       "    <tr>\n",
       "      <th>4</th>\n",
       "      <td>B7JB43</td>\n",
       "      <td>Proteobacteria</td>\n",
       "      <td>Gammaproteobacteria</td>\n",
       "      <td>Acidithiobacillales</td>\n",
       "      <td>Acidithiobacillaceae</td>\n",
       "      <td>Acidithiobacillus</td>\n",
       "      <td>ferrooxidans</td>\n",
       "      <td>28, 28, 30, 28, 30, 25, 25, 30, 30, 30</td>\n",
       "    </tr>\n",
       "    <tr>\n",
       "      <th>5</th>\n",
       "      <td>F8XM97</td>\n",
       "      <td>Proteobacteria</td>\n",
       "      <td>Gammaproteobacteria</td>\n",
       "      <td>Acidithiobacillales</td>\n",
       "      <td>Acidithiobacillaceae</td>\n",
       "      <td>Acidithiobacillus</td>\n",
       "      <td>sp.</td>\n",
       "      <td>NaN</td>\n",
       "    </tr>\n",
       "    <tr>\n",
       "      <th>6</th>\n",
       "      <td>F9ZQB1</td>\n",
       "      <td>Proteobacteria</td>\n",
       "      <td>Gammaproteobacteria</td>\n",
       "      <td>Acidithiobacillales</td>\n",
       "      <td>Acidithiobacillaceae</td>\n",
       "      <td>Acidithiobacillus</td>\n",
       "      <td>caldus</td>\n",
       "      <td>37, 45</td>\n",
       "    </tr>\n",
       "    <tr>\n",
       "      <th>7</th>\n",
       "      <td>A0A0D6PK05</td>\n",
       "      <td>Proteobacteria</td>\n",
       "      <td>Alphaproteobacteria</td>\n",
       "      <td>Rhodospirillales</td>\n",
       "      <td>Acetobacteraceae</td>\n",
       "      <td>Acidocella</td>\n",
       "      <td>aminolytica</td>\n",
       "      <td>37</td>\n",
       "    </tr>\n",
       "    <tr>\n",
       "      <th>8</th>\n",
       "      <td>A1TT27</td>\n",
       "      <td>Proteobacteria</td>\n",
       "      <td>Betaproteobacteria</td>\n",
       "      <td>Burkholderiales</td>\n",
       "      <td>Comamonadaceae</td>\n",
       "      <td>Acidovorax</td>\n",
       "      <td>citrulli</td>\n",
       "      <td>28, 28, 28, 28, 25</td>\n",
       "    </tr>\n",
       "    <tr>\n",
       "      <th>9</th>\n",
       "      <td>F0QBL7</td>\n",
       "      <td>Proteobacteria</td>\n",
       "      <td>Betaproteobacteria</td>\n",
       "      <td>Burkholderiales</td>\n",
       "      <td>Comamonadaceae</td>\n",
       "      <td>Acidovorax</td>\n",
       "      <td>avenae</td>\n",
       "      <td>25, 25, 25, 30</td>\n",
       "    </tr>\n",
       "    <tr>\n",
       "      <th>10</th>\n",
       "      <td>A0A009EVU7</td>\n",
       "      <td>Proteobacteria</td>\n",
       "      <td>Gammaproteobacteria</td>\n",
       "      <td>Pseudomonadales</td>\n",
       "      <td>Moraxellaceae</td>\n",
       "      <td>Acinetobacter</td>\n",
       "      <td>baumannii</td>\n",
       "      <td>30, 30, 30, 30, 30, 37, 30, 30, 30, 30, 30, 30...</td>\n",
       "    </tr>\n",
       "    <tr>\n",
       "      <th>11</th>\n",
       "      <td>A0A009JQP1</td>\n",
       "      <td>Proteobacteria</td>\n",
       "      <td>Gammaproteobacteria</td>\n",
       "      <td>Pseudomonadales</td>\n",
       "      <td>Moraxellaceae</td>\n",
       "      <td>Acinetobacter</td>\n",
       "      <td>baumannii</td>\n",
       "      <td>30, 30, 30, 30, 30, 37, 30, 30, 30, 30, 30, 30...</td>\n",
       "    </tr>\n",
       "    <tr>\n",
       "      <th>12</th>\n",
       "      <td>A0A009NCY2</td>\n",
       "      <td>Proteobacteria</td>\n",
       "      <td>Gammaproteobacteria</td>\n",
       "      <td>Pseudomonadales</td>\n",
       "      <td>Moraxellaceae</td>\n",
       "      <td>Acinetobacter</td>\n",
       "      <td>baumannii</td>\n",
       "      <td>30, 30, 30, 30, 30, 37, 30, 30, 30, 30, 30, 30...</td>\n",
       "    </tr>\n",
       "    <tr>\n",
       "      <th>13</th>\n",
       "      <td>A0A010FRR9</td>\n",
       "      <td>Proteobacteria</td>\n",
       "      <td>Gammaproteobacteria</td>\n",
       "      <td>Pseudomonadales</td>\n",
       "      <td>Moraxellaceae</td>\n",
       "      <td>Acinetobacter</td>\n",
       "      <td>baumannii</td>\n",
       "      <td>30, 30, 30, 30, 30, 37, 30, 30, 30, 30, 30, 30...</td>\n",
       "    </tr>\n",
       "    <tr>\n",
       "      <th>14</th>\n",
       "      <td>A0A010R2U6</td>\n",
       "      <td>Proteobacteria</td>\n",
       "      <td>Gammaproteobacteria</td>\n",
       "      <td>Pseudomonadales</td>\n",
       "      <td>Moraxellaceae</td>\n",
       "      <td>Acinetobacter</td>\n",
       "      <td>baumannii</td>\n",
       "      <td>30, 30, 30, 30, 30, 37, 30, 30, 30, 30, 30, 30...</td>\n",
       "    </tr>\n",
       "    <tr>\n",
       "      <th>15</th>\n",
       "      <td>A0A072D5C8</td>\n",
       "      <td>Proteobacteria</td>\n",
       "      <td>Gammaproteobacteria</td>\n",
       "      <td>Pseudomonadales</td>\n",
       "      <td>Moraxellaceae</td>\n",
       "      <td>Acinetobacter</td>\n",
       "      <td>sp.</td>\n",
       "      <td>NaN</td>\n",
       "    </tr>\n",
       "    <tr>\n",
       "      <th>16</th>\n",
       "      <td>A0A098YHK9</td>\n",
       "      <td>Proteobacteria</td>\n",
       "      <td>Gammaproteobacteria</td>\n",
       "      <td>Pseudomonadales</td>\n",
       "      <td>Moraxellaceae</td>\n",
       "      <td>Acinetobacter</td>\n",
       "      <td>idrijaensis</td>\n",
       "      <td>NaN</td>\n",
       "    </tr>\n",
       "    <tr>\n",
       "      <th>17</th>\n",
       "      <td>A0A0A3X446</td>\n",
       "      <td>Proteobacteria</td>\n",
       "      <td>Gammaproteobacteria</td>\n",
       "      <td>Pseudomonadales</td>\n",
       "      <td>Moraxellaceae</td>\n",
       "      <td>Acinetobacter</td>\n",
       "      <td>sp-HR7</td>\n",
       "      <td>NaN</td>\n",
       "    </tr>\n",
       "    <tr>\n",
       "      <th>18</th>\n",
       "      <td>A0A0E2GJU2</td>\n",
       "      <td>Proteobacteria</td>\n",
       "      <td>Gammaproteobacteria</td>\n",
       "      <td>Pseudomonadales</td>\n",
       "      <td>Moraxellaceae</td>\n",
       "      <td>Acinetobacter</td>\n",
       "      <td>radioresistens</td>\n",
       "      <td>30, 28, 30</td>\n",
       "    </tr>\n",
       "    <tr>\n",
       "      <th>19</th>\n",
       "      <td>A0A0F3L7C0</td>\n",
       "      <td>Proteobacteria</td>\n",
       "      <td>Gammaproteobacteria</td>\n",
       "      <td>Pseudomonadales</td>\n",
       "      <td>Moraxellaceae</td>\n",
       "      <td>Acinetobacter</td>\n",
       "      <td>brisoui</td>\n",
       "      <td>NaN</td>\n",
       "    </tr>\n",
       "    <tr>\n",
       "      <th>20</th>\n",
       "      <td>A0A0F3L9H4</td>\n",
       "      <td>Proteobacteria</td>\n",
       "      <td>Gammaproteobacteria</td>\n",
       "      <td>Pseudomonadales</td>\n",
       "      <td>Moraxellaceae</td>\n",
       "      <td>Acinetobacter</td>\n",
       "      <td>brisoui</td>\n",
       "      <td>NaN</td>\n",
       "    </tr>\n",
       "    <tr>\n",
       "      <th>21</th>\n",
       "      <td>C6RJR5</td>\n",
       "      <td>Proteobacteria</td>\n",
       "      <td>Gammaproteobacteria</td>\n",
       "      <td>Pseudomonadales</td>\n",
       "      <td>Moraxellaceae</td>\n",
       "      <td>Acinetobacter</td>\n",
       "      <td>radioresistens</td>\n",
       "      <td>30, 28, 30</td>\n",
       "    </tr>\n",
       "    <tr>\n",
       "      <th>22</th>\n",
       "      <td>D0SWD2</td>\n",
       "      <td>Proteobacteria</td>\n",
       "      <td>Gammaproteobacteria</td>\n",
       "      <td>Pseudomonadales</td>\n",
       "      <td>Moraxellaceae</td>\n",
       "      <td>Acinetobacter</td>\n",
       "      <td>lwoffii</td>\n",
       "      <td>28, 30, 30, 30, 30, 28, 30, 30, 28, 30, 30, 30...</td>\n",
       "    </tr>\n",
       "    <tr>\n",
       "      <th>23</th>\n",
       "      <td>N8NWV8</td>\n",
       "      <td>Proteobacteria</td>\n",
       "      <td>Gammaproteobacteria</td>\n",
       "      <td>Pseudomonadales</td>\n",
       "      <td>Moraxellaceae</td>\n",
       "      <td>Acinetobacter</td>\n",
       "      <td>bohemicus</td>\n",
       "      <td>25, 30</td>\n",
       "    </tr>\n",
       "    <tr>\n",
       "      <th>24</th>\n",
       "      <td>N8Q6A8</td>\n",
       "      <td>Proteobacteria</td>\n",
       "      <td>Gammaproteobacteria</td>\n",
       "      <td>Pseudomonadales</td>\n",
       "      <td>Moraxellaceae</td>\n",
       "      <td>Acinetobacter</td>\n",
       "      <td>sp.</td>\n",
       "      <td>NaN</td>\n",
       "    </tr>\n",
       "    <tr>\n",
       "      <th>25</th>\n",
       "      <td>N8TVY4</td>\n",
       "      <td>Proteobacteria</td>\n",
       "      <td>Gammaproteobacteria</td>\n",
       "      <td>Pseudomonadales</td>\n",
       "      <td>Moraxellaceae</td>\n",
       "      <td>Acinetobacter</td>\n",
       "      <td>lwoffii</td>\n",
       "      <td>28, 30, 30, 30, 30, 28, 30, 30, 28, 30, 30, 30...</td>\n",
       "    </tr>\n",
       "    <tr>\n",
       "      <th>26</th>\n",
       "      <td>N8VCG8</td>\n",
       "      <td>Proteobacteria</td>\n",
       "      <td>Gammaproteobacteria</td>\n",
       "      <td>Pseudomonadales</td>\n",
       "      <td>Moraxellaceae</td>\n",
       "      <td>Acinetobacter</td>\n",
       "      <td>sp.</td>\n",
       "      <td>NaN</td>\n",
       "    </tr>\n",
       "    <tr>\n",
       "      <th>27</th>\n",
       "      <td>N8VFZ2</td>\n",
       "      <td>Proteobacteria</td>\n",
       "      <td>Gammaproteobacteria</td>\n",
       "      <td>Pseudomonadales</td>\n",
       "      <td>Moraxellaceae</td>\n",
       "      <td>Acinetobacter</td>\n",
       "      <td>sp.</td>\n",
       "      <td>NaN</td>\n",
       "    </tr>\n",
       "    <tr>\n",
       "      <th>28</th>\n",
       "      <td>N8VGG5</td>\n",
       "      <td>Proteobacteria</td>\n",
       "      <td>Gammaproteobacteria</td>\n",
       "      <td>Pseudomonadales</td>\n",
       "      <td>Moraxellaceae</td>\n",
       "      <td>Acinetobacter</td>\n",
       "      <td>sp.</td>\n",
       "      <td>NaN</td>\n",
       "    </tr>\n",
       "    <tr>\n",
       "      <th>29</th>\n",
       "      <td>N9H4F1</td>\n",
       "      <td>Proteobacteria</td>\n",
       "      <td>Gammaproteobacteria</td>\n",
       "      <td>Pseudomonadales</td>\n",
       "      <td>Moraxellaceae</td>\n",
       "      <td>Acinetobacter</td>\n",
       "      <td>lwoffii</td>\n",
       "      <td>28, 30, 30, 30, 30, 28, 30, 30, 28, 30, 30, 30...</td>\n",
       "    </tr>\n",
       "    <tr>\n",
       "      <th>...</th>\n",
       "      <td>...</td>\n",
       "      <td>...</td>\n",
       "      <td>...</td>\n",
       "      <td>...</td>\n",
       "      <td>...</td>\n",
       "      <td>...</td>\n",
       "      <td>...</td>\n",
       "      <td>...</td>\n",
       "    </tr>\n",
       "    <tr>\n",
       "      <th>1116</th>\n",
       "      <td>A0A0B2NKH8</td>\n",
       "      <td>Proteobacteria</td>\n",
       "      <td>Gammaproteobacteria</td>\n",
       "      <td>Xanthomonadales</td>\n",
       "      <td>Xanthomonadaceae</td>\n",
       "      <td>Xanthomonas</td>\n",
       "      <td>campestris</td>\n",
       "      <td>26, 26, 26, 26, 25, 26, 26, 26, 26, 28, 25</td>\n",
       "    </tr>\n",
       "    <tr>\n",
       "      <th>1117</th>\n",
       "      <td>A0A0C5UYS1</td>\n",
       "      <td>Proteobacteria</td>\n",
       "      <td>Gammaproteobacteria</td>\n",
       "      <td>Xanthomonadales</td>\n",
       "      <td>Xanthomonadaceae</td>\n",
       "      <td>Xanthomonas</td>\n",
       "      <td>oryzae</td>\n",
       "      <td>NaN</td>\n",
       "    </tr>\n",
       "    <tr>\n",
       "      <th>1118</th>\n",
       "      <td>A0A0C7E126</td>\n",
       "      <td>Proteobacteria</td>\n",
       "      <td>Gammaproteobacteria</td>\n",
       "      <td>Xanthomonadales</td>\n",
       "      <td>Xanthomonadaceae</td>\n",
       "      <td>Xanthomonas</td>\n",
       "      <td>campestris</td>\n",
       "      <td>26, 26, 26, 26, 25, 26, 26, 26, 26, 28, 25</td>\n",
       "    </tr>\n",
       "    <tr>\n",
       "      <th>1119</th>\n",
       "      <td>A0A0D0M576</td>\n",
       "      <td>Proteobacteria</td>\n",
       "      <td>Gammaproteobacteria</td>\n",
       "      <td>Xanthomonadales</td>\n",
       "      <td>Xanthomonadaceae</td>\n",
       "      <td>Xanthomonas</td>\n",
       "      <td>campestris</td>\n",
       "      <td>26, 26, 26, 26, 25, 26, 26, 26, 26, 28, 25</td>\n",
       "    </tr>\n",
       "    <tr>\n",
       "      <th>1120</th>\n",
       "      <td>A0A0D6RNG2</td>\n",
       "      <td>Proteobacteria</td>\n",
       "      <td>Gammaproteobacteria</td>\n",
       "      <td>Xanthomonadales</td>\n",
       "      <td>Xanthomonadaceae</td>\n",
       "      <td>Xanthomonas</td>\n",
       "      <td>vasicola</td>\n",
       "      <td>30, 28</td>\n",
       "    </tr>\n",
       "    <tr>\n",
       "      <th>1121</th>\n",
       "      <td>A0A0E2YWY1</td>\n",
       "      <td>Proteobacteria</td>\n",
       "      <td>Gammaproteobacteria</td>\n",
       "      <td>Xanthomonadales</td>\n",
       "      <td>Xanthomonadaceae</td>\n",
       "      <td>Xanthomonas</td>\n",
       "      <td>campestris</td>\n",
       "      <td>26, 26, 26, 26, 25, 26, 26, 26, 26, 28, 25</td>\n",
       "    </tr>\n",
       "    <tr>\n",
       "      <th>1122</th>\n",
       "      <td>A0A0E3YRQ9</td>\n",
       "      <td>Proteobacteria</td>\n",
       "      <td>Gammaproteobacteria</td>\n",
       "      <td>Xanthomonadales</td>\n",
       "      <td>Xanthomonadaceae</td>\n",
       "      <td>Xanthomonas</td>\n",
       "      <td>campestris</td>\n",
       "      <td>26, 26, 26, 26, 25, 26, 26, 26, 26, 28, 25</td>\n",
       "    </tr>\n",
       "    <tr>\n",
       "      <th>1123</th>\n",
       "      <td>B0RRL1</td>\n",
       "      <td>Proteobacteria</td>\n",
       "      <td>Gammaproteobacteria</td>\n",
       "      <td>Xanthomonadales</td>\n",
       "      <td>Xanthomonadaceae</td>\n",
       "      <td>Xanthomonas</td>\n",
       "      <td>campestris</td>\n",
       "      <td>26, 26, 26, 26, 25, 26, 26, 26, 26, 28, 25</td>\n",
       "    </tr>\n",
       "    <tr>\n",
       "      <th>1124</th>\n",
       "      <td>D2UAU2</td>\n",
       "      <td>Proteobacteria</td>\n",
       "      <td>Gammaproteobacteria</td>\n",
       "      <td>Xanthomonadales</td>\n",
       "      <td>Xanthomonadaceae</td>\n",
       "      <td>Xanthomonas</td>\n",
       "      <td>albilineans</td>\n",
       "      <td>26</td>\n",
       "    </tr>\n",
       "    <tr>\n",
       "      <th>1125</th>\n",
       "      <td>D4SVY4</td>\n",
       "      <td>Proteobacteria</td>\n",
       "      <td>Gammaproteobacteria</td>\n",
       "      <td>Xanthomonadales</td>\n",
       "      <td>Xanthomonadaceae</td>\n",
       "      <td>Xanthomonas</td>\n",
       "      <td>fuscans</td>\n",
       "      <td>NaN</td>\n",
       "    </tr>\n",
       "    <tr>\n",
       "      <th>1126</th>\n",
       "      <td>F0BB91</td>\n",
       "      <td>Proteobacteria</td>\n",
       "      <td>Gammaproteobacteria</td>\n",
       "      <td>Xanthomonadales</td>\n",
       "      <td>Xanthomonadaceae</td>\n",
       "      <td>Xanthomonas</td>\n",
       "      <td>vesicatoria</td>\n",
       "      <td>28</td>\n",
       "    </tr>\n",
       "    <tr>\n",
       "      <th>1127</th>\n",
       "      <td>F0BMJ4</td>\n",
       "      <td>Proteobacteria</td>\n",
       "      <td>Gammaproteobacteria</td>\n",
       "      <td>Xanthomonadales</td>\n",
       "      <td>Xanthomonadaceae</td>\n",
       "      <td>Xanthomonas</td>\n",
       "      <td>perforans</td>\n",
       "      <td>28</td>\n",
       "    </tr>\n",
       "    <tr>\n",
       "      <th>1128</th>\n",
       "      <td>F0C005</td>\n",
       "      <td>Proteobacteria</td>\n",
       "      <td>Gammaproteobacteria</td>\n",
       "      <td>Xanthomonadales</td>\n",
       "      <td>Xanthomonadaceae</td>\n",
       "      <td>Xanthomonas</td>\n",
       "      <td>gardneri</td>\n",
       "      <td>30</td>\n",
       "    </tr>\n",
       "    <tr>\n",
       "      <th>1129</th>\n",
       "      <td>G0CI52</td>\n",
       "      <td>Proteobacteria</td>\n",
       "      <td>Gammaproteobacteria</td>\n",
       "      <td>Xanthomonadales</td>\n",
       "      <td>Xanthomonadaceae</td>\n",
       "      <td>Xanthomonas</td>\n",
       "      <td>campestris</td>\n",
       "      <td>26, 26, 26, 26, 25, 26, 26, 26, 26, 28, 25</td>\n",
       "    </tr>\n",
       "    <tr>\n",
       "      <th>1130</th>\n",
       "      <td>G2LWN4</td>\n",
       "      <td>Proteobacteria</td>\n",
       "      <td>Gammaproteobacteria</td>\n",
       "      <td>Xanthomonadales</td>\n",
       "      <td>Xanthomonadaceae</td>\n",
       "      <td>Xanthomonas</td>\n",
       "      <td>axonopodis</td>\n",
       "      <td>30, 26</td>\n",
       "    </tr>\n",
       "    <tr>\n",
       "      <th>1131</th>\n",
       "      <td>H1XH46</td>\n",
       "      <td>Proteobacteria</td>\n",
       "      <td>Gammaproteobacteria</td>\n",
       "      <td>Xanthomonadales</td>\n",
       "      <td>Xanthomonadaceae</td>\n",
       "      <td>Xanthomonas</td>\n",
       "      <td>axonopodis</td>\n",
       "      <td>30, 26</td>\n",
       "    </tr>\n",
       "    <tr>\n",
       "      <th>1132</th>\n",
       "      <td>H8FDX1</td>\n",
       "      <td>Proteobacteria</td>\n",
       "      <td>Gammaproteobacteria</td>\n",
       "      <td>Xanthomonadales</td>\n",
       "      <td>Xanthomonadaceae</td>\n",
       "      <td>Xanthomonas</td>\n",
       "      <td>citri</td>\n",
       "      <td>26, 26</td>\n",
       "    </tr>\n",
       "    <tr>\n",
       "      <th>1133</th>\n",
       "      <td>K8G4G5</td>\n",
       "      <td>Proteobacteria</td>\n",
       "      <td>Gammaproteobacteria</td>\n",
       "      <td>Xanthomonadales</td>\n",
       "      <td>Xanthomonadaceae</td>\n",
       "      <td>Xanthomonas</td>\n",
       "      <td>axonopodis</td>\n",
       "      <td>30, 26</td>\n",
       "    </tr>\n",
       "    <tr>\n",
       "      <th>1134</th>\n",
       "      <td>K8ZG10</td>\n",
       "      <td>Proteobacteria</td>\n",
       "      <td>Gammaproteobacteria</td>\n",
       "      <td>Xanthomonadales</td>\n",
       "      <td>Xanthomonadaceae</td>\n",
       "      <td>Xanthomonas</td>\n",
       "      <td>translucens</td>\n",
       "      <td>28, 30</td>\n",
       "    </tr>\n",
       "    <tr>\n",
       "      <th>1135</th>\n",
       "      <td>L0SUV4</td>\n",
       "      <td>Proteobacteria</td>\n",
       "      <td>Gammaproteobacteria</td>\n",
       "      <td>Xanthomonadales</td>\n",
       "      <td>Xanthomonadaceae</td>\n",
       "      <td>Xanthomonas</td>\n",
       "      <td>translucens</td>\n",
       "      <td>28, 30</td>\n",
       "    </tr>\n",
       "    <tr>\n",
       "      <th>1136</th>\n",
       "      <td>L7FSH1</td>\n",
       "      <td>Proteobacteria</td>\n",
       "      <td>Gammaproteobacteria</td>\n",
       "      <td>Xanthomonadales</td>\n",
       "      <td>Xanthomonadaceae</td>\n",
       "      <td>Xanthomonas</td>\n",
       "      <td>translucens</td>\n",
       "      <td>28, 30</td>\n",
       "    </tr>\n",
       "    <tr>\n",
       "      <th>1137</th>\n",
       "      <td>M4UCA3</td>\n",
       "      <td>Proteobacteria</td>\n",
       "      <td>Gammaproteobacteria</td>\n",
       "      <td>Xanthomonadales</td>\n",
       "      <td>Xanthomonadaceae</td>\n",
       "      <td>Xanthomonas</td>\n",
       "      <td>axonopodis</td>\n",
       "      <td>30, 26</td>\n",
       "    </tr>\n",
       "    <tr>\n",
       "      <th>1138</th>\n",
       "      <td>Q3BRX8</td>\n",
       "      <td>Proteobacteria</td>\n",
       "      <td>Gammaproteobacteria</td>\n",
       "      <td>Xanthomonadales</td>\n",
       "      <td>Xanthomonadaceae</td>\n",
       "      <td>Xanthomonas</td>\n",
       "      <td>campestris</td>\n",
       "      <td>26, 26, 26, 26, 25, 26, 26, 26, 26, 28, 25</td>\n",
       "    </tr>\n",
       "    <tr>\n",
       "      <th>1139</th>\n",
       "      <td>Q8P827</td>\n",
       "      <td>Proteobacteria</td>\n",
       "      <td>Gammaproteobacteria</td>\n",
       "      <td>Xanthomonadales</td>\n",
       "      <td>Xanthomonadaceae</td>\n",
       "      <td>Xanthomonas</td>\n",
       "      <td>campestris</td>\n",
       "      <td>26, 26, 26, 26, 25, 26, 26, 26, 26, 28, 25</td>\n",
       "    </tr>\n",
       "    <tr>\n",
       "      <th>1140</th>\n",
       "      <td>Q8PJH6</td>\n",
       "      <td>Proteobacteria</td>\n",
       "      <td>Gammaproteobacteria</td>\n",
       "      <td>Xanthomonadales</td>\n",
       "      <td>Xanthomonadaceae</td>\n",
       "      <td>Xanthomonas</td>\n",
       "      <td>citri</td>\n",
       "      <td>26, 26</td>\n",
       "    </tr>\n",
       "    <tr>\n",
       "      <th>1141</th>\n",
       "      <td>U4M259</td>\n",
       "      <td>Proteobacteria</td>\n",
       "      <td>Gammaproteobacteria</td>\n",
       "      <td>Xanthomonadales</td>\n",
       "      <td>Xanthomonadaceae</td>\n",
       "      <td>Xanthomonas</td>\n",
       "      <td>citri</td>\n",
       "      <td>26, 26</td>\n",
       "    </tr>\n",
       "    <tr>\n",
       "      <th>1142</th>\n",
       "      <td>V7ZCM2</td>\n",
       "      <td>Proteobacteria</td>\n",
       "      <td>Gammaproteobacteria</td>\n",
       "      <td>Xanthomonadales</td>\n",
       "      <td>Xanthomonadaceae</td>\n",
       "      <td>Xanthomonas</td>\n",
       "      <td>hortorum</td>\n",
       "      <td>26, 26, 26, 30</td>\n",
       "    </tr>\n",
       "    <tr>\n",
       "      <th>1143</th>\n",
       "      <td>W4S2R1</td>\n",
       "      <td>Proteobacteria</td>\n",
       "      <td>Gammaproteobacteria</td>\n",
       "      <td>Xanthomonadales</td>\n",
       "      <td>Xanthomonadaceae</td>\n",
       "      <td>Xanthomonas</td>\n",
       "      <td>arboricola</td>\n",
       "      <td>26, 26, 28, 26</td>\n",
       "    </tr>\n",
       "    <tr>\n",
       "      <th>1144</th>\n",
       "      <td>Z4WJR2</td>\n",
       "      <td>Proteobacteria</td>\n",
       "      <td>Gammaproteobacteria</td>\n",
       "      <td>Xanthomonadales</td>\n",
       "      <td>Xanthomonadaceae</td>\n",
       "      <td>Xanthomonas</td>\n",
       "      <td>axonopodis</td>\n",
       "      <td>30, 26</td>\n",
       "    </tr>\n",
       "    <tr>\n",
       "      <th>1145</th>\n",
       "      <td>G0L288</td>\n",
       "      <td>Bacteroidetes</td>\n",
       "      <td>Flavobacteriia</td>\n",
       "      <td>Flavobacteriales</td>\n",
       "      <td>Flavobacteriaceae</td>\n",
       "      <td>Zobellia</td>\n",
       "      <td>galactanivorans</td>\n",
       "      <td>35, 30</td>\n",
       "    </tr>\n",
       "  </tbody>\n",
       "</table>\n",
       "<p>1146 rows × 8 columns</p>\n",
       "</div>"
      ],
      "text/plain": [
       "     Sequence ID          Phylum                Class               Family  \\\n",
       "0         B0C6M6   Cyanobacteria         Cyanophyceae        Chroococcales   \n",
       "1     A0A0D6N889  Proteobacteria  Alphaproteobacteria     Rhodospirillales   \n",
       "2     A0A0D6P985  Proteobacteria  Alphaproteobacteria     Rhodospirillales   \n",
       "3     A0A059ZR30  Proteobacteria  Gammaproteobacteria  Acidithiobacillales   \n",
       "4         B7JB43  Proteobacteria  Gammaproteobacteria  Acidithiobacillales   \n",
       "5         F8XM97  Proteobacteria  Gammaproteobacteria  Acidithiobacillales   \n",
       "6         F9ZQB1  Proteobacteria  Gammaproteobacteria  Acidithiobacillales   \n",
       "7     A0A0D6PK05  Proteobacteria  Alphaproteobacteria     Rhodospirillales   \n",
       "8         A1TT27  Proteobacteria   Betaproteobacteria      Burkholderiales   \n",
       "9         F0QBL7  Proteobacteria   Betaproteobacteria      Burkholderiales   \n",
       "10    A0A009EVU7  Proteobacteria  Gammaproteobacteria      Pseudomonadales   \n",
       "11    A0A009JQP1  Proteobacteria  Gammaproteobacteria      Pseudomonadales   \n",
       "12    A0A009NCY2  Proteobacteria  Gammaproteobacteria      Pseudomonadales   \n",
       "13    A0A010FRR9  Proteobacteria  Gammaproteobacteria      Pseudomonadales   \n",
       "14    A0A010R2U6  Proteobacteria  Gammaproteobacteria      Pseudomonadales   \n",
       "15    A0A072D5C8  Proteobacteria  Gammaproteobacteria      Pseudomonadales   \n",
       "16    A0A098YHK9  Proteobacteria  Gammaproteobacteria      Pseudomonadales   \n",
       "17    A0A0A3X446  Proteobacteria  Gammaproteobacteria      Pseudomonadales   \n",
       "18    A0A0E2GJU2  Proteobacteria  Gammaproteobacteria      Pseudomonadales   \n",
       "19    A0A0F3L7C0  Proteobacteria  Gammaproteobacteria      Pseudomonadales   \n",
       "20    A0A0F3L9H4  Proteobacteria  Gammaproteobacteria      Pseudomonadales   \n",
       "21        C6RJR5  Proteobacteria  Gammaproteobacteria      Pseudomonadales   \n",
       "22        D0SWD2  Proteobacteria  Gammaproteobacteria      Pseudomonadales   \n",
       "23        N8NWV8  Proteobacteria  Gammaproteobacteria      Pseudomonadales   \n",
       "24        N8Q6A8  Proteobacteria  Gammaproteobacteria      Pseudomonadales   \n",
       "25        N8TVY4  Proteobacteria  Gammaproteobacteria      Pseudomonadales   \n",
       "26        N8VCG8  Proteobacteria  Gammaproteobacteria      Pseudomonadales   \n",
       "27        N8VFZ2  Proteobacteria  Gammaproteobacteria      Pseudomonadales   \n",
       "28        N8VGG5  Proteobacteria  Gammaproteobacteria      Pseudomonadales   \n",
       "29        N9H4F1  Proteobacteria  Gammaproteobacteria      Pseudomonadales   \n",
       "...          ...             ...                  ...                  ...   \n",
       "1116  A0A0B2NKH8  Proteobacteria  Gammaproteobacteria      Xanthomonadales   \n",
       "1117  A0A0C5UYS1  Proteobacteria  Gammaproteobacteria      Xanthomonadales   \n",
       "1118  A0A0C7E126  Proteobacteria  Gammaproteobacteria      Xanthomonadales   \n",
       "1119  A0A0D0M576  Proteobacteria  Gammaproteobacteria      Xanthomonadales   \n",
       "1120  A0A0D6RNG2  Proteobacteria  Gammaproteobacteria      Xanthomonadales   \n",
       "1121  A0A0E2YWY1  Proteobacteria  Gammaproteobacteria      Xanthomonadales   \n",
       "1122  A0A0E3YRQ9  Proteobacteria  Gammaproteobacteria      Xanthomonadales   \n",
       "1123      B0RRL1  Proteobacteria  Gammaproteobacteria      Xanthomonadales   \n",
       "1124      D2UAU2  Proteobacteria  Gammaproteobacteria      Xanthomonadales   \n",
       "1125      D4SVY4  Proteobacteria  Gammaproteobacteria      Xanthomonadales   \n",
       "1126      F0BB91  Proteobacteria  Gammaproteobacteria      Xanthomonadales   \n",
       "1127      F0BMJ4  Proteobacteria  Gammaproteobacteria      Xanthomonadales   \n",
       "1128      F0C005  Proteobacteria  Gammaproteobacteria      Xanthomonadales   \n",
       "1129      G0CI52  Proteobacteria  Gammaproteobacteria      Xanthomonadales   \n",
       "1130      G2LWN4  Proteobacteria  Gammaproteobacteria      Xanthomonadales   \n",
       "1131      H1XH46  Proteobacteria  Gammaproteobacteria      Xanthomonadales   \n",
       "1132      H8FDX1  Proteobacteria  Gammaproteobacteria      Xanthomonadales   \n",
       "1133      K8G4G5  Proteobacteria  Gammaproteobacteria      Xanthomonadales   \n",
       "1134      K8ZG10  Proteobacteria  Gammaproteobacteria      Xanthomonadales   \n",
       "1135      L0SUV4  Proteobacteria  Gammaproteobacteria      Xanthomonadales   \n",
       "1136      L7FSH1  Proteobacteria  Gammaproteobacteria      Xanthomonadales   \n",
       "1137      M4UCA3  Proteobacteria  Gammaproteobacteria      Xanthomonadales   \n",
       "1138      Q3BRX8  Proteobacteria  Gammaproteobacteria      Xanthomonadales   \n",
       "1139      Q8P827  Proteobacteria  Gammaproteobacteria      Xanthomonadales   \n",
       "1140      Q8PJH6  Proteobacteria  Gammaproteobacteria      Xanthomonadales   \n",
       "1141      U4M259  Proteobacteria  Gammaproteobacteria      Xanthomonadales   \n",
       "1142      V7ZCM2  Proteobacteria  Gammaproteobacteria      Xanthomonadales   \n",
       "1143      W4S2R1  Proteobacteria  Gammaproteobacteria      Xanthomonadales   \n",
       "1144      Z4WJR2  Proteobacteria  Gammaproteobacteria      Xanthomonadales   \n",
       "1145      G0L288   Bacteroidetes       Flavobacteriia     Flavobacteriales   \n",
       "\n",
       "                           Order              Genus          Species  \\\n",
       "0     Chroococcales-unclassified      Acaryochloris           marina   \n",
       "1               Acetobacteraceae        Acetobacter    indonesiensis   \n",
       "2               Acetobacteraceae       Acidisphaera     rubrifaciens   \n",
       "3           Acidithiobacillaceae  Acidithiobacillus           caldus   \n",
       "4           Acidithiobacillaceae  Acidithiobacillus     ferrooxidans   \n",
       "5           Acidithiobacillaceae  Acidithiobacillus              sp.   \n",
       "6           Acidithiobacillaceae  Acidithiobacillus           caldus   \n",
       "7               Acetobacteraceae         Acidocella      aminolytica   \n",
       "8                 Comamonadaceae         Acidovorax         citrulli   \n",
       "9                 Comamonadaceae         Acidovorax           avenae   \n",
       "10                 Moraxellaceae      Acinetobacter        baumannii   \n",
       "11                 Moraxellaceae      Acinetobacter        baumannii   \n",
       "12                 Moraxellaceae      Acinetobacter        baumannii   \n",
       "13                 Moraxellaceae      Acinetobacter        baumannii   \n",
       "14                 Moraxellaceae      Acinetobacter        baumannii   \n",
       "15                 Moraxellaceae      Acinetobacter              sp.   \n",
       "16                 Moraxellaceae      Acinetobacter      idrijaensis   \n",
       "17                 Moraxellaceae      Acinetobacter           sp-HR7   \n",
       "18                 Moraxellaceae      Acinetobacter   radioresistens   \n",
       "19                 Moraxellaceae      Acinetobacter          brisoui   \n",
       "20                 Moraxellaceae      Acinetobacter          brisoui   \n",
       "21                 Moraxellaceae      Acinetobacter   radioresistens   \n",
       "22                 Moraxellaceae      Acinetobacter          lwoffii   \n",
       "23                 Moraxellaceae      Acinetobacter        bohemicus   \n",
       "24                 Moraxellaceae      Acinetobacter              sp.   \n",
       "25                 Moraxellaceae      Acinetobacter          lwoffii   \n",
       "26                 Moraxellaceae      Acinetobacter              sp.   \n",
       "27                 Moraxellaceae      Acinetobacter              sp.   \n",
       "28                 Moraxellaceae      Acinetobacter              sp.   \n",
       "29                 Moraxellaceae      Acinetobacter          lwoffii   \n",
       "...                          ...                ...              ...   \n",
       "1116            Xanthomonadaceae        Xanthomonas       campestris   \n",
       "1117            Xanthomonadaceae        Xanthomonas           oryzae   \n",
       "1118            Xanthomonadaceae        Xanthomonas       campestris   \n",
       "1119            Xanthomonadaceae        Xanthomonas       campestris   \n",
       "1120            Xanthomonadaceae        Xanthomonas         vasicola   \n",
       "1121            Xanthomonadaceae        Xanthomonas       campestris   \n",
       "1122            Xanthomonadaceae        Xanthomonas       campestris   \n",
       "1123            Xanthomonadaceae        Xanthomonas       campestris   \n",
       "1124            Xanthomonadaceae        Xanthomonas      albilineans   \n",
       "1125            Xanthomonadaceae        Xanthomonas          fuscans   \n",
       "1126            Xanthomonadaceae        Xanthomonas      vesicatoria   \n",
       "1127            Xanthomonadaceae        Xanthomonas        perforans   \n",
       "1128            Xanthomonadaceae        Xanthomonas         gardneri   \n",
       "1129            Xanthomonadaceae        Xanthomonas       campestris   \n",
       "1130            Xanthomonadaceae        Xanthomonas       axonopodis   \n",
       "1131            Xanthomonadaceae        Xanthomonas       axonopodis   \n",
       "1132            Xanthomonadaceae        Xanthomonas            citri   \n",
       "1133            Xanthomonadaceae        Xanthomonas       axonopodis   \n",
       "1134            Xanthomonadaceae        Xanthomonas      translucens   \n",
       "1135            Xanthomonadaceae        Xanthomonas      translucens   \n",
       "1136            Xanthomonadaceae        Xanthomonas      translucens   \n",
       "1137            Xanthomonadaceae        Xanthomonas       axonopodis   \n",
       "1138            Xanthomonadaceae        Xanthomonas       campestris   \n",
       "1139            Xanthomonadaceae        Xanthomonas       campestris   \n",
       "1140            Xanthomonadaceae        Xanthomonas            citri   \n",
       "1141            Xanthomonadaceae        Xanthomonas            citri   \n",
       "1142            Xanthomonadaceae        Xanthomonas         hortorum   \n",
       "1143            Xanthomonadaceae        Xanthomonas       arboricola   \n",
       "1144            Xanthomonadaceae        Xanthomonas       axonopodis   \n",
       "1145           Flavobacteriaceae           Zobellia  galactanivorans   \n",
       "\n",
       "                                            Temperature  \n",
       "0                                                   NaN  \n",
       "1                                                30, 25  \n",
       "2                                                 30-35  \n",
       "3                                                37, 45  \n",
       "4                28, 28, 30, 28, 30, 25, 25, 30, 30, 30  \n",
       "5                                                   NaN  \n",
       "6                                                37, 45  \n",
       "7                                                    37  \n",
       "8                                    28, 28, 28, 28, 25  \n",
       "9                                        25, 25, 25, 30  \n",
       "10    30, 30, 30, 30, 30, 37, 30, 30, 30, 30, 30, 30...  \n",
       "11    30, 30, 30, 30, 30, 37, 30, 30, 30, 30, 30, 30...  \n",
       "12    30, 30, 30, 30, 30, 37, 30, 30, 30, 30, 30, 30...  \n",
       "13    30, 30, 30, 30, 30, 37, 30, 30, 30, 30, 30, 30...  \n",
       "14    30, 30, 30, 30, 30, 37, 30, 30, 30, 30, 30, 30...  \n",
       "15                                                  NaN  \n",
       "16                                                  NaN  \n",
       "17                                                  NaN  \n",
       "18                                           30, 28, 30  \n",
       "19                                                  NaN  \n",
       "20                                                  NaN  \n",
       "21                                           30, 28, 30  \n",
       "22    28, 30, 30, 30, 30, 28, 30, 30, 28, 30, 30, 30...  \n",
       "23                                               25, 30  \n",
       "24                                                  NaN  \n",
       "25    28, 30, 30, 30, 30, 28, 30, 30, 28, 30, 30, 30...  \n",
       "26                                                  NaN  \n",
       "27                                                  NaN  \n",
       "28                                                  NaN  \n",
       "29    28, 30, 30, 30, 30, 28, 30, 30, 28, 30, 30, 30...  \n",
       "...                                                 ...  \n",
       "1116         26, 26, 26, 26, 25, 26, 26, 26, 26, 28, 25  \n",
       "1117                                                NaN  \n",
       "1118         26, 26, 26, 26, 25, 26, 26, 26, 26, 28, 25  \n",
       "1119         26, 26, 26, 26, 25, 26, 26, 26, 26, 28, 25  \n",
       "1120                                             30, 28  \n",
       "1121         26, 26, 26, 26, 25, 26, 26, 26, 26, 28, 25  \n",
       "1122         26, 26, 26, 26, 25, 26, 26, 26, 26, 28, 25  \n",
       "1123         26, 26, 26, 26, 25, 26, 26, 26, 26, 28, 25  \n",
       "1124                                                 26  \n",
       "1125                                                NaN  \n",
       "1126                                                 28  \n",
       "1127                                                 28  \n",
       "1128                                                 30  \n",
       "1129         26, 26, 26, 26, 25, 26, 26, 26, 26, 28, 25  \n",
       "1130                                             30, 26  \n",
       "1131                                             30, 26  \n",
       "1132                                             26, 26  \n",
       "1133                                             30, 26  \n",
       "1134                                             28, 30  \n",
       "1135                                             28, 30  \n",
       "1136                                             28, 30  \n",
       "1137                                             30, 26  \n",
       "1138         26, 26, 26, 26, 25, 26, 26, 26, 26, 28, 25  \n",
       "1139         26, 26, 26, 26, 25, 26, 26, 26, 26, 28, 25  \n",
       "1140                                             26, 26  \n",
       "1141                                             26, 26  \n",
       "1142                                     26, 26, 26, 30  \n",
       "1143                                     26, 26, 28, 26  \n",
       "1144                                             30, 26  \n",
       "1145                                             35, 30  \n",
       "\n",
       "[1146 rows x 8 columns]"
      ]
     },
     "execution_count": 9,
     "metadata": {},
     "output_type": "execute_result"
    }
   ],
   "source": [
    "table"
   ]
  },
  {
   "cell_type": "code",
   "execution_count": 17,
   "metadata": {},
   "outputs": [
    {
     "data": {
      "text/html": [
       "<div>\n",
       "<style scoped>\n",
       "    .dataframe tbody tr th:only-of-type {\n",
       "        vertical-align: middle;\n",
       "    }\n",
       "\n",
       "    .dataframe tbody tr th {\n",
       "        vertical-align: top;\n",
       "    }\n",
       "\n",
       "    .dataframe thead th {\n",
       "        text-align: right;\n",
       "    }\n",
       "</style>\n",
       "<table border=\"1\" class=\"dataframe\">\n",
       "  <thead>\n",
       "    <tr style=\"text-align: right;\">\n",
       "      <th></th>\n",
       "      <th>Database Source</th>\n",
       "      <th>Sequence ID</th>\n",
       "      <th>GenBank ID</th>\n",
       "      <th>Primary Structure</th>\n",
       "      <th>GXNCRFLQ Motif</th>\n",
       "      <th>Protein Length</th>\n",
       "      <th>Domain Structure</th>\n",
       "      <th>Functional Cluster</th>\n",
       "      <th>Primary Effector</th>\n",
       "      <th>Primary Effector Gene Ontology</th>\n",
       "      <th>Linker Length</th>\n",
       "      <th>Number of Predicted Transmembrane Helices</th>\n",
       "      <th>Transmembrane Helix Topology</th>\n",
       "      <th>Kingdom</th>\n",
       "      <th>Phylum</th>\n",
       "      <th>Class</th>\n",
       "      <th>Family</th>\n",
       "      <th>Order</th>\n",
       "      <th>Genus</th>\n",
       "      <th>Species</th>\n",
       "    </tr>\n",
       "  </thead>\n",
       "  <tbody>\n",
       "    <tr>\n",
       "      <th>0</th>\n",
       "      <td>Interpro</td>\n",
       "      <td>A0A009EVU7</td>\n",
       "      <td>EXA65901.1</td>\n",
       "      <td>MTSFYNGGTSQEIFNLIGQAAALEDIIDAITVWLGDKIPDALVSVM...</td>\n",
       "      <td>GKNCRILQ</td>\n",
       "      <td>850.0</td>\n",
       "      <td>[N_terminus : (0, 0) ---&gt; GAF_2 : (9, 166) ---...</td>\n",
       "      <td>['EAL', 'GAF', 'GGDEF', 'LOV', 'PAS']</td>\n",
       "      <td>GGDEF</td>\n",
       "      <td>Cyclic Nucleotide Biosythesis</td>\n",
       "      <td>12.0</td>\n",
       "      <td>0.0</td>\n",
       "      <td>None</td>\n",
       "      <td>Bacteria</td>\n",
       "      <td>Proteobacteria</td>\n",
       "      <td>Gammaproteobacteria</td>\n",
       "      <td>Pseudomonadales</td>\n",
       "      <td>Moraxellaceae</td>\n",
       "      <td>Acinetobacter</td>\n",
       "      <td>baumannii</td>\n",
       "    </tr>\n",
       "    <tr>\n",
       "      <th>1</th>\n",
       "      <td>Interpro</td>\n",
       "      <td>A0A009JQP1</td>\n",
       "      <td>EXB31618.1</td>\n",
       "      <td>MNNNCDDHDTYHIFNLIGQHTELHLILSAASTWLESRISNVLVAIM...</td>\n",
       "      <td>GKTCHFLQ</td>\n",
       "      <td>855.0</td>\n",
       "      <td>[N_terminus : (0, 0) ---&gt; GAF_2 : (26, 166) --...</td>\n",
       "      <td>['EAL', 'GAF', 'GGDEF', 'LOV', 'PAS']</td>\n",
       "      <td>GGDEF</td>\n",
       "      <td>Cyclic Nucleotide Biosythesis</td>\n",
       "      <td>12.0</td>\n",
       "      <td>0.0</td>\n",
       "      <td>None</td>\n",
       "      <td>Bacteria</td>\n",
       "      <td>Proteobacteria</td>\n",
       "      <td>Gammaproteobacteria</td>\n",
       "      <td>Pseudomonadales</td>\n",
       "      <td>Moraxellaceae</td>\n",
       "      <td>Acinetobacter</td>\n",
       "      <td>baumannii</td>\n",
       "    </tr>\n",
       "    <tr>\n",
       "      <th>2</th>\n",
       "      <td>Interpro</td>\n",
       "      <td>A0A009NCY2</td>\n",
       "      <td>EXB82898.1</td>\n",
       "      <td>MNNNCDDHDTYYIFNLIGQHTELHLILSAASTWLESRISNVLVAIM...</td>\n",
       "      <td>GKTCHFLQ</td>\n",
       "      <td>855.0</td>\n",
       "      <td>[N_terminus : (0, 0) ---&gt; GAF_2 : (26, 166) --...</td>\n",
       "      <td>['EAL', 'GAF', 'GGDEF', 'LOV', 'PAS']</td>\n",
       "      <td>GGDEF</td>\n",
       "      <td>Cyclic Nucleotide Biosythesis</td>\n",
       "      <td>12.0</td>\n",
       "      <td>0.0</td>\n",
       "      <td>None</td>\n",
       "      <td>Bacteria</td>\n",
       "      <td>Proteobacteria</td>\n",
       "      <td>Gammaproteobacteria</td>\n",
       "      <td>Pseudomonadales</td>\n",
       "      <td>Moraxellaceae</td>\n",
       "      <td>Acinetobacter</td>\n",
       "      <td>baumannii</td>\n",
       "    </tr>\n",
       "    <tr>\n",
       "      <th>3</th>\n",
       "      <td>Interpro</td>\n",
       "      <td>A0A010FRR9</td>\n",
       "      <td>EXE12759.1</td>\n",
       "      <td>MNNNCDDHDTYHIFNLIGQHTELHLILSAASTWLESRISNVLVAIM...</td>\n",
       "      <td>GKTCHFLQ</td>\n",
       "      <td>855.0</td>\n",
       "      <td>[N_terminus : (0, 0) ---&gt; GAF_2 : (26, 166) --...</td>\n",
       "      <td>['EAL', 'GAF', 'GGDEF', 'LOV', 'PAS']</td>\n",
       "      <td>GGDEF</td>\n",
       "      <td>Cyclic Nucleotide Biosythesis</td>\n",
       "      <td>12.0</td>\n",
       "      <td>0.0</td>\n",
       "      <td>None</td>\n",
       "      <td>Bacteria</td>\n",
       "      <td>Proteobacteria</td>\n",
       "      <td>Gammaproteobacteria</td>\n",
       "      <td>Pseudomonadales</td>\n",
       "      <td>Moraxellaceae</td>\n",
       "      <td>Acinetobacter</td>\n",
       "      <td>baumannii</td>\n",
       "    </tr>\n",
       "    <tr>\n",
       "      <th>4</th>\n",
       "      <td>Interpro</td>\n",
       "      <td>A0A010PA15</td>\n",
       "      <td>EXF50104.1</td>\n",
       "      <td>MQHEPMRLRSLLLSSMIPRLALLIAVLSITLVALSFHFIIKQTNSL...</td>\n",
       "      <td>GHNCRSMQ</td>\n",
       "      <td>961.0</td>\n",
       "      <td>[N_terminus : (0, 0) ---&gt; LOV : (450, 555) ---...</td>\n",
       "      <td>['HATP', 'HisKA', 'LOV', 'RR']</td>\n",
       "      <td>HisKA</td>\n",
       "      <td>Kinase Activity</td>\n",
       "      <td>21.0</td>\n",
       "      <td>2.0</td>\n",
       "      <td>o20-39i248-270o</td>\n",
       "      <td>Bacteria</td>\n",
       "      <td>Proteobacteria</td>\n",
       "      <td>Gammaproteobacteria</td>\n",
       "      <td>Alteromonadales</td>\n",
       "      <td>Alteromonadaceae</td>\n",
       "      <td>Alteromonas</td>\n",
       "      <td>sp.</td>\n",
       "    </tr>\n",
       "    <tr>\n",
       "      <th>5</th>\n",
       "      <td>Interpro</td>\n",
       "      <td>A0A010R2U6</td>\n",
       "      <td>EXF56192.1</td>\n",
       "      <td>MNNNCDDHDTYHIFNLIGQHTELHLILSAASTWLESRISNVLVAIM...</td>\n",
       "      <td>GKTCHFLQ</td>\n",
       "      <td>855.0</td>\n",
       "      <td>[N_terminus : (0, 0) ---&gt; GAF_2 : (26, 166) --...</td>\n",
       "      <td>['EAL', 'GAF', 'GGDEF', 'LOV', 'PAS']</td>\n",
       "      <td>GGDEF</td>\n",
       "      <td>Cyclic Nucleotide Biosythesis</td>\n",
       "      <td>12.0</td>\n",
       "      <td>0.0</td>\n",
       "      <td>None</td>\n",
       "      <td>Bacteria</td>\n",
       "      <td>Proteobacteria</td>\n",
       "      <td>Gammaproteobacteria</td>\n",
       "      <td>Pseudomonadales</td>\n",
       "      <td>Moraxellaceae</td>\n",
       "      <td>Acinetobacter</td>\n",
       "      <td>baumannii</td>\n",
       "    </tr>\n",
       "    <tr>\n",
       "      <th>6</th>\n",
       "      <td>Interpro</td>\n",
       "      <td>A0A010S5W0</td>\n",
       "      <td>EXF95929.1</td>\n",
       "      <td>MTYSHKLRLLLIEDDEDDYLIVRDLLNEVRQLQYQLDWVSDYDEAL...</td>\n",
       "      <td>GRNCRFLQ</td>\n",
       "      <td>733.0</td>\n",
       "      <td>[N_terminus : (0, 0) ---&gt; Response_reg : (9, 1...</td>\n",
       "      <td>['GGDEF', 'LOV', 'PAS', 'RR']</td>\n",
       "      <td>GGDEF</td>\n",
       "      <td>Cyclic Nucleotide Biosythesis</td>\n",
       "      <td>12.0</td>\n",
       "      <td>0.0</td>\n",
       "      <td>None</td>\n",
       "      <td>Bacteria</td>\n",
       "      <td>Proteobacteria</td>\n",
       "      <td>Gammaproteobacteria</td>\n",
       "      <td>Pseudomonadales</td>\n",
       "      <td>Pseudomonadaceae</td>\n",
       "      <td>Pseudomonas</td>\n",
       "      <td>fluorescens</td>\n",
       "    </tr>\n",
       "    <tr>\n",
       "      <th>7</th>\n",
       "      <td>Interpro</td>\n",
       "      <td>A0A011AMP2</td>\n",
       "      <td>EXG83241.1</td>\n",
       "      <td>MNDLPASKPDWPHIIGELRSSVTITDATDPKQPLIFVNEYFLQLTG...</td>\n",
       "      <td>GRNCRFLQ</td>\n",
       "      <td>385.0</td>\n",
       "      <td>[N_terminus : (0, 0) ---&gt; LOV : (20, 125) ---&gt;...</td>\n",
       "      <td>['HATP', 'HisKA', 'LOV']</td>\n",
       "      <td>HisKA</td>\n",
       "      <td>Kinase Activity</td>\n",
       "      <td>21.0</td>\n",
       "      <td>0.0</td>\n",
       "      <td>None</td>\n",
       "      <td>Bacteria</td>\n",
       "      <td>Firmicutes</td>\n",
       "      <td>Bacilli</td>\n",
       "      <td>Bacillales</td>\n",
       "      <td>Paenibacillaceae</td>\n",
       "      <td>Saccharibacillus</td>\n",
       "      <td>sacchari</td>\n",
       "    </tr>\n",
       "    <tr>\n",
       "      <th>8</th>\n",
       "      <td>Interpro</td>\n",
       "      <td>A0A011N2L2</td>\n",
       "      <td>EXI69126.1</td>\n",
       "      <td>MFTTAKDDGLIPYVLTQILDACVNGITLSDPDLPDNPIVYANKVFE...</td>\n",
       "      <td>GRNCRFLQ</td>\n",
       "      <td>146.0</td>\n",
       "      <td>[N_terminus : (0, 0) ---&gt; LOV : (23, 129) ---&gt;...</td>\n",
       "      <td>['LOV']</td>\n",
       "      <td>Short_LOV</td>\n",
       "      <td>Short LOV</td>\n",
       "      <td>0.0</td>\n",
       "      <td>0.0</td>\n",
       "      <td>None</td>\n",
       "      <td>Bacteria</td>\n",
       "      <td>Proteobacteria</td>\n",
       "      <td>Betaproteobacteria</td>\n",
       "      <td>Betaproteobacteria-unclassified</td>\n",
       "      <td>Candidatus Accumulibacter</td>\n",
       "      <td>Candidatus Accumulibacter</td>\n",
       "      <td>Accumulibacter</td>\n",
       "    </tr>\n",
       "    <tr>\n",
       "      <th>9</th>\n",
       "      <td>Interpro</td>\n",
       "      <td>A0A011QQZ8</td>\n",
       "      <td>EXI81314.1</td>\n",
       "      <td>MFTTAKDDGLIPYVLTQILDACVNGITLSDPDLPDNPIVYANKVFE...</td>\n",
       "      <td>GRNCRFLQ</td>\n",
       "      <td>146.0</td>\n",
       "      <td>[N_terminus : (0, 0) ---&gt; LOV : (23, 129) ---&gt;...</td>\n",
       "      <td>['LOV']</td>\n",
       "      <td>Short_LOV</td>\n",
       "      <td>Short LOV</td>\n",
       "      <td>0.0</td>\n",
       "      <td>0.0</td>\n",
       "      <td>None</td>\n",
       "      <td>Bacteria</td>\n",
       "      <td>Proteobacteria</td>\n",
       "      <td>Betaproteobacteria</td>\n",
       "      <td>Betaproteobacteria-unclassified</td>\n",
       "      <td>Candidatus Accumulibacter</td>\n",
       "      <td>Candidatus Accumulibacter</td>\n",
       "      <td>Accumulibacter</td>\n",
       "    </tr>\n",
       "    <tr>\n",
       "      <th>10</th>\n",
       "      <td>Interpro</td>\n",
       "      <td>A0A011T356</td>\n",
       "      <td>EXL06034.1</td>\n",
       "      <td>MATRVQPSVKVLGASFSQEANPFTAAVELTPMPMLITNPRLPDNPI...</td>\n",
       "      <td>GKNCRFLQ</td>\n",
       "      <td>491.0</td>\n",
       "      <td>[N_terminus : (0, 0) ---&gt; LOV : (31, 137) ---&gt;...</td>\n",
       "      <td>['HWE', 'LOV', 'PAS']</td>\n",
       "      <td>PAS</td>\n",
       "      <td>Signal transduction</td>\n",
       "      <td>46.0</td>\n",
       "      <td>0.0</td>\n",
       "      <td>None</td>\n",
       "      <td>Bacteria</td>\n",
       "      <td>Proteobacteria</td>\n",
       "      <td>Alphaproteobacteria</td>\n",
       "      <td>Rhizobiales</td>\n",
       "      <td>Brucellaceae</td>\n",
       "      <td>Ochrobactrum</td>\n",
       "      <td>anthropi</td>\n",
       "    </tr>\n",
       "    <tr>\n",
       "      <th>11</th>\n",
       "      <td>Interpro</td>\n",
       "      <td>A0A013VIT1</td>\n",
       "      <td>EXS71289.1</td>\n",
       "      <td>MPLSDMIASSAIPAVISDPRLPDNPIVDCNDAFMALTGYSRADIIG...</td>\n",
       "      <td>GHNCRFLK</td>\n",
       "      <td>195.0</td>\n",
       "      <td>[N_terminus : (0, 0) ---&gt; LOV : (12, 113) ---&gt;...</td>\n",
       "      <td>['GerE', 'LOV']</td>\n",
       "      <td>GerE</td>\n",
       "      <td>DNA binding</td>\n",
       "      <td>20.0</td>\n",
       "      <td>0.0</td>\n",
       "      <td>None</td>\n",
       "      <td>Bacteria</td>\n",
       "      <td>Proteobacteria</td>\n",
       "      <td>Alphaproteobacteria</td>\n",
       "      <td>Sphingomonadales</td>\n",
       "      <td>Sphingomonadaceae</td>\n",
       "      <td>Sphingobium</td>\n",
       "      <td>sp.</td>\n",
       "    </tr>\n",
       "    <tr>\n",
       "      <th>12</th>\n",
       "      <td>Interpro</td>\n",
       "      <td>A0A013VSJ0</td>\n",
       "      <td>EXS71502.1</td>\n",
       "      <td>MSLVEMIANSPVATVISNPRLPDNPIIECNAAFMELTGFSRDEIVG...</td>\n",
       "      <td>GHNCRFLS</td>\n",
       "      <td>195.0</td>\n",
       "      <td>[N_terminus : (0, 0) ---&gt; LOV : (11, 117) ---&gt;...</td>\n",
       "      <td>['GerE', 'LOV']</td>\n",
       "      <td>GerE</td>\n",
       "      <td>DNA binding</td>\n",
       "      <td>16.0</td>\n",
       "      <td>0.0</td>\n",
       "      <td>None</td>\n",
       "      <td>Bacteria</td>\n",
       "      <td>Proteobacteria</td>\n",
       "      <td>Alphaproteobacteria</td>\n",
       "      <td>Sphingomonadales</td>\n",
       "      <td>Sphingomonadaceae</td>\n",
       "      <td>Sphingobium</td>\n",
       "      <td>sp.</td>\n",
       "    </tr>\n",
       "    <tr>\n",
       "      <th>13</th>\n",
       "      <td>Interpro</td>\n",
       "      <td>A0A017HH61</td>\n",
       "      <td>EYD73114.1</td>\n",
       "      <td>MKDQAHRSPAQGETRAQQFENARSQAGQVSLSGESGVLFEQAMAQT...</td>\n",
       "      <td>GRNCRFLQ</td>\n",
       "      <td>360.0</td>\n",
       "      <td>[N_terminus : (0, 0) ---&gt; LOV : (47, 153) ---&gt;...</td>\n",
       "      <td>['HWE', 'LOV']</td>\n",
       "      <td>HWE</td>\n",
       "      <td>Kinase Activity</td>\n",
       "      <td>17.0</td>\n",
       "      <td>0.0</td>\n",
       "      <td>None</td>\n",
       "      <td>Bacteria</td>\n",
       "      <td>Proteobacteria</td>\n",
       "      <td>Alphaproteobacteria</td>\n",
       "      <td>Rhodobacterales</td>\n",
       "      <td>Rhodobacteraceae</td>\n",
       "      <td>Loktanella</td>\n",
       "      <td>hongkongensis</td>\n",
       "    </tr>\n",
       "    <tr>\n",
       "      <th>14</th>\n",
       "      <td>Interpro</td>\n",
       "      <td>A0A017HHL5</td>\n",
       "      <td>EYD73815.1</td>\n",
       "      <td>MQGRPDRLNEEMLLETIRHARLPLCITDPTLPDNPIVFANDAFCAL...</td>\n",
       "      <td>GRNCRFLQ</td>\n",
       "      <td>322.0</td>\n",
       "      <td>[N_terminus : (0, 0) ---&gt; LOV : (21, 127) ---&gt;...</td>\n",
       "      <td>['HWE', 'LOV']</td>\n",
       "      <td>HWE</td>\n",
       "      <td>Kinase Activity</td>\n",
       "      <td>15.0</td>\n",
       "      <td>0.0</td>\n",
       "      <td>None</td>\n",
       "      <td>Bacteria</td>\n",
       "      <td>Proteobacteria</td>\n",
       "      <td>Alphaproteobacteria</td>\n",
       "      <td>Rhodobacterales</td>\n",
       "      <td>Rhodobacteraceae</td>\n",
       "      <td>Loktanella</td>\n",
       "      <td>hongkongensis</td>\n",
       "    </tr>\n",
       "    <tr>\n",
       "      <th>15</th>\n",
       "      <td>Interpro</td>\n",
       "      <td>A0A021VME4</td>\n",
       "      <td>EYR62349.1</td>\n",
       "      <td>MLQDPVAAPAGSPRASDPRARSALPALVHDRPAATLLVDLDRGEVV...</td>\n",
       "      <td>GKNCRFLQ</td>\n",
       "      <td>715.0</td>\n",
       "      <td>[N_terminus : (0, 0) ---&gt; LOV : (168, 274) ---...</td>\n",
       "      <td>['GAF', 'LOV', 'SpoIIE']</td>\n",
       "      <td>GAF</td>\n",
       "      <td>Protein interaction</td>\n",
       "      <td>23.0</td>\n",
       "      <td>0.0</td>\n",
       "      <td>None</td>\n",
       "      <td>Bacteria</td>\n",
       "      <td>Actinobacteria</td>\n",
       "      <td>Actinobacteria</td>\n",
       "      <td>Actinomycetales</td>\n",
       "      <td>Cellulomonadaceae</td>\n",
       "      <td>Actinotalea</td>\n",
       "      <td>ferrariae</td>\n",
       "    </tr>\n",
       "    <tr>\n",
       "      <th>16</th>\n",
       "      <td>Interpro</td>\n",
       "      <td>A0A023C756</td>\n",
       "      <td>EZI26573.1</td>\n",
       "      <td>MINAQLMQMVINASNDGIVIAEREGLDKPLIYVNPAFERMTGYTPD...</td>\n",
       "      <td>YQDCRFLQ</td>\n",
       "      <td>155.0</td>\n",
       "      <td>[N_terminus : (0, 0) ---&gt; LOV : (15, 121) ---&gt;...</td>\n",
       "      <td>['LOV']</td>\n",
       "      <td>Short_LOV</td>\n",
       "      <td>Short LOV</td>\n",
       "      <td>0.0</td>\n",
       "      <td>0.0</td>\n",
       "      <td>None</td>\n",
       "      <td>Bacteria</td>\n",
       "      <td>Proteobacteria</td>\n",
       "      <td>Gammaproteobacteria</td>\n",
       "      <td>Pseudomonadales</td>\n",
       "      <td>Pseudomonadaceae</td>\n",
       "      <td>Pseudomonas</td>\n",
       "      <td>extremaustralis</td>\n",
       "    </tr>\n",
       "    <tr>\n",
       "      <th>17</th>\n",
       "      <td>Interpro</td>\n",
       "      <td>A0A023WST5</td>\n",
       "      <td>AHY43183.1</td>\n",
       "      <td>MINAKLLQLVIEASNDGIVVAEQEGDDNILIYANPAFERLTGYAVD...</td>\n",
       "      <td>YRDCRFLQ</td>\n",
       "      <td>148.0</td>\n",
       "      <td>[N_terminus : (0, 0) ---&gt; LOV : (15, 121) ---&gt;...</td>\n",
       "      <td>['LOV']</td>\n",
       "      <td>Short_LOV</td>\n",
       "      <td>Short LOV</td>\n",
       "      <td>0.0</td>\n",
       "      <td>0.0</td>\n",
       "      <td>None</td>\n",
       "      <td>Bacteria</td>\n",
       "      <td>Proteobacteria</td>\n",
       "      <td>Gammaproteobacteria</td>\n",
       "      <td>Pseudomonadales</td>\n",
       "      <td>Pseudomonadaceae</td>\n",
       "      <td>Pseudomonas</td>\n",
       "      <td>stutzeri</td>\n",
       "    </tr>\n",
       "    <tr>\n",
       "      <th>18</th>\n",
       "      <td>Interpro</td>\n",
       "      <td>A0A024E4H4</td>\n",
       "      <td>AHZ67490.1</td>\n",
       "      <td>MIDAELLKLVVEASNDGIVVAEQEGDENILIYANPAFQRLTGYSVD...</td>\n",
       "      <td>YQDCRFLQ</td>\n",
       "      <td>150.0</td>\n",
       "      <td>[N_terminus : (0, 0) ---&gt; LOV : (15, 121) ---&gt;...</td>\n",
       "      <td>['LOV']</td>\n",
       "      <td>Short_LOV</td>\n",
       "      <td>Short LOV</td>\n",
       "      <td>0.0</td>\n",
       "      <td>0.0</td>\n",
       "      <td>None</td>\n",
       "      <td>Bacteria</td>\n",
       "      <td>Proteobacteria</td>\n",
       "      <td>Gammaproteobacteria</td>\n",
       "      <td>Pseudomonadales</td>\n",
       "      <td>Pseudomonadaceae</td>\n",
       "      <td>Pseudomonas</td>\n",
       "      <td>mandelii</td>\n",
       "    </tr>\n",
       "    <tr>\n",
       "      <th>19</th>\n",
       "      <td>Interpro</td>\n",
       "      <td>A0A024EB53</td>\n",
       "      <td>AHZ69583.1</td>\n",
       "      <td>MINAQLLQMVINASNDGIVIAEKEGDQDNILIYVNPAFERLTGYTS...</td>\n",
       "      <td>YQDCRFLQ</td>\n",
       "      <td>159.0</td>\n",
       "      <td>[N_terminus : (0, 0) ---&gt; LOV : (15, 123) ---&gt;...</td>\n",
       "      <td>['LOV']</td>\n",
       "      <td>Short_LOV</td>\n",
       "      <td>Short LOV</td>\n",
       "      <td>0.0</td>\n",
       "      <td>0.0</td>\n",
       "      <td>None</td>\n",
       "      <td>Bacteria</td>\n",
       "      <td>Proteobacteria</td>\n",
       "      <td>Gammaproteobacteria</td>\n",
       "      <td>Pseudomonadales</td>\n",
       "      <td>Pseudomonadaceae</td>\n",
       "      <td>Pseudomonas</td>\n",
       "      <td>mandelii</td>\n",
       "    </tr>\n",
       "    <tr>\n",
       "      <th>20</th>\n",
       "      <td>Interpro</td>\n",
       "      <td>A0A024HJI7</td>\n",
       "      <td>CDF84682.1</td>\n",
       "      <td>MINAKLLQLVVEASNDGIVVAEQEGEDSILIYVNPAFERLTGYAGA...</td>\n",
       "      <td>YQDCRFLQ</td>\n",
       "      <td>148.0</td>\n",
       "      <td>[N_terminus : (0, 0) ---&gt; LOV : (15, 121) ---&gt;...</td>\n",
       "      <td>['LOV']</td>\n",
       "      <td>Short_LOV</td>\n",
       "      <td>Short LOV</td>\n",
       "      <td>0.0</td>\n",
       "      <td>0.0</td>\n",
       "      <td>None</td>\n",
       "      <td>Bacteria</td>\n",
       "      <td>Proteobacteria</td>\n",
       "      <td>Gammaproteobacteria</td>\n",
       "      <td>Pseudomonadales</td>\n",
       "      <td>Pseudomonadaceae</td>\n",
       "      <td>Pseudomonas</td>\n",
       "      <td>knackmussii</td>\n",
       "    </tr>\n",
       "    <tr>\n",
       "      <th>21</th>\n",
       "      <td>Interpro</td>\n",
       "      <td>A0A024P9I6</td>\n",
       "      <td>CDQ25523.1</td>\n",
       "      <td>MFARLEEIQQNEFIKAAIDHVGAGVVITDPEQDDNPLIYCNQGFEE...</td>\n",
       "      <td>GRNCRLLQ</td>\n",
       "      <td>158.0</td>\n",
       "      <td>[N_terminus : (0, 0) ---&gt; LOV : (22, 122) ---&gt;...</td>\n",
       "      <td>['LOV']</td>\n",
       "      <td>Short_LOV</td>\n",
       "      <td>Short LOV</td>\n",
       "      <td>0.0</td>\n",
       "      <td>1.0</td>\n",
       "      <td>o114-136i</td>\n",
       "      <td>Bacteria</td>\n",
       "      <td>Firmicutes</td>\n",
       "      <td>Bacilli</td>\n",
       "      <td>Bacillales</td>\n",
       "      <td>Bacillaceae</td>\n",
       "      <td>Halobacillus</td>\n",
       "      <td>karajensis</td>\n",
       "    </tr>\n",
       "    <tr>\n",
       "      <th>22</th>\n",
       "      <td>Interpro</td>\n",
       "      <td>A0A024QDD9</td>\n",
       "      <td>CDQ40489.1</td>\n",
       "      <td>MTVKNNKERLYLLEKALNYTEVGLIITDPSIEDNPIIIANKGFLEL...</td>\n",
       "      <td>GKNCRFLQ</td>\n",
       "      <td>265.0</td>\n",
       "      <td>[N_terminus : (0, 0) ---&gt; LOV : (21, 127) ---&gt;...</td>\n",
       "      <td>['LOV', 'STAS']</td>\n",
       "      <td>STAS</td>\n",
       "      <td>General NTP-binding Activity</td>\n",
       "      <td>20.0</td>\n",
       "      <td>0.0</td>\n",
       "      <td>None</td>\n",
       "      <td>Bacteria</td>\n",
       "      <td>Firmicutes</td>\n",
       "      <td>Bacilli</td>\n",
       "      <td>Bacillales</td>\n",
       "      <td>Bacillaceae</td>\n",
       "      <td>Virgibacillus</td>\n",
       "      <td>sp.</td>\n",
       "    </tr>\n",
       "    <tr>\n",
       "      <th>23</th>\n",
       "      <td>Interpro</td>\n",
       "      <td>A0A028UZ45</td>\n",
       "      <td>EZH76329.1</td>\n",
       "      <td>MPAAFPDRLPNWTWWLPLPILHLATWISLATRLNDGVALCYLPLVL...</td>\n",
       "      <td>GRNCRFLL</td>\n",
       "      <td>1252.0</td>\n",
       "      <td>[N_terminus : (0, 0) ---&gt; Mase1 : (12, 302) --...</td>\n",
       "      <td>['EAL', 'GGDEF', 'LOV', 'Mase1', 'PAS']</td>\n",
       "      <td>Mase1</td>\n",
       "      <td>Unknown function</td>\n",
       "      <td>22.0</td>\n",
       "      <td>8.0</td>\n",
       "      <td>o13-30i37-56o76-98i118-140o160-182i203-225o235...</td>\n",
       "      <td>Bacteria</td>\n",
       "      <td>Proteobacteria</td>\n",
       "      <td>Gammaproteobacteria</td>\n",
       "      <td>Pseudomonadales</td>\n",
       "      <td>Pseudomonadaceae</td>\n",
       "      <td>Pseudomonas</td>\n",
       "      <td>pseudoalcaligenes</td>\n",
       "    </tr>\n",
       "    <tr>\n",
       "      <th>24</th>\n",
       "      <td>Interpro</td>\n",
       "      <td>A0A028V6B7</td>\n",
       "      <td>EZH78763.1</td>\n",
       "      <td>MINAKLLQLVVDASNDGIVVAEQEGEDNILIYANAAFERLTGYSCD...</td>\n",
       "      <td>YQDCRFLQ</td>\n",
       "      <td>148.0</td>\n",
       "      <td>[N_terminus : (0, 0) ---&gt; LOV : (15, 121) ---&gt;...</td>\n",
       "      <td>['LOV']</td>\n",
       "      <td>Short_LOV</td>\n",
       "      <td>Short LOV</td>\n",
       "      <td>0.0</td>\n",
       "      <td>0.0</td>\n",
       "      <td>None</td>\n",
       "      <td>Bacteria</td>\n",
       "      <td>Proteobacteria</td>\n",
       "      <td>Gammaproteobacteria</td>\n",
       "      <td>Pseudomonadales</td>\n",
       "      <td>Pseudomonadaceae</td>\n",
       "      <td>Pseudomonas</td>\n",
       "      <td>pseudoalcaligenes</td>\n",
       "    </tr>\n",
       "    <tr>\n",
       "      <th>25</th>\n",
       "      <td>Interpro</td>\n",
       "      <td>A0A031G926</td>\n",
       "      <td>EZP32966.1</td>\n",
       "      <td>MINASLLQMVINASNDGVVVAEKEGEQDNILIYVNPAFERLTGYTS...</td>\n",
       "      <td>YQDCRFLQ</td>\n",
       "      <td>158.0</td>\n",
       "      <td>[N_terminus : (0, 0) ---&gt; LOV : (15, 122) ---&gt;...</td>\n",
       "      <td>['LOV']</td>\n",
       "      <td>Short_LOV</td>\n",
       "      <td>Short LOV</td>\n",
       "      <td>0.0</td>\n",
       "      <td>0.0</td>\n",
       "      <td>None</td>\n",
       "      <td>Bacteria</td>\n",
       "      <td>Proteobacteria</td>\n",
       "      <td>Gammaproteobacteria</td>\n",
       "      <td>Pseudomonadales</td>\n",
       "      <td>Pseudomonadaceae</td>\n",
       "      <td>Pseudomonas</td>\n",
       "      <td>sp.</td>\n",
       "    </tr>\n",
       "    <tr>\n",
       "      <th>26</th>\n",
       "      <td>Interpro</td>\n",
       "      <td>A0A031HJ36</td>\n",
       "      <td>EZP48717.1</td>\n",
       "      <td>MQAAIDAYARGLDACDPMQVGFAMTPVAMVVSDPTLPDCPLIYVNP...</td>\n",
       "      <td>GRNCRFMQ</td>\n",
       "      <td>477.0</td>\n",
       "      <td>[N_terminus : (0, 0) ---&gt; LOV : (26, 132) ---&gt;...</td>\n",
       "      <td>['HWE', 'LOV', 'PAS']</td>\n",
       "      <td>PAS</td>\n",
       "      <td>Signal transduction</td>\n",
       "      <td>53.0</td>\n",
       "      <td>0.0</td>\n",
       "      <td>None</td>\n",
       "      <td>Bacteria</td>\n",
       "      <td>Proteobacteria</td>\n",
       "      <td>Alphaproteobacteria</td>\n",
       "      <td>Sphingomonadales</td>\n",
       "      <td>Sphingomonadaceae</td>\n",
       "      <td>Sphingomonas</td>\n",
       "      <td>sp.</td>\n",
       "    </tr>\n",
       "    <tr>\n",
       "      <th>27</th>\n",
       "      <td>Interpro</td>\n",
       "      <td>A0A031HKX0</td>\n",
       "      <td>EZP48715.1</td>\n",
       "      <td>MVDETTETPPGGPPPHLSGAANHDMGDDSNSIFFAAVKTTRMPMIV...</td>\n",
       "      <td>GTNCRLLQ</td>\n",
       "      <td>546.0</td>\n",
       "      <td>[N_terminus : (0, 0) ---&gt; LOV : (41, 147) ---&gt;...</td>\n",
       "      <td>['HATP', 'HisKA', 'LOV', 'RR']</td>\n",
       "      <td>HisKA</td>\n",
       "      <td>Kinase Activity</td>\n",
       "      <td>16.0</td>\n",
       "      <td>0.0</td>\n",
       "      <td>None</td>\n",
       "      <td>Bacteria</td>\n",
       "      <td>Proteobacteria</td>\n",
       "      <td>Alphaproteobacteria</td>\n",
       "      <td>Sphingomonadales</td>\n",
       "      <td>Sphingomonadaceae</td>\n",
       "      <td>Sphingomonas</td>\n",
       "      <td>sp.</td>\n",
       "    </tr>\n",
       "    <tr>\n",
       "      <th>28</th>\n",
       "      <td>Interpro</td>\n",
       "      <td>A0A031I128</td>\n",
       "      <td>EZP55304.1</td>\n",
       "      <td>MADGTPEKPRGGPPPHLQRVTNHDMADDRNGIFFAAVSTTRMPMIV...</td>\n",
       "      <td>GRNCRLLQ</td>\n",
       "      <td>542.0</td>\n",
       "      <td>[N_terminus : (0, 0) ---&gt; LOV : (41, 147) ---&gt;...</td>\n",
       "      <td>['HATP', 'HisKA', 'LOV', 'RR']</td>\n",
       "      <td>HisKA</td>\n",
       "      <td>Kinase Activity</td>\n",
       "      <td>16.0</td>\n",
       "      <td>0.0</td>\n",
       "      <td>None</td>\n",
       "      <td>Bacteria</td>\n",
       "      <td>Proteobacteria</td>\n",
       "      <td>Alphaproteobacteria</td>\n",
       "      <td>Sphingomonadales</td>\n",
       "      <td>Sphingomonadaceae</td>\n",
       "      <td>Sphingomonas</td>\n",
       "      <td>sp.</td>\n",
       "    </tr>\n",
       "    <tr>\n",
       "      <th>29</th>\n",
       "      <td>Interpro</td>\n",
       "      <td>A0A031I1U0</td>\n",
       "      <td>EZP54977.1</td>\n",
       "      <td>MDRYLLSADRIVPVAPAPAVQAAIDAFAARLDGTDPFVVGFRDAVL...</td>\n",
       "      <td>GRNCRMLQ</td>\n",
       "      <td>496.0</td>\n",
       "      <td>[N_terminus : (0, 0) ---&gt; LOV : (46, 151) ---&gt;...</td>\n",
       "      <td>['HWE', 'LOV', 'PAS']</td>\n",
       "      <td>PAS</td>\n",
       "      <td>Signal transduction</td>\n",
       "      <td>53.0</td>\n",
       "      <td>0.0</td>\n",
       "      <td>None</td>\n",
       "      <td>Bacteria</td>\n",
       "      <td>Proteobacteria</td>\n",
       "      <td>Alphaproteobacteria</td>\n",
       "      <td>Sphingomonadales</td>\n",
       "      <td>Sphingomonadaceae</td>\n",
       "      <td>Sphingomonas</td>\n",
       "      <td>sp.</td>\n",
       "    </tr>\n",
       "    <tr>\n",
       "      <th>...</th>\n",
       "      <td>...</td>\n",
       "      <td>...</td>\n",
       "      <td>...</td>\n",
       "      <td>...</td>\n",
       "      <td>...</td>\n",
       "      <td>...</td>\n",
       "      <td>...</td>\n",
       "      <td>...</td>\n",
       "      <td>...</td>\n",
       "      <td>...</td>\n",
       "      <td>...</td>\n",
       "      <td>...</td>\n",
       "      <td>...</td>\n",
       "      <td>...</td>\n",
       "      <td>...</td>\n",
       "      <td>...</td>\n",
       "      <td>...</td>\n",
       "      <td>...</td>\n",
       "      <td>...</td>\n",
       "      <td>...</td>\n",
       "    </tr>\n",
       "    <tr>\n",
       "      <th>1116</th>\n",
       "      <td>Interpro</td>\n",
       "      <td>X0RD28</td>\n",
       "      <td>GAF66693.1</td>\n",
       "      <td>MEQILSNHKVIIEALNYTRAGVLITDPSLKDNPIVYANQGFLDMTG...</td>\n",
       "      <td>GKNCRFLQ</td>\n",
       "      <td>257.0</td>\n",
       "      <td>[N_terminus : (0, 0) ---&gt; LOV : (19, 125) ---&gt;...</td>\n",
       "      <td>['LOV', 'STAS']</td>\n",
       "      <td>STAS</td>\n",
       "      <td>General NTP-binding Activity</td>\n",
       "      <td>22.0</td>\n",
       "      <td>0.0</td>\n",
       "      <td>None</td>\n",
       "      <td>Bacteria</td>\n",
       "      <td>Firmicutes</td>\n",
       "      <td>Bacilli</td>\n",
       "      <td>Bacillales</td>\n",
       "      <td>Bacillaceae</td>\n",
       "      <td>Bacillus</td>\n",
       "      <td>sp.</td>\n",
       "    </tr>\n",
       "    <tr>\n",
       "      <th>1117</th>\n",
       "      <td>Interpro</td>\n",
       "      <td>X5PGQ1</td>\n",
       "      <td>ESW68830.1</td>\n",
       "      <td>MDWKRTREPADAWHMTDNLHAEHGKGDPFAAAIRATRMSMVITDPR...</td>\n",
       "      <td>GKNCRFLQ</td>\n",
       "      <td>382.0</td>\n",
       "      <td>[N_terminus : (0, 0) ---&gt; LOV : (37, 143) ---&gt;...</td>\n",
       "      <td>['HATP', 'HisKA', 'LOV']</td>\n",
       "      <td>HisKA</td>\n",
       "      <td>Kinase Activity</td>\n",
       "      <td>39.0</td>\n",
       "      <td>0.0</td>\n",
       "      <td>None</td>\n",
       "      <td>Bacteria</td>\n",
       "      <td>Proteobacteria</td>\n",
       "      <td>Alphaproteobacteria</td>\n",
       "      <td>Rhizobiales</td>\n",
       "      <td>Phyllobacteriaceae</td>\n",
       "      <td>Mesorhizobium</td>\n",
       "      <td>sp.</td>\n",
       "    </tr>\n",
       "    <tr>\n",
       "      <th>1118</th>\n",
       "      <td>Interpro</td>\n",
       "      <td>X5QL61</td>\n",
       "      <td>ESW87820.1</td>\n",
       "      <td>MDWKRTREPADAWHMTDNLHAEHGKGDPFAAAIRATRMSMVITDPR...</td>\n",
       "      <td>GKNCRFLQ</td>\n",
       "      <td>382.0</td>\n",
       "      <td>[N_terminus : (0, 0) ---&gt; LOV : (37, 143) ---&gt;...</td>\n",
       "      <td>['HATP', 'HisKA', 'LOV']</td>\n",
       "      <td>HisKA</td>\n",
       "      <td>Kinase Activity</td>\n",
       "      <td>39.0</td>\n",
       "      <td>0.0</td>\n",
       "      <td>None</td>\n",
       "      <td>Bacteria</td>\n",
       "      <td>Proteobacteria</td>\n",
       "      <td>Alphaproteobacteria</td>\n",
       "      <td>Rhizobiales</td>\n",
       "      <td>Phyllobacteriaceae</td>\n",
       "      <td>Mesorhizobium</td>\n",
       "      <td>sp.</td>\n",
       "    </tr>\n",
       "    <tr>\n",
       "      <th>1119</th>\n",
       "      <td>Interpro</td>\n",
       "      <td>X5QT50</td>\n",
       "      <td>ESW89668.1</td>\n",
       "      <td>MDWKRTREPADAWHMTDNLHAEHGKGDPFAAAIRATRMSMVITDPR...</td>\n",
       "      <td>GKNCRFLQ</td>\n",
       "      <td>382.0</td>\n",
       "      <td>[N_terminus : (0, 0) ---&gt; LOV : (37, 143) ---&gt;...</td>\n",
       "      <td>['HATP', 'HisKA', 'LOV']</td>\n",
       "      <td>HisKA</td>\n",
       "      <td>Kinase Activity</td>\n",
       "      <td>39.0</td>\n",
       "      <td>0.0</td>\n",
       "      <td>None</td>\n",
       "      <td>Bacteria</td>\n",
       "      <td>Proteobacteria</td>\n",
       "      <td>Alphaproteobacteria</td>\n",
       "      <td>Rhizobiales</td>\n",
       "      <td>Phyllobacteriaceae</td>\n",
       "      <td>Mesorhizobium</td>\n",
       "      <td>sp-LSJC269B00</td>\n",
       "    </tr>\n",
       "    <tr>\n",
       "      <th>1120</th>\n",
       "      <td>Interpro</td>\n",
       "      <td>X5RWL4</td>\n",
       "      <td>ESX10055.1</td>\n",
       "      <td>MDWKRTREPADAWHMTDNLHAEHGKGDPFAAAIRATRMSMVITDPR...</td>\n",
       "      <td>GKNCRFLQ</td>\n",
       "      <td>382.0</td>\n",
       "      <td>[N_terminus : (0, 0) ---&gt; LOV : (37, 143) ---&gt;...</td>\n",
       "      <td>['HATP', 'HisKA', 'LOV']</td>\n",
       "      <td>HisKA</td>\n",
       "      <td>Kinase Activity</td>\n",
       "      <td>39.0</td>\n",
       "      <td>0.0</td>\n",
       "      <td>None</td>\n",
       "      <td>Bacteria</td>\n",
       "      <td>Proteobacteria</td>\n",
       "      <td>Alphaproteobacteria</td>\n",
       "      <td>Rhizobiales</td>\n",
       "      <td>Phyllobacteriaceae</td>\n",
       "      <td>Mesorhizobium</td>\n",
       "      <td>sp-LSJC265A00</td>\n",
       "    </tr>\n",
       "    <tr>\n",
       "      <th>1121</th>\n",
       "      <td>Interpro</td>\n",
       "      <td>X5UCZ9</td>\n",
       "      <td>ESX45351.1</td>\n",
       "      <td>MDWKRTREPADAWHMTDNLHAEHGKGDPFAAAIRATRMSMVITDPR...</td>\n",
       "      <td>GKNCRFLQ</td>\n",
       "      <td>382.0</td>\n",
       "      <td>[N_terminus : (0, 0) ---&gt; LOV : (37, 143) ---&gt;...</td>\n",
       "      <td>['HATP', 'HisKA', 'LOV']</td>\n",
       "      <td>HisKA</td>\n",
       "      <td>Kinase Activity</td>\n",
       "      <td>39.0</td>\n",
       "      <td>0.0</td>\n",
       "      <td>None</td>\n",
       "      <td>Bacteria</td>\n",
       "      <td>Proteobacteria</td>\n",
       "      <td>Alphaproteobacteria</td>\n",
       "      <td>Rhizobiales</td>\n",
       "      <td>Phyllobacteriaceae</td>\n",
       "      <td>Mesorhizobium</td>\n",
       "      <td>sp-LSHC426A00</td>\n",
       "    </tr>\n",
       "    <tr>\n",
       "      <th>1122</th>\n",
       "      <td>Interpro</td>\n",
       "      <td>X5VMB1</td>\n",
       "      <td>ESX60871.1</td>\n",
       "      <td>MDWKRTREPADAWHMTDNLHAEHGKGDPFAAAIRATRMSMVITDPR...</td>\n",
       "      <td>GKNCRFLQ</td>\n",
       "      <td>382.0</td>\n",
       "      <td>[N_terminus : (0, 0) ---&gt; LOV : (37, 143) ---&gt;...</td>\n",
       "      <td>['HATP', 'HisKA', 'LOV']</td>\n",
       "      <td>HisKA</td>\n",
       "      <td>Kinase Activity</td>\n",
       "      <td>39.0</td>\n",
       "      <td>0.0</td>\n",
       "      <td>None</td>\n",
       "      <td>Bacteria</td>\n",
       "      <td>Proteobacteria</td>\n",
       "      <td>Alphaproteobacteria</td>\n",
       "      <td>Rhizobiales</td>\n",
       "      <td>Phyllobacteriaceae</td>\n",
       "      <td>Mesorhizobium</td>\n",
       "      <td>sp-LSHC422A00</td>\n",
       "    </tr>\n",
       "    <tr>\n",
       "      <th>1123</th>\n",
       "      <td>Interpro</td>\n",
       "      <td>X5XB53</td>\n",
       "      <td>ESX89787.1</td>\n",
       "      <td>MDWKRTREPADAWHMTDNLHAEHGKGDPFAAAIRATRMSMVITDPR...</td>\n",
       "      <td>GKNCRFLQ</td>\n",
       "      <td>382.0</td>\n",
       "      <td>[N_terminus : (0, 0) ---&gt; LOV : (37, 143) ---&gt;...</td>\n",
       "      <td>['HATP', 'HisKA', 'LOV']</td>\n",
       "      <td>HisKA</td>\n",
       "      <td>Kinase Activity</td>\n",
       "      <td>39.0</td>\n",
       "      <td>0.0</td>\n",
       "      <td>None</td>\n",
       "      <td>Bacteria</td>\n",
       "      <td>Proteobacteria</td>\n",
       "      <td>Alphaproteobacteria</td>\n",
       "      <td>Rhizobiales</td>\n",
       "      <td>Phyllobacteriaceae</td>\n",
       "      <td>Mesorhizobium</td>\n",
       "      <td>sp-LSHC412B00</td>\n",
       "    </tr>\n",
       "    <tr>\n",
       "      <th>1124</th>\n",
       "      <td>Interpro</td>\n",
       "      <td>X5Y376</td>\n",
       "      <td>ESX99282.1</td>\n",
       "      <td>MDWKRTREPADAWHMTDNLHAEHGKGDPFAAAIRATRMSMVITDPR...</td>\n",
       "      <td>GKNCRFLQ</td>\n",
       "      <td>382.0</td>\n",
       "      <td>[N_terminus : (0, 0) ---&gt; LOV : (37, 143) ---&gt;...</td>\n",
       "      <td>['HATP', 'HisKA', 'LOV']</td>\n",
       "      <td>HisKA</td>\n",
       "      <td>Kinase Activity</td>\n",
       "      <td>39.0</td>\n",
       "      <td>0.0</td>\n",
       "      <td>None</td>\n",
       "      <td>Bacteria</td>\n",
       "      <td>Proteobacteria</td>\n",
       "      <td>Alphaproteobacteria</td>\n",
       "      <td>Rhizobiales</td>\n",
       "      <td>Phyllobacteriaceae</td>\n",
       "      <td>Mesorhizobium</td>\n",
       "      <td>sp-LNJC405B00</td>\n",
       "    </tr>\n",
       "    <tr>\n",
       "      <th>1125</th>\n",
       "      <td>Interpro</td>\n",
       "      <td>X5YMF7</td>\n",
       "      <td>ESY04819.1</td>\n",
       "      <td>MDWKRTREPADAWHMTDNLHAEHGKGDPFAAAIRATRMSMVITDPR...</td>\n",
       "      <td>GKNCRFLQ</td>\n",
       "      <td>382.0</td>\n",
       "      <td>[N_terminus : (0, 0) ---&gt; LOV : (37, 143) ---&gt;...</td>\n",
       "      <td>['HATP', 'HisKA', 'LOV']</td>\n",
       "      <td>HisKA</td>\n",
       "      <td>Kinase Activity</td>\n",
       "      <td>39.0</td>\n",
       "      <td>0.0</td>\n",
       "      <td>None</td>\n",
       "      <td>Bacteria</td>\n",
       "      <td>Proteobacteria</td>\n",
       "      <td>Alphaproteobacteria</td>\n",
       "      <td>Rhizobiales</td>\n",
       "      <td>Phyllobacteriaceae</td>\n",
       "      <td>Mesorhizobium</td>\n",
       "      <td>sp-LNJC399B00</td>\n",
       "    </tr>\n",
       "    <tr>\n",
       "      <th>1126</th>\n",
       "      <td>Interpro</td>\n",
       "      <td>X5ZMZ1</td>\n",
       "      <td>ESY19789.1</td>\n",
       "      <td>MDWKRTREPADAWHMTDNLHAEHGKGDPFAAAIRATRMSMVITDPR...</td>\n",
       "      <td>GKNCRFLQ</td>\n",
       "      <td>382.0</td>\n",
       "      <td>[N_terminus : (0, 0) ---&gt; LOV : (37, 143) ---&gt;...</td>\n",
       "      <td>['HATP', 'HisKA', 'LOV']</td>\n",
       "      <td>HisKA</td>\n",
       "      <td>Kinase Activity</td>\n",
       "      <td>39.0</td>\n",
       "      <td>0.0</td>\n",
       "      <td>None</td>\n",
       "      <td>Bacteria</td>\n",
       "      <td>Proteobacteria</td>\n",
       "      <td>Alphaproteobacteria</td>\n",
       "      <td>Rhizobiales</td>\n",
       "      <td>Phyllobacteriaceae</td>\n",
       "      <td>Mesorhizobium</td>\n",
       "      <td>sp.</td>\n",
       "    </tr>\n",
       "    <tr>\n",
       "      <th>1127</th>\n",
       "      <td>Interpro</td>\n",
       "      <td>X6AVR5</td>\n",
       "      <td>ESY39056.1</td>\n",
       "      <td>MDWKRTREPADAWHMTDNLHAEHGKGDPFAAAIRATRMSMVITDPR...</td>\n",
       "      <td>GKNCRFLQ</td>\n",
       "      <td>382.0</td>\n",
       "      <td>[N_terminus : (0, 0) ---&gt; LOV : (37, 143) ---&gt;...</td>\n",
       "      <td>['HATP', 'HisKA', 'LOV']</td>\n",
       "      <td>HisKA</td>\n",
       "      <td>Kinase Activity</td>\n",
       "      <td>39.0</td>\n",
       "      <td>0.0</td>\n",
       "      <td>None</td>\n",
       "      <td>Bacteria</td>\n",
       "      <td>Proteobacteria</td>\n",
       "      <td>Alphaproteobacteria</td>\n",
       "      <td>Rhizobiales</td>\n",
       "      <td>Phyllobacteriaceae</td>\n",
       "      <td>Mesorhizobium</td>\n",
       "      <td>sp-LNJC386A00</td>\n",
       "    </tr>\n",
       "    <tr>\n",
       "      <th>1128</th>\n",
       "      <td>Interpro</td>\n",
       "      <td>X6C602</td>\n",
       "      <td>ESY60480.1</td>\n",
       "      <td>MDWKRTREPADAWHMTDNLHAEHGKGDPFAAAIRATRMSMVITDPR...</td>\n",
       "      <td>GKNCRFLQ</td>\n",
       "      <td>382.0</td>\n",
       "      <td>[N_terminus : (0, 0) ---&gt; LOV : (37, 143) ---&gt;...</td>\n",
       "      <td>['HATP', 'HisKA', 'LOV']</td>\n",
       "      <td>HisKA</td>\n",
       "      <td>Kinase Activity</td>\n",
       "      <td>39.0</td>\n",
       "      <td>0.0</td>\n",
       "      <td>None</td>\n",
       "      <td>Bacteria</td>\n",
       "      <td>Proteobacteria</td>\n",
       "      <td>Alphaproteobacteria</td>\n",
       "      <td>Rhizobiales</td>\n",
       "      <td>Phyllobacteriaceae</td>\n",
       "      <td>Mesorhizobium</td>\n",
       "      <td>sp-LNJC372A00</td>\n",
       "    </tr>\n",
       "    <tr>\n",
       "      <th>1129</th>\n",
       "      <td>Interpro</td>\n",
       "      <td>X6ECD4</td>\n",
       "      <td>ESY86109.1</td>\n",
       "      <td>MERKRTREPADAWHMTDDLHVEHGKGDPFAAAIRATRMSMIITDPR...</td>\n",
       "      <td>GRNCRFLQ</td>\n",
       "      <td>382.0</td>\n",
       "      <td>[N_terminus : (0, 0) ---&gt; LOV : (37, 143) ---&gt;...</td>\n",
       "      <td>['HATP', 'HisKA', 'LOV']</td>\n",
       "      <td>HisKA</td>\n",
       "      <td>Kinase Activity</td>\n",
       "      <td>39.0</td>\n",
       "      <td>0.0</td>\n",
       "      <td>None</td>\n",
       "      <td>Bacteria</td>\n",
       "      <td>Proteobacteria</td>\n",
       "      <td>Alphaproteobacteria</td>\n",
       "      <td>Rhizobiales</td>\n",
       "      <td>Phyllobacteriaceae</td>\n",
       "      <td>Mesorhizobium</td>\n",
       "      <td>sp.</td>\n",
       "    </tr>\n",
       "    <tr>\n",
       "      <th>1130</th>\n",
       "      <td>Interpro</td>\n",
       "      <td>X6EIB1</td>\n",
       "      <td>ESY88941.1</td>\n",
       "      <td>MPDNFKSTSALHGDAPAAAATTAWADRKELASAAFERTRMPIVITD...</td>\n",
       "      <td>GRNCRFLQ</td>\n",
       "      <td>352.0</td>\n",
       "      <td>[N_terminus : (0, 0) ---&gt; LOV : (39, 145) ---&gt;...</td>\n",
       "      <td>['HWE', 'LOV']</td>\n",
       "      <td>HWE</td>\n",
       "      <td>Kinase Activity</td>\n",
       "      <td>17.0</td>\n",
       "      <td>0.0</td>\n",
       "      <td>None</td>\n",
       "      <td>Bacteria</td>\n",
       "      <td>Proteobacteria</td>\n",
       "      <td>Alphaproteobacteria</td>\n",
       "      <td>Rhizobiales</td>\n",
       "      <td>Phyllobacteriaceae</td>\n",
       "      <td>Mesorhizobium</td>\n",
       "      <td>sp.</td>\n",
       "    </tr>\n",
       "    <tr>\n",
       "      <th>1131</th>\n",
       "      <td>Interpro</td>\n",
       "      <td>X6F5V3</td>\n",
       "      <td>ESY97190.1</td>\n",
       "      <td>MERKRTREPADAWHMTDDLHVEHGKGDPFAAAIRATRMSMIITDPR...</td>\n",
       "      <td>GRNCRFLQ</td>\n",
       "      <td>382.0</td>\n",
       "      <td>[N_terminus : (0, 0) ---&gt; LOV : (37, 143) ---&gt;...</td>\n",
       "      <td>['HATP', 'HisKA', 'LOV']</td>\n",
       "      <td>HisKA</td>\n",
       "      <td>Kinase Activity</td>\n",
       "      <td>39.0</td>\n",
       "      <td>0.0</td>\n",
       "      <td>None</td>\n",
       "      <td>Bacteria</td>\n",
       "      <td>Proteobacteria</td>\n",
       "      <td>Alphaproteobacteria</td>\n",
       "      <td>Rhizobiales</td>\n",
       "      <td>Phyllobacteriaceae</td>\n",
       "      <td>Mesorhizobium</td>\n",
       "      <td>sp.</td>\n",
       "    </tr>\n",
       "    <tr>\n",
       "      <th>1132</th>\n",
       "      <td>Interpro</td>\n",
       "      <td>X6FGD6</td>\n",
       "      <td>ESY99870.1</td>\n",
       "      <td>MPDNFKSTSALHGDAPAAAATTAWADRKELASAAFERTRMPIVITD...</td>\n",
       "      <td>GRNCRFLQ</td>\n",
       "      <td>352.0</td>\n",
       "      <td>[N_terminus : (0, 0) ---&gt; LOV : (39, 145) ---&gt;...</td>\n",
       "      <td>['HWE', 'LOV']</td>\n",
       "      <td>HWE</td>\n",
       "      <td>Kinase Activity</td>\n",
       "      <td>17.0</td>\n",
       "      <td>0.0</td>\n",
       "      <td>None</td>\n",
       "      <td>Bacteria</td>\n",
       "      <td>Proteobacteria</td>\n",
       "      <td>Alphaproteobacteria</td>\n",
       "      <td>Rhizobiales</td>\n",
       "      <td>Phyllobacteriaceae</td>\n",
       "      <td>Mesorhizobium</td>\n",
       "      <td>sp.</td>\n",
       "    </tr>\n",
       "    <tr>\n",
       "      <th>1133</th>\n",
       "      <td>Interpro</td>\n",
       "      <td>X6FK00</td>\n",
       "      <td>ESZ01651.1</td>\n",
       "      <td>MERKRTREPADAWHMTDDLHVEHGKGDPFAAAIRATRMSMIITDPR...</td>\n",
       "      <td>GKNCRFLQ</td>\n",
       "      <td>382.0</td>\n",
       "      <td>[N_terminus : (0, 0) ---&gt; LOV : (37, 143) ---&gt;...</td>\n",
       "      <td>['HATP', 'HisKA', 'LOV']</td>\n",
       "      <td>HisKA</td>\n",
       "      <td>Kinase Activity</td>\n",
       "      <td>39.0</td>\n",
       "      <td>0.0</td>\n",
       "      <td>None</td>\n",
       "      <td>Bacteria</td>\n",
       "      <td>Proteobacteria</td>\n",
       "      <td>Alphaproteobacteria</td>\n",
       "      <td>Rhizobiales</td>\n",
       "      <td>Phyllobacteriaceae</td>\n",
       "      <td>Mesorhizobium</td>\n",
       "      <td>sp.</td>\n",
       "    </tr>\n",
       "    <tr>\n",
       "      <th>1134</th>\n",
       "      <td>Interpro</td>\n",
       "      <td>X6G8Y9</td>\n",
       "      <td>ESZ16652.1</td>\n",
       "      <td>MDWKRTREPADAWHMTDNLHAEHGKGDPFAAAIRATRMSMVITDPR...</td>\n",
       "      <td>GKNCRFLQ</td>\n",
       "      <td>382.0</td>\n",
       "      <td>[N_terminus : (0, 0) ---&gt; LOV : (37, 143) ---&gt;...</td>\n",
       "      <td>['HATP', 'HisKA', 'LOV']</td>\n",
       "      <td>HisKA</td>\n",
       "      <td>Kinase Activity</td>\n",
       "      <td>39.0</td>\n",
       "      <td>0.0</td>\n",
       "      <td>None</td>\n",
       "      <td>Bacteria</td>\n",
       "      <td>Proteobacteria</td>\n",
       "      <td>Alphaproteobacteria</td>\n",
       "      <td>Rhizobiales</td>\n",
       "      <td>Phyllobacteriaceae</td>\n",
       "      <td>Mesorhizobium</td>\n",
       "      <td>sp-L2C085B000</td>\n",
       "    </tr>\n",
       "    <tr>\n",
       "      <th>1135</th>\n",
       "      <td>Interpro</td>\n",
       "      <td>X6HLQ2</td>\n",
       "      <td>ESZ33502.1</td>\n",
       "      <td>MDWKRTREPADAWHMTDNLHAEHGKGDPFAAAIRATRMSMVITDPR...</td>\n",
       "      <td>GKNCRFLQ</td>\n",
       "      <td>382.0</td>\n",
       "      <td>[N_terminus : (0, 0) ---&gt; LOV : (37, 143) ---&gt;...</td>\n",
       "      <td>['HATP', 'HisKA', 'LOV']</td>\n",
       "      <td>HisKA</td>\n",
       "      <td>Kinase Activity</td>\n",
       "      <td>39.0</td>\n",
       "      <td>0.0</td>\n",
       "      <td>None</td>\n",
       "      <td>Bacteria</td>\n",
       "      <td>Proteobacteria</td>\n",
       "      <td>Alphaproteobacteria</td>\n",
       "      <td>Rhizobiales</td>\n",
       "      <td>Phyllobacteriaceae</td>\n",
       "      <td>Mesorhizobium</td>\n",
       "      <td>sp.</td>\n",
       "    </tr>\n",
       "    <tr>\n",
       "      <th>1136</th>\n",
       "      <td>Interpro</td>\n",
       "      <td>X6ICZ8</td>\n",
       "      <td>ESZ42334.1</td>\n",
       "      <td>MDWKRTREPADAWHMTDNLHAEHGKGDPFAAAIRATRMSMVITDPR...</td>\n",
       "      <td>GKNCRFLQ</td>\n",
       "      <td>382.0</td>\n",
       "      <td>[N_terminus : (0, 0) ---&gt; LOV : (37, 143) ---&gt;...</td>\n",
       "      <td>['HATP', 'HisKA', 'LOV']</td>\n",
       "      <td>HisKA</td>\n",
       "      <td>Kinase Activity</td>\n",
       "      <td>39.0</td>\n",
       "      <td>0.0</td>\n",
       "      <td>None</td>\n",
       "      <td>Bacteria</td>\n",
       "      <td>Proteobacteria</td>\n",
       "      <td>Alphaproteobacteria</td>\n",
       "      <td>Rhizobiales</td>\n",
       "      <td>Phyllobacteriaceae</td>\n",
       "      <td>Mesorhizobium</td>\n",
       "      <td>sp-L103C119B0</td>\n",
       "    </tr>\n",
       "    <tr>\n",
       "      <th>1137</th>\n",
       "      <td>Interpro</td>\n",
       "      <td>X6IJE2</td>\n",
       "      <td>ESZ44857.1</td>\n",
       "      <td>MDWKRTREPADAWHMTDNLHAEHGKGDPFAAAIRATRMSMVITDPR...</td>\n",
       "      <td>GKNCRFLQ</td>\n",
       "      <td>382.0</td>\n",
       "      <td>[N_terminus : (0, 0) ---&gt; LOV : (37, 143) ---&gt;...</td>\n",
       "      <td>['HATP', 'HisKA', 'LOV']</td>\n",
       "      <td>HisKA</td>\n",
       "      <td>Kinase Activity</td>\n",
       "      <td>39.0</td>\n",
       "      <td>0.0</td>\n",
       "      <td>None</td>\n",
       "      <td>Bacteria</td>\n",
       "      <td>Proteobacteria</td>\n",
       "      <td>Alphaproteobacteria</td>\n",
       "      <td>Rhizobiales</td>\n",
       "      <td>Phyllobacteriaceae</td>\n",
       "      <td>Mesorhizobium</td>\n",
       "      <td>sp-L2C054A000</td>\n",
       "    </tr>\n",
       "    <tr>\n",
       "      <th>1138</th>\n",
       "      <td>Interpro</td>\n",
       "      <td>X6J5H7</td>\n",
       "      <td>ESZ52277.1</td>\n",
       "      <td>MDWKRTREPADAWHMTDNLHAEHGKGDPFAAAIRATRMSMVITDPR...</td>\n",
       "      <td>GKNCRFLQ</td>\n",
       "      <td>382.0</td>\n",
       "      <td>[N_terminus : (0, 0) ---&gt; LOV : (37, 143) ---&gt;...</td>\n",
       "      <td>['HATP', 'HisKA', 'LOV']</td>\n",
       "      <td>HisKA</td>\n",
       "      <td>Kinase Activity</td>\n",
       "      <td>39.0</td>\n",
       "      <td>0.0</td>\n",
       "      <td>None</td>\n",
       "      <td>Bacteria</td>\n",
       "      <td>Proteobacteria</td>\n",
       "      <td>Alphaproteobacteria</td>\n",
       "      <td>Rhizobiales</td>\n",
       "      <td>Phyllobacteriaceae</td>\n",
       "      <td>Mesorhizobium</td>\n",
       "      <td>sp.</td>\n",
       "    </tr>\n",
       "    <tr>\n",
       "      <th>1139</th>\n",
       "      <td>Interpro</td>\n",
       "      <td>X6JBB2</td>\n",
       "      <td>ESZ53370.1</td>\n",
       "      <td>MDWKRTREPADAWHMTDNLHAEHGKGDPFAAAIRATRMSMVITDPR...</td>\n",
       "      <td>GKNCRFLQ</td>\n",
       "      <td>382.0</td>\n",
       "      <td>[N_terminus : (0, 0) ---&gt; LOV : (37, 143) ---&gt;...</td>\n",
       "      <td>['HATP', 'HisKA', 'LOV']</td>\n",
       "      <td>HisKA</td>\n",
       "      <td>Kinase Activity</td>\n",
       "      <td>39.0</td>\n",
       "      <td>0.0</td>\n",
       "      <td>None</td>\n",
       "      <td>Bacteria</td>\n",
       "      <td>Proteobacteria</td>\n",
       "      <td>Alphaproteobacteria</td>\n",
       "      <td>Rhizobiales</td>\n",
       "      <td>Phyllobacteriaceae</td>\n",
       "      <td>Mesorhizobium</td>\n",
       "      <td>sp-L103C131B0</td>\n",
       "    </tr>\n",
       "    <tr>\n",
       "      <th>1140</th>\n",
       "      <td>Interpro</td>\n",
       "      <td>X6JSB2</td>\n",
       "      <td>ESZ63291.1</td>\n",
       "      <td>MDWKRTREPADAWHMTDNLHAEHGKGDPFAAAIRATRMSMVITDPR...</td>\n",
       "      <td>GKNCRFLQ</td>\n",
       "      <td>382.0</td>\n",
       "      <td>[N_terminus : (0, 0) ---&gt; LOV : (37, 143) ---&gt;...</td>\n",
       "      <td>['HATP', 'HisKA', 'LOV']</td>\n",
       "      <td>HisKA</td>\n",
       "      <td>Kinase Activity</td>\n",
       "      <td>39.0</td>\n",
       "      <td>0.0</td>\n",
       "      <td>None</td>\n",
       "      <td>Bacteria</td>\n",
       "      <td>Proteobacteria</td>\n",
       "      <td>Alphaproteobacteria</td>\n",
       "      <td>Rhizobiales</td>\n",
       "      <td>Phyllobacteriaceae</td>\n",
       "      <td>Mesorhizobium</td>\n",
       "      <td>sp-L103C119B0</td>\n",
       "    </tr>\n",
       "    <tr>\n",
       "      <th>1141</th>\n",
       "      <td>Interpro</td>\n",
       "      <td>X6KNJ5</td>\n",
       "      <td>ESZ77043.1</td>\n",
       "      <td>MDWKRTREPADAWHMTDNLHAEHGKGDPFAAAIRATRMSMVITDPR...</td>\n",
       "      <td>GKNCRFLQ</td>\n",
       "      <td>382.0</td>\n",
       "      <td>[N_terminus : (0, 0) ---&gt; LOV : (37, 143) ---&gt;...</td>\n",
       "      <td>['HATP', 'HisKA', 'LOV']</td>\n",
       "      <td>HisKA</td>\n",
       "      <td>Kinase Activity</td>\n",
       "      <td>39.0</td>\n",
       "      <td>0.0</td>\n",
       "      <td>None</td>\n",
       "      <td>Bacteria</td>\n",
       "      <td>Proteobacteria</td>\n",
       "      <td>Alphaproteobacteria</td>\n",
       "      <td>Rhizobiales</td>\n",
       "      <td>Phyllobacteriaceae</td>\n",
       "      <td>Mesorhizobium</td>\n",
       "      <td>sp-L103C105A0</td>\n",
       "    </tr>\n",
       "    <tr>\n",
       "      <th>1142</th>\n",
       "      <td>Interpro</td>\n",
       "      <td>X7EIB8</td>\n",
       "      <td>ETX15640.1</td>\n",
       "      <td>MTGMSEQGAEALLGSAVRHSPLSIVLTDPRLDDNPITYVNDSFQRT...</td>\n",
       "      <td>GRNCRFLQ</td>\n",
       "      <td>376.0</td>\n",
       "      <td>[N_terminus : (0, 0) ---&gt; LOV : (21, 127) ---&gt;...</td>\n",
       "      <td>['HATP', 'HisKA', 'LOV']</td>\n",
       "      <td>HisKA</td>\n",
       "      <td>Kinase Activity</td>\n",
       "      <td>23.0</td>\n",
       "      <td>0.0</td>\n",
       "      <td>None</td>\n",
       "      <td>Bacteria</td>\n",
       "      <td>Proteobacteria</td>\n",
       "      <td>Alphaproteobacteria</td>\n",
       "      <td>Rhodobacterales</td>\n",
       "      <td>Rhodobacteraceae</td>\n",
       "      <td>Roseivivax</td>\n",
       "      <td>halodurans</td>\n",
       "    </tr>\n",
       "    <tr>\n",
       "      <th>1143</th>\n",
       "      <td>Interpro</td>\n",
       "      <td>X7ELR5</td>\n",
       "      <td>ETX16098.1</td>\n",
       "      <td>MSDSAQRKLSAVLDDREAVAGFSRLSVAVVITNPRAPDNPIVYVNE...</td>\n",
       "      <td>GRNCRFLQ</td>\n",
       "      <td>350.0</td>\n",
       "      <td>[N_terminus : (0, 0) ---&gt; LOV : (26, 132) ---&gt;...</td>\n",
       "      <td>['HATP', 'LOV']</td>\n",
       "      <td>HATP</td>\n",
       "      <td>ATP binding</td>\n",
       "      <td>111.0</td>\n",
       "      <td>0.0</td>\n",
       "      <td>None</td>\n",
       "      <td>Bacteria</td>\n",
       "      <td>Proteobacteria</td>\n",
       "      <td>Alphaproteobacteria</td>\n",
       "      <td>Rhodobacterales</td>\n",
       "      <td>Rhodobacteraceae</td>\n",
       "      <td>Roseivivax</td>\n",
       "      <td>halodurans</td>\n",
       "    </tr>\n",
       "    <tr>\n",
       "      <th>1144</th>\n",
       "      <td>Interpro</td>\n",
       "      <td>X7FG00</td>\n",
       "      <td>ETX30981.1</td>\n",
       "      <td>MTTTTGSRRRLTAVLDDREALAGFSRLGISLIITNPRAPDNPIVYV...</td>\n",
       "      <td>GRNCRFLQ</td>\n",
       "      <td>353.0</td>\n",
       "      <td>[N_terminus : (0, 0) ---&gt; LOV : (29, 134) ---&gt;...</td>\n",
       "      <td>['HATP', 'LOV']</td>\n",
       "      <td>HATP</td>\n",
       "      <td>ATP binding</td>\n",
       "      <td>95.0</td>\n",
       "      <td>0.0</td>\n",
       "      <td>None</td>\n",
       "      <td>Bacteria</td>\n",
       "      <td>Proteobacteria</td>\n",
       "      <td>Alphaproteobacteria</td>\n",
       "      <td>Rhodobacterales</td>\n",
       "      <td>Rhodobacteraceae</td>\n",
       "      <td>Roseivivax</td>\n",
       "      <td>isoporae</td>\n",
       "    </tr>\n",
       "    <tr>\n",
       "      <th>1145</th>\n",
       "      <td>Interpro</td>\n",
       "      <td>Z4WJR2</td>\n",
       "      <td>EWC52206.1</td>\n",
       "      <td>MNDPGHGELRAPHISESRSLPVEKHRSDIFFAAVETTRMPMTVTDP...</td>\n",
       "      <td>GNNCRFLQ</td>\n",
       "      <td>540.0</td>\n",
       "      <td>[N_terminus : (0, 0) ---&gt; LOV : (38, 144) ---&gt;...</td>\n",
       "      <td>['HATP', 'HisKA', 'LOV', 'RR']</td>\n",
       "      <td>HisKA</td>\n",
       "      <td>Kinase Activity</td>\n",
       "      <td>16.0</td>\n",
       "      <td>0.0</td>\n",
       "      <td>None</td>\n",
       "      <td>Bacteria</td>\n",
       "      <td>Proteobacteria</td>\n",
       "      <td>Gammaproteobacteria</td>\n",
       "      <td>Xanthomonadales</td>\n",
       "      <td>Xanthomonadaceae</td>\n",
       "      <td>Xanthomonas</td>\n",
       "      <td>axonopodis</td>\n",
       "    </tr>\n",
       "  </tbody>\n",
       "</table>\n",
       "<p>1146 rows × 20 columns</p>\n",
       "</div>"
      ],
      "text/plain": [
       "     Database Source Sequence ID  GenBank ID  \\\n",
       "0           Interpro  A0A009EVU7  EXA65901.1   \n",
       "1           Interpro  A0A009JQP1  EXB31618.1   \n",
       "2           Interpro  A0A009NCY2  EXB82898.1   \n",
       "3           Interpro  A0A010FRR9  EXE12759.1   \n",
       "4           Interpro  A0A010PA15  EXF50104.1   \n",
       "5           Interpro  A0A010R2U6  EXF56192.1   \n",
       "6           Interpro  A0A010S5W0  EXF95929.1   \n",
       "7           Interpro  A0A011AMP2  EXG83241.1   \n",
       "8           Interpro  A0A011N2L2  EXI69126.1   \n",
       "9           Interpro  A0A011QQZ8  EXI81314.1   \n",
       "10          Interpro  A0A011T356  EXL06034.1   \n",
       "11          Interpro  A0A013VIT1  EXS71289.1   \n",
       "12          Interpro  A0A013VSJ0  EXS71502.1   \n",
       "13          Interpro  A0A017HH61  EYD73114.1   \n",
       "14          Interpro  A0A017HHL5  EYD73815.1   \n",
       "15          Interpro  A0A021VME4  EYR62349.1   \n",
       "16          Interpro  A0A023C756  EZI26573.1   \n",
       "17          Interpro  A0A023WST5  AHY43183.1   \n",
       "18          Interpro  A0A024E4H4  AHZ67490.1   \n",
       "19          Interpro  A0A024EB53  AHZ69583.1   \n",
       "20          Interpro  A0A024HJI7  CDF84682.1   \n",
       "21          Interpro  A0A024P9I6  CDQ25523.1   \n",
       "22          Interpro  A0A024QDD9  CDQ40489.1   \n",
       "23          Interpro  A0A028UZ45  EZH76329.1   \n",
       "24          Interpro  A0A028V6B7  EZH78763.1   \n",
       "25          Interpro  A0A031G926  EZP32966.1   \n",
       "26          Interpro  A0A031HJ36  EZP48717.1   \n",
       "27          Interpro  A0A031HKX0  EZP48715.1   \n",
       "28          Interpro  A0A031I128  EZP55304.1   \n",
       "29          Interpro  A0A031I1U0  EZP54977.1   \n",
       "...              ...         ...         ...   \n",
       "1116        Interpro      X0RD28  GAF66693.1   \n",
       "1117        Interpro      X5PGQ1  ESW68830.1   \n",
       "1118        Interpro      X5QL61  ESW87820.1   \n",
       "1119        Interpro      X5QT50  ESW89668.1   \n",
       "1120        Interpro      X5RWL4  ESX10055.1   \n",
       "1121        Interpro      X5UCZ9  ESX45351.1   \n",
       "1122        Interpro      X5VMB1  ESX60871.1   \n",
       "1123        Interpro      X5XB53  ESX89787.1   \n",
       "1124        Interpro      X5Y376  ESX99282.1   \n",
       "1125        Interpro      X5YMF7  ESY04819.1   \n",
       "1126        Interpro      X5ZMZ1  ESY19789.1   \n",
       "1127        Interpro      X6AVR5  ESY39056.1   \n",
       "1128        Interpro      X6C602  ESY60480.1   \n",
       "1129        Interpro      X6ECD4  ESY86109.1   \n",
       "1130        Interpro      X6EIB1  ESY88941.1   \n",
       "1131        Interpro      X6F5V3  ESY97190.1   \n",
       "1132        Interpro      X6FGD6  ESY99870.1   \n",
       "1133        Interpro      X6FK00  ESZ01651.1   \n",
       "1134        Interpro      X6G8Y9  ESZ16652.1   \n",
       "1135        Interpro      X6HLQ2  ESZ33502.1   \n",
       "1136        Interpro      X6ICZ8  ESZ42334.1   \n",
       "1137        Interpro      X6IJE2  ESZ44857.1   \n",
       "1138        Interpro      X6J5H7  ESZ52277.1   \n",
       "1139        Interpro      X6JBB2  ESZ53370.1   \n",
       "1140        Interpro      X6JSB2  ESZ63291.1   \n",
       "1141        Interpro      X6KNJ5  ESZ77043.1   \n",
       "1142        Interpro      X7EIB8  ETX15640.1   \n",
       "1143        Interpro      X7ELR5  ETX16098.1   \n",
       "1144        Interpro      X7FG00  ETX30981.1   \n",
       "1145        Interpro      Z4WJR2  EWC52206.1   \n",
       "\n",
       "                                      Primary Structure GXNCRFLQ Motif  \\\n",
       "0     MTSFYNGGTSQEIFNLIGQAAALEDIIDAITVWLGDKIPDALVSVM...       GKNCRILQ   \n",
       "1     MNNNCDDHDTYHIFNLIGQHTELHLILSAASTWLESRISNVLVAIM...       GKTCHFLQ   \n",
       "2     MNNNCDDHDTYYIFNLIGQHTELHLILSAASTWLESRISNVLVAIM...       GKTCHFLQ   \n",
       "3     MNNNCDDHDTYHIFNLIGQHTELHLILSAASTWLESRISNVLVAIM...       GKTCHFLQ   \n",
       "4     MQHEPMRLRSLLLSSMIPRLALLIAVLSITLVALSFHFIIKQTNSL...       GHNCRSMQ   \n",
       "5     MNNNCDDHDTYHIFNLIGQHTELHLILSAASTWLESRISNVLVAIM...       GKTCHFLQ   \n",
       "6     MTYSHKLRLLLIEDDEDDYLIVRDLLNEVRQLQYQLDWVSDYDEAL...       GRNCRFLQ   \n",
       "7     MNDLPASKPDWPHIIGELRSSVTITDATDPKQPLIFVNEYFLQLTG...       GRNCRFLQ   \n",
       "8     MFTTAKDDGLIPYVLTQILDACVNGITLSDPDLPDNPIVYANKVFE...       GRNCRFLQ   \n",
       "9     MFTTAKDDGLIPYVLTQILDACVNGITLSDPDLPDNPIVYANKVFE...       GRNCRFLQ   \n",
       "10    MATRVQPSVKVLGASFSQEANPFTAAVELTPMPMLITNPRLPDNPI...       GKNCRFLQ   \n",
       "11    MPLSDMIASSAIPAVISDPRLPDNPIVDCNDAFMALTGYSRADIIG...       GHNCRFLK   \n",
       "12    MSLVEMIANSPVATVISNPRLPDNPIIECNAAFMELTGFSRDEIVG...       GHNCRFLS   \n",
       "13    MKDQAHRSPAQGETRAQQFENARSQAGQVSLSGESGVLFEQAMAQT...       GRNCRFLQ   \n",
       "14    MQGRPDRLNEEMLLETIRHARLPLCITDPTLPDNPIVFANDAFCAL...       GRNCRFLQ   \n",
       "15    MLQDPVAAPAGSPRASDPRARSALPALVHDRPAATLLVDLDRGEVV...       GKNCRFLQ   \n",
       "16    MINAQLMQMVINASNDGIVIAEREGLDKPLIYVNPAFERMTGYTPD...       YQDCRFLQ   \n",
       "17    MINAKLLQLVIEASNDGIVVAEQEGDDNILIYANPAFERLTGYAVD...       YRDCRFLQ   \n",
       "18    MIDAELLKLVVEASNDGIVVAEQEGDENILIYANPAFQRLTGYSVD...       YQDCRFLQ   \n",
       "19    MINAQLLQMVINASNDGIVIAEKEGDQDNILIYVNPAFERLTGYTS...       YQDCRFLQ   \n",
       "20    MINAKLLQLVVEASNDGIVVAEQEGEDSILIYVNPAFERLTGYAGA...       YQDCRFLQ   \n",
       "21    MFARLEEIQQNEFIKAAIDHVGAGVVITDPEQDDNPLIYCNQGFEE...       GRNCRLLQ   \n",
       "22    MTVKNNKERLYLLEKALNYTEVGLIITDPSIEDNPIIIANKGFLEL...       GKNCRFLQ   \n",
       "23    MPAAFPDRLPNWTWWLPLPILHLATWISLATRLNDGVALCYLPLVL...       GRNCRFLL   \n",
       "24    MINAKLLQLVVDASNDGIVVAEQEGEDNILIYANAAFERLTGYSCD...       YQDCRFLQ   \n",
       "25    MINASLLQMVINASNDGVVVAEKEGEQDNILIYVNPAFERLTGYTS...       YQDCRFLQ   \n",
       "26    MQAAIDAYARGLDACDPMQVGFAMTPVAMVVSDPTLPDCPLIYVNP...       GRNCRFMQ   \n",
       "27    MVDETTETPPGGPPPHLSGAANHDMGDDSNSIFFAAVKTTRMPMIV...       GTNCRLLQ   \n",
       "28    MADGTPEKPRGGPPPHLQRVTNHDMADDRNGIFFAAVSTTRMPMIV...       GRNCRLLQ   \n",
       "29    MDRYLLSADRIVPVAPAPAVQAAIDAFAARLDGTDPFVVGFRDAVL...       GRNCRMLQ   \n",
       "...                                                 ...            ...   \n",
       "1116  MEQILSNHKVIIEALNYTRAGVLITDPSLKDNPIVYANQGFLDMTG...       GKNCRFLQ   \n",
       "1117  MDWKRTREPADAWHMTDNLHAEHGKGDPFAAAIRATRMSMVITDPR...       GKNCRFLQ   \n",
       "1118  MDWKRTREPADAWHMTDNLHAEHGKGDPFAAAIRATRMSMVITDPR...       GKNCRFLQ   \n",
       "1119  MDWKRTREPADAWHMTDNLHAEHGKGDPFAAAIRATRMSMVITDPR...       GKNCRFLQ   \n",
       "1120  MDWKRTREPADAWHMTDNLHAEHGKGDPFAAAIRATRMSMVITDPR...       GKNCRFLQ   \n",
       "1121  MDWKRTREPADAWHMTDNLHAEHGKGDPFAAAIRATRMSMVITDPR...       GKNCRFLQ   \n",
       "1122  MDWKRTREPADAWHMTDNLHAEHGKGDPFAAAIRATRMSMVITDPR...       GKNCRFLQ   \n",
       "1123  MDWKRTREPADAWHMTDNLHAEHGKGDPFAAAIRATRMSMVITDPR...       GKNCRFLQ   \n",
       "1124  MDWKRTREPADAWHMTDNLHAEHGKGDPFAAAIRATRMSMVITDPR...       GKNCRFLQ   \n",
       "1125  MDWKRTREPADAWHMTDNLHAEHGKGDPFAAAIRATRMSMVITDPR...       GKNCRFLQ   \n",
       "1126  MDWKRTREPADAWHMTDNLHAEHGKGDPFAAAIRATRMSMVITDPR...       GKNCRFLQ   \n",
       "1127  MDWKRTREPADAWHMTDNLHAEHGKGDPFAAAIRATRMSMVITDPR...       GKNCRFLQ   \n",
       "1128  MDWKRTREPADAWHMTDNLHAEHGKGDPFAAAIRATRMSMVITDPR...       GKNCRFLQ   \n",
       "1129  MERKRTREPADAWHMTDDLHVEHGKGDPFAAAIRATRMSMIITDPR...       GRNCRFLQ   \n",
       "1130  MPDNFKSTSALHGDAPAAAATTAWADRKELASAAFERTRMPIVITD...       GRNCRFLQ   \n",
       "1131  MERKRTREPADAWHMTDDLHVEHGKGDPFAAAIRATRMSMIITDPR...       GRNCRFLQ   \n",
       "1132  MPDNFKSTSALHGDAPAAAATTAWADRKELASAAFERTRMPIVITD...       GRNCRFLQ   \n",
       "1133  MERKRTREPADAWHMTDDLHVEHGKGDPFAAAIRATRMSMIITDPR...       GKNCRFLQ   \n",
       "1134  MDWKRTREPADAWHMTDNLHAEHGKGDPFAAAIRATRMSMVITDPR...       GKNCRFLQ   \n",
       "1135  MDWKRTREPADAWHMTDNLHAEHGKGDPFAAAIRATRMSMVITDPR...       GKNCRFLQ   \n",
       "1136  MDWKRTREPADAWHMTDNLHAEHGKGDPFAAAIRATRMSMVITDPR...       GKNCRFLQ   \n",
       "1137  MDWKRTREPADAWHMTDNLHAEHGKGDPFAAAIRATRMSMVITDPR...       GKNCRFLQ   \n",
       "1138  MDWKRTREPADAWHMTDNLHAEHGKGDPFAAAIRATRMSMVITDPR...       GKNCRFLQ   \n",
       "1139  MDWKRTREPADAWHMTDNLHAEHGKGDPFAAAIRATRMSMVITDPR...       GKNCRFLQ   \n",
       "1140  MDWKRTREPADAWHMTDNLHAEHGKGDPFAAAIRATRMSMVITDPR...       GKNCRFLQ   \n",
       "1141  MDWKRTREPADAWHMTDNLHAEHGKGDPFAAAIRATRMSMVITDPR...       GKNCRFLQ   \n",
       "1142  MTGMSEQGAEALLGSAVRHSPLSIVLTDPRLDDNPITYVNDSFQRT...       GRNCRFLQ   \n",
       "1143  MSDSAQRKLSAVLDDREAVAGFSRLSVAVVITNPRAPDNPIVYVNE...       GRNCRFLQ   \n",
       "1144  MTTTTGSRRRLTAVLDDREALAGFSRLGISLIITNPRAPDNPIVYV...       GRNCRFLQ   \n",
       "1145  MNDPGHGELRAPHISESRSLPVEKHRSDIFFAAVETTRMPMTVTDP...       GNNCRFLQ   \n",
       "\n",
       "      Protein Length                                   Domain Structure  \\\n",
       "0              850.0  [N_terminus : (0, 0) ---> GAF_2 : (9, 166) ---...   \n",
       "1              855.0  [N_terminus : (0, 0) ---> GAF_2 : (26, 166) --...   \n",
       "2              855.0  [N_terminus : (0, 0) ---> GAF_2 : (26, 166) --...   \n",
       "3              855.0  [N_terminus : (0, 0) ---> GAF_2 : (26, 166) --...   \n",
       "4              961.0  [N_terminus : (0, 0) ---> LOV : (450, 555) ---...   \n",
       "5              855.0  [N_terminus : (0, 0) ---> GAF_2 : (26, 166) --...   \n",
       "6              733.0  [N_terminus : (0, 0) ---> Response_reg : (9, 1...   \n",
       "7              385.0  [N_terminus : (0, 0) ---> LOV : (20, 125) --->...   \n",
       "8              146.0  [N_terminus : (0, 0) ---> LOV : (23, 129) --->...   \n",
       "9              146.0  [N_terminus : (0, 0) ---> LOV : (23, 129) --->...   \n",
       "10             491.0  [N_terminus : (0, 0) ---> LOV : (31, 137) --->...   \n",
       "11             195.0  [N_terminus : (0, 0) ---> LOV : (12, 113) --->...   \n",
       "12             195.0  [N_terminus : (0, 0) ---> LOV : (11, 117) --->...   \n",
       "13             360.0  [N_terminus : (0, 0) ---> LOV : (47, 153) --->...   \n",
       "14             322.0  [N_terminus : (0, 0) ---> LOV : (21, 127) --->...   \n",
       "15             715.0  [N_terminus : (0, 0) ---> LOV : (168, 274) ---...   \n",
       "16             155.0  [N_terminus : (0, 0) ---> LOV : (15, 121) --->...   \n",
       "17             148.0  [N_terminus : (0, 0) ---> LOV : (15, 121) --->...   \n",
       "18             150.0  [N_terminus : (0, 0) ---> LOV : (15, 121) --->...   \n",
       "19             159.0  [N_terminus : (0, 0) ---> LOV : (15, 123) --->...   \n",
       "20             148.0  [N_terminus : (0, 0) ---> LOV : (15, 121) --->...   \n",
       "21             158.0  [N_terminus : (0, 0) ---> LOV : (22, 122) --->...   \n",
       "22             265.0  [N_terminus : (0, 0) ---> LOV : (21, 127) --->...   \n",
       "23            1252.0  [N_terminus : (0, 0) ---> Mase1 : (12, 302) --...   \n",
       "24             148.0  [N_terminus : (0, 0) ---> LOV : (15, 121) --->...   \n",
       "25             158.0  [N_terminus : (0, 0) ---> LOV : (15, 122) --->...   \n",
       "26             477.0  [N_terminus : (0, 0) ---> LOV : (26, 132) --->...   \n",
       "27             546.0  [N_terminus : (0, 0) ---> LOV : (41, 147) --->...   \n",
       "28             542.0  [N_terminus : (0, 0) ---> LOV : (41, 147) --->...   \n",
       "29             496.0  [N_terminus : (0, 0) ---> LOV : (46, 151) --->...   \n",
       "...              ...                                                ...   \n",
       "1116           257.0  [N_terminus : (0, 0) ---> LOV : (19, 125) --->...   \n",
       "1117           382.0  [N_terminus : (0, 0) ---> LOV : (37, 143) --->...   \n",
       "1118           382.0  [N_terminus : (0, 0) ---> LOV : (37, 143) --->...   \n",
       "1119           382.0  [N_terminus : (0, 0) ---> LOV : (37, 143) --->...   \n",
       "1120           382.0  [N_terminus : (0, 0) ---> LOV : (37, 143) --->...   \n",
       "1121           382.0  [N_terminus : (0, 0) ---> LOV : (37, 143) --->...   \n",
       "1122           382.0  [N_terminus : (0, 0) ---> LOV : (37, 143) --->...   \n",
       "1123           382.0  [N_terminus : (0, 0) ---> LOV : (37, 143) --->...   \n",
       "1124           382.0  [N_terminus : (0, 0) ---> LOV : (37, 143) --->...   \n",
       "1125           382.0  [N_terminus : (0, 0) ---> LOV : (37, 143) --->...   \n",
       "1126           382.0  [N_terminus : (0, 0) ---> LOV : (37, 143) --->...   \n",
       "1127           382.0  [N_terminus : (0, 0) ---> LOV : (37, 143) --->...   \n",
       "1128           382.0  [N_terminus : (0, 0) ---> LOV : (37, 143) --->...   \n",
       "1129           382.0  [N_terminus : (0, 0) ---> LOV : (37, 143) --->...   \n",
       "1130           352.0  [N_terminus : (0, 0) ---> LOV : (39, 145) --->...   \n",
       "1131           382.0  [N_terminus : (0, 0) ---> LOV : (37, 143) --->...   \n",
       "1132           352.0  [N_terminus : (0, 0) ---> LOV : (39, 145) --->...   \n",
       "1133           382.0  [N_terminus : (0, 0) ---> LOV : (37, 143) --->...   \n",
       "1134           382.0  [N_terminus : (0, 0) ---> LOV : (37, 143) --->...   \n",
       "1135           382.0  [N_terminus : (0, 0) ---> LOV : (37, 143) --->...   \n",
       "1136           382.0  [N_terminus : (0, 0) ---> LOV : (37, 143) --->...   \n",
       "1137           382.0  [N_terminus : (0, 0) ---> LOV : (37, 143) --->...   \n",
       "1138           382.0  [N_terminus : (0, 0) ---> LOV : (37, 143) --->...   \n",
       "1139           382.0  [N_terminus : (0, 0) ---> LOV : (37, 143) --->...   \n",
       "1140           382.0  [N_terminus : (0, 0) ---> LOV : (37, 143) --->...   \n",
       "1141           382.0  [N_terminus : (0, 0) ---> LOV : (37, 143) --->...   \n",
       "1142           376.0  [N_terminus : (0, 0) ---> LOV : (21, 127) --->...   \n",
       "1143           350.0  [N_terminus : (0, 0) ---> LOV : (26, 132) --->...   \n",
       "1144           353.0  [N_terminus : (0, 0) ---> LOV : (29, 134) --->...   \n",
       "1145           540.0  [N_terminus : (0, 0) ---> LOV : (38, 144) --->...   \n",
       "\n",
       "                           Functional Cluster Primary Effector  \\\n",
       "0       ['EAL', 'GAF', 'GGDEF', 'LOV', 'PAS']            GGDEF   \n",
       "1       ['EAL', 'GAF', 'GGDEF', 'LOV', 'PAS']            GGDEF   \n",
       "2       ['EAL', 'GAF', 'GGDEF', 'LOV', 'PAS']            GGDEF   \n",
       "3       ['EAL', 'GAF', 'GGDEF', 'LOV', 'PAS']            GGDEF   \n",
       "4              ['HATP', 'HisKA', 'LOV', 'RR']            HisKA   \n",
       "5       ['EAL', 'GAF', 'GGDEF', 'LOV', 'PAS']            GGDEF   \n",
       "6               ['GGDEF', 'LOV', 'PAS', 'RR']            GGDEF   \n",
       "7                    ['HATP', 'HisKA', 'LOV']            HisKA   \n",
       "8                                     ['LOV']        Short_LOV   \n",
       "9                                     ['LOV']        Short_LOV   \n",
       "10                      ['HWE', 'LOV', 'PAS']              PAS   \n",
       "11                            ['GerE', 'LOV']             GerE   \n",
       "12                            ['GerE', 'LOV']             GerE   \n",
       "13                             ['HWE', 'LOV']              HWE   \n",
       "14                             ['HWE', 'LOV']              HWE   \n",
       "15                   ['GAF', 'LOV', 'SpoIIE']              GAF   \n",
       "16                                    ['LOV']        Short_LOV   \n",
       "17                                    ['LOV']        Short_LOV   \n",
       "18                                    ['LOV']        Short_LOV   \n",
       "19                                    ['LOV']        Short_LOV   \n",
       "20                                    ['LOV']        Short_LOV   \n",
       "21                                    ['LOV']        Short_LOV   \n",
       "22                            ['LOV', 'STAS']             STAS   \n",
       "23    ['EAL', 'GGDEF', 'LOV', 'Mase1', 'PAS']            Mase1   \n",
       "24                                    ['LOV']        Short_LOV   \n",
       "25                                    ['LOV']        Short_LOV   \n",
       "26                      ['HWE', 'LOV', 'PAS']              PAS   \n",
       "27             ['HATP', 'HisKA', 'LOV', 'RR']            HisKA   \n",
       "28             ['HATP', 'HisKA', 'LOV', 'RR']            HisKA   \n",
       "29                      ['HWE', 'LOV', 'PAS']              PAS   \n",
       "...                                       ...              ...   \n",
       "1116                          ['LOV', 'STAS']             STAS   \n",
       "1117                 ['HATP', 'HisKA', 'LOV']            HisKA   \n",
       "1118                 ['HATP', 'HisKA', 'LOV']            HisKA   \n",
       "1119                 ['HATP', 'HisKA', 'LOV']            HisKA   \n",
       "1120                 ['HATP', 'HisKA', 'LOV']            HisKA   \n",
       "1121                 ['HATP', 'HisKA', 'LOV']            HisKA   \n",
       "1122                 ['HATP', 'HisKA', 'LOV']            HisKA   \n",
       "1123                 ['HATP', 'HisKA', 'LOV']            HisKA   \n",
       "1124                 ['HATP', 'HisKA', 'LOV']            HisKA   \n",
       "1125                 ['HATP', 'HisKA', 'LOV']            HisKA   \n",
       "1126                 ['HATP', 'HisKA', 'LOV']            HisKA   \n",
       "1127                 ['HATP', 'HisKA', 'LOV']            HisKA   \n",
       "1128                 ['HATP', 'HisKA', 'LOV']            HisKA   \n",
       "1129                 ['HATP', 'HisKA', 'LOV']            HisKA   \n",
       "1130                           ['HWE', 'LOV']              HWE   \n",
       "1131                 ['HATP', 'HisKA', 'LOV']            HisKA   \n",
       "1132                           ['HWE', 'LOV']              HWE   \n",
       "1133                 ['HATP', 'HisKA', 'LOV']            HisKA   \n",
       "1134                 ['HATP', 'HisKA', 'LOV']            HisKA   \n",
       "1135                 ['HATP', 'HisKA', 'LOV']            HisKA   \n",
       "1136                 ['HATP', 'HisKA', 'LOV']            HisKA   \n",
       "1137                 ['HATP', 'HisKA', 'LOV']            HisKA   \n",
       "1138                 ['HATP', 'HisKA', 'LOV']            HisKA   \n",
       "1139                 ['HATP', 'HisKA', 'LOV']            HisKA   \n",
       "1140                 ['HATP', 'HisKA', 'LOV']            HisKA   \n",
       "1141                 ['HATP', 'HisKA', 'LOV']            HisKA   \n",
       "1142                 ['HATP', 'HisKA', 'LOV']            HisKA   \n",
       "1143                          ['HATP', 'LOV']             HATP   \n",
       "1144                          ['HATP', 'LOV']             HATP   \n",
       "1145           ['HATP', 'HisKA', 'LOV', 'RR']            HisKA   \n",
       "\n",
       "     Primary Effector Gene Ontology  Linker Length  \\\n",
       "0     Cyclic Nucleotide Biosythesis           12.0   \n",
       "1     Cyclic Nucleotide Biosythesis           12.0   \n",
       "2     Cyclic Nucleotide Biosythesis           12.0   \n",
       "3     Cyclic Nucleotide Biosythesis           12.0   \n",
       "4                   Kinase Activity           21.0   \n",
       "5     Cyclic Nucleotide Biosythesis           12.0   \n",
       "6     Cyclic Nucleotide Biosythesis           12.0   \n",
       "7                   Kinase Activity           21.0   \n",
       "8                         Short LOV            0.0   \n",
       "9                         Short LOV            0.0   \n",
       "10              Signal transduction           46.0   \n",
       "11                      DNA binding           20.0   \n",
       "12                      DNA binding           16.0   \n",
       "13                  Kinase Activity           17.0   \n",
       "14                  Kinase Activity           15.0   \n",
       "15              Protein interaction           23.0   \n",
       "16                        Short LOV            0.0   \n",
       "17                        Short LOV            0.0   \n",
       "18                        Short LOV            0.0   \n",
       "19                        Short LOV            0.0   \n",
       "20                        Short LOV            0.0   \n",
       "21                        Short LOV            0.0   \n",
       "22     General NTP-binding Activity           20.0   \n",
       "23                 Unknown function           22.0   \n",
       "24                        Short LOV            0.0   \n",
       "25                        Short LOV            0.0   \n",
       "26              Signal transduction           53.0   \n",
       "27                  Kinase Activity           16.0   \n",
       "28                  Kinase Activity           16.0   \n",
       "29              Signal transduction           53.0   \n",
       "...                             ...            ...   \n",
       "1116   General NTP-binding Activity           22.0   \n",
       "1117                Kinase Activity           39.0   \n",
       "1118                Kinase Activity           39.0   \n",
       "1119                Kinase Activity           39.0   \n",
       "1120                Kinase Activity           39.0   \n",
       "1121                Kinase Activity           39.0   \n",
       "1122                Kinase Activity           39.0   \n",
       "1123                Kinase Activity           39.0   \n",
       "1124                Kinase Activity           39.0   \n",
       "1125                Kinase Activity           39.0   \n",
       "1126                Kinase Activity           39.0   \n",
       "1127                Kinase Activity           39.0   \n",
       "1128                Kinase Activity           39.0   \n",
       "1129                Kinase Activity           39.0   \n",
       "1130                Kinase Activity           17.0   \n",
       "1131                Kinase Activity           39.0   \n",
       "1132                Kinase Activity           17.0   \n",
       "1133                Kinase Activity           39.0   \n",
       "1134                Kinase Activity           39.0   \n",
       "1135                Kinase Activity           39.0   \n",
       "1136                Kinase Activity           39.0   \n",
       "1137                Kinase Activity           39.0   \n",
       "1138                Kinase Activity           39.0   \n",
       "1139                Kinase Activity           39.0   \n",
       "1140                Kinase Activity           39.0   \n",
       "1141                Kinase Activity           39.0   \n",
       "1142                Kinase Activity           23.0   \n",
       "1143                    ATP binding          111.0   \n",
       "1144                    ATP binding           95.0   \n",
       "1145                Kinase Activity           16.0   \n",
       "\n",
       "      Number of Predicted Transmembrane Helices  \\\n",
       "0                                           0.0   \n",
       "1                                           0.0   \n",
       "2                                           0.0   \n",
       "3                                           0.0   \n",
       "4                                           2.0   \n",
       "5                                           0.0   \n",
       "6                                           0.0   \n",
       "7                                           0.0   \n",
       "8                                           0.0   \n",
       "9                                           0.0   \n",
       "10                                          0.0   \n",
       "11                                          0.0   \n",
       "12                                          0.0   \n",
       "13                                          0.0   \n",
       "14                                          0.0   \n",
       "15                                          0.0   \n",
       "16                                          0.0   \n",
       "17                                          0.0   \n",
       "18                                          0.0   \n",
       "19                                          0.0   \n",
       "20                                          0.0   \n",
       "21                                          1.0   \n",
       "22                                          0.0   \n",
       "23                                          8.0   \n",
       "24                                          0.0   \n",
       "25                                          0.0   \n",
       "26                                          0.0   \n",
       "27                                          0.0   \n",
       "28                                          0.0   \n",
       "29                                          0.0   \n",
       "...                                         ...   \n",
       "1116                                        0.0   \n",
       "1117                                        0.0   \n",
       "1118                                        0.0   \n",
       "1119                                        0.0   \n",
       "1120                                        0.0   \n",
       "1121                                        0.0   \n",
       "1122                                        0.0   \n",
       "1123                                        0.0   \n",
       "1124                                        0.0   \n",
       "1125                                        0.0   \n",
       "1126                                        0.0   \n",
       "1127                                        0.0   \n",
       "1128                                        0.0   \n",
       "1129                                        0.0   \n",
       "1130                                        0.0   \n",
       "1131                                        0.0   \n",
       "1132                                        0.0   \n",
       "1133                                        0.0   \n",
       "1134                                        0.0   \n",
       "1135                                        0.0   \n",
       "1136                                        0.0   \n",
       "1137                                        0.0   \n",
       "1138                                        0.0   \n",
       "1139                                        0.0   \n",
       "1140                                        0.0   \n",
       "1141                                        0.0   \n",
       "1142                                        0.0   \n",
       "1143                                        0.0   \n",
       "1144                                        0.0   \n",
       "1145                                        0.0   \n",
       "\n",
       "                          Transmembrane Helix Topology    Kingdom  \\\n",
       "0                                                  None  Bacteria   \n",
       "1                                                  None  Bacteria   \n",
       "2                                                  None  Bacteria   \n",
       "3                                                  None  Bacteria   \n",
       "4                                       o20-39i248-270o  Bacteria   \n",
       "5                                                  None  Bacteria   \n",
       "6                                                  None  Bacteria   \n",
       "7                                                  None  Bacteria   \n",
       "8                                                  None  Bacteria   \n",
       "9                                                  None  Bacteria   \n",
       "10                                                 None  Bacteria   \n",
       "11                                                 None  Bacteria   \n",
       "12                                                 None  Bacteria   \n",
       "13                                                 None  Bacteria   \n",
       "14                                                 None  Bacteria   \n",
       "15                                                 None  Bacteria   \n",
       "16                                                 None  Bacteria   \n",
       "17                                                 None  Bacteria   \n",
       "18                                                 None  Bacteria   \n",
       "19                                                 None  Bacteria   \n",
       "20                                                 None  Bacteria   \n",
       "21                                            o114-136i  Bacteria   \n",
       "22                                                 None  Bacteria   \n",
       "23    o13-30i37-56o76-98i118-140o160-182i203-225o235...  Bacteria   \n",
       "24                                                 None  Bacteria   \n",
       "25                                                 None  Bacteria   \n",
       "26                                                 None  Bacteria   \n",
       "27                                                 None  Bacteria   \n",
       "28                                                 None  Bacteria   \n",
       "29                                                 None  Bacteria   \n",
       "...                                                 ...       ...   \n",
       "1116                                               None  Bacteria   \n",
       "1117                                               None  Bacteria   \n",
       "1118                                               None  Bacteria   \n",
       "1119                                               None  Bacteria   \n",
       "1120                                               None  Bacteria   \n",
       "1121                                               None  Bacteria   \n",
       "1122                                               None  Bacteria   \n",
       "1123                                               None  Bacteria   \n",
       "1124                                               None  Bacteria   \n",
       "1125                                               None  Bacteria   \n",
       "1126                                               None  Bacteria   \n",
       "1127                                               None  Bacteria   \n",
       "1128                                               None  Bacteria   \n",
       "1129                                               None  Bacteria   \n",
       "1130                                               None  Bacteria   \n",
       "1131                                               None  Bacteria   \n",
       "1132                                               None  Bacteria   \n",
       "1133                                               None  Bacteria   \n",
       "1134                                               None  Bacteria   \n",
       "1135                                               None  Bacteria   \n",
       "1136                                               None  Bacteria   \n",
       "1137                                               None  Bacteria   \n",
       "1138                                               None  Bacteria   \n",
       "1139                                               None  Bacteria   \n",
       "1140                                               None  Bacteria   \n",
       "1141                                               None  Bacteria   \n",
       "1142                                               None  Bacteria   \n",
       "1143                                               None  Bacteria   \n",
       "1144                                               None  Bacteria   \n",
       "1145                                               None  Bacteria   \n",
       "\n",
       "              Phylum                Class                           Family  \\\n",
       "0     Proteobacteria  Gammaproteobacteria                  Pseudomonadales   \n",
       "1     Proteobacteria  Gammaproteobacteria                  Pseudomonadales   \n",
       "2     Proteobacteria  Gammaproteobacteria                  Pseudomonadales   \n",
       "3     Proteobacteria  Gammaproteobacteria                  Pseudomonadales   \n",
       "4     Proteobacteria  Gammaproteobacteria                  Alteromonadales   \n",
       "5     Proteobacteria  Gammaproteobacteria                  Pseudomonadales   \n",
       "6     Proteobacteria  Gammaproteobacteria                  Pseudomonadales   \n",
       "7         Firmicutes              Bacilli                       Bacillales   \n",
       "8     Proteobacteria   Betaproteobacteria  Betaproteobacteria-unclassified   \n",
       "9     Proteobacteria   Betaproteobacteria  Betaproteobacteria-unclassified   \n",
       "10    Proteobacteria  Alphaproteobacteria                      Rhizobiales   \n",
       "11    Proteobacteria  Alphaproteobacteria                 Sphingomonadales   \n",
       "12    Proteobacteria  Alphaproteobacteria                 Sphingomonadales   \n",
       "13    Proteobacteria  Alphaproteobacteria                  Rhodobacterales   \n",
       "14    Proteobacteria  Alphaproteobacteria                  Rhodobacterales   \n",
       "15    Actinobacteria       Actinobacteria                  Actinomycetales   \n",
       "16    Proteobacteria  Gammaproteobacteria                  Pseudomonadales   \n",
       "17    Proteobacteria  Gammaproteobacteria                  Pseudomonadales   \n",
       "18    Proteobacteria  Gammaproteobacteria                  Pseudomonadales   \n",
       "19    Proteobacteria  Gammaproteobacteria                  Pseudomonadales   \n",
       "20    Proteobacteria  Gammaproteobacteria                  Pseudomonadales   \n",
       "21        Firmicutes              Bacilli                       Bacillales   \n",
       "22        Firmicutes              Bacilli                       Bacillales   \n",
       "23    Proteobacteria  Gammaproteobacteria                  Pseudomonadales   \n",
       "24    Proteobacteria  Gammaproteobacteria                  Pseudomonadales   \n",
       "25    Proteobacteria  Gammaproteobacteria                  Pseudomonadales   \n",
       "26    Proteobacteria  Alphaproteobacteria                 Sphingomonadales   \n",
       "27    Proteobacteria  Alphaproteobacteria                 Sphingomonadales   \n",
       "28    Proteobacteria  Alphaproteobacteria                 Sphingomonadales   \n",
       "29    Proteobacteria  Alphaproteobacteria                 Sphingomonadales   \n",
       "...              ...                  ...                              ...   \n",
       "1116      Firmicutes              Bacilli                       Bacillales   \n",
       "1117  Proteobacteria  Alphaproteobacteria                      Rhizobiales   \n",
       "1118  Proteobacteria  Alphaproteobacteria                      Rhizobiales   \n",
       "1119  Proteobacteria  Alphaproteobacteria                      Rhizobiales   \n",
       "1120  Proteobacteria  Alphaproteobacteria                      Rhizobiales   \n",
       "1121  Proteobacteria  Alphaproteobacteria                      Rhizobiales   \n",
       "1122  Proteobacteria  Alphaproteobacteria                      Rhizobiales   \n",
       "1123  Proteobacteria  Alphaproteobacteria                      Rhizobiales   \n",
       "1124  Proteobacteria  Alphaproteobacteria                      Rhizobiales   \n",
       "1125  Proteobacteria  Alphaproteobacteria                      Rhizobiales   \n",
       "1126  Proteobacteria  Alphaproteobacteria                      Rhizobiales   \n",
       "1127  Proteobacteria  Alphaproteobacteria                      Rhizobiales   \n",
       "1128  Proteobacteria  Alphaproteobacteria                      Rhizobiales   \n",
       "1129  Proteobacteria  Alphaproteobacteria                      Rhizobiales   \n",
       "1130  Proteobacteria  Alphaproteobacteria                      Rhizobiales   \n",
       "1131  Proteobacteria  Alphaproteobacteria                      Rhizobiales   \n",
       "1132  Proteobacteria  Alphaproteobacteria                      Rhizobiales   \n",
       "1133  Proteobacteria  Alphaproteobacteria                      Rhizobiales   \n",
       "1134  Proteobacteria  Alphaproteobacteria                      Rhizobiales   \n",
       "1135  Proteobacteria  Alphaproteobacteria                      Rhizobiales   \n",
       "1136  Proteobacteria  Alphaproteobacteria                      Rhizobiales   \n",
       "1137  Proteobacteria  Alphaproteobacteria                      Rhizobiales   \n",
       "1138  Proteobacteria  Alphaproteobacteria                      Rhizobiales   \n",
       "1139  Proteobacteria  Alphaproteobacteria                      Rhizobiales   \n",
       "1140  Proteobacteria  Alphaproteobacteria                      Rhizobiales   \n",
       "1141  Proteobacteria  Alphaproteobacteria                      Rhizobiales   \n",
       "1142  Proteobacteria  Alphaproteobacteria                  Rhodobacterales   \n",
       "1143  Proteobacteria  Alphaproteobacteria                  Rhodobacterales   \n",
       "1144  Proteobacteria  Alphaproteobacteria                  Rhodobacterales   \n",
       "1145  Proteobacteria  Gammaproteobacteria                  Xanthomonadales   \n",
       "\n",
       "                          Order                      Genus            Species  \n",
       "0                 Moraxellaceae              Acinetobacter          baumannii  \n",
       "1                 Moraxellaceae              Acinetobacter          baumannii  \n",
       "2                 Moraxellaceae              Acinetobacter          baumannii  \n",
       "3                 Moraxellaceae              Acinetobacter          baumannii  \n",
       "4              Alteromonadaceae                Alteromonas                sp.  \n",
       "5                 Moraxellaceae              Acinetobacter          baumannii  \n",
       "6              Pseudomonadaceae                Pseudomonas        fluorescens  \n",
       "7              Paenibacillaceae           Saccharibacillus           sacchari  \n",
       "8     Candidatus Accumulibacter  Candidatus Accumulibacter     Accumulibacter  \n",
       "9     Candidatus Accumulibacter  Candidatus Accumulibacter     Accumulibacter  \n",
       "10                 Brucellaceae               Ochrobactrum           anthropi  \n",
       "11            Sphingomonadaceae                Sphingobium                sp.  \n",
       "12            Sphingomonadaceae                Sphingobium                sp.  \n",
       "13             Rhodobacteraceae                 Loktanella      hongkongensis  \n",
       "14             Rhodobacteraceae                 Loktanella      hongkongensis  \n",
       "15            Cellulomonadaceae                Actinotalea          ferrariae  \n",
       "16             Pseudomonadaceae                Pseudomonas    extremaustralis  \n",
       "17             Pseudomonadaceae                Pseudomonas           stutzeri  \n",
       "18             Pseudomonadaceae                Pseudomonas           mandelii  \n",
       "19             Pseudomonadaceae                Pseudomonas           mandelii  \n",
       "20             Pseudomonadaceae                Pseudomonas        knackmussii  \n",
       "21                  Bacillaceae               Halobacillus         karajensis  \n",
       "22                  Bacillaceae              Virgibacillus                sp.  \n",
       "23             Pseudomonadaceae                Pseudomonas  pseudoalcaligenes  \n",
       "24             Pseudomonadaceae                Pseudomonas  pseudoalcaligenes  \n",
       "25             Pseudomonadaceae                Pseudomonas                sp.  \n",
       "26            Sphingomonadaceae               Sphingomonas                sp.  \n",
       "27            Sphingomonadaceae               Sphingomonas                sp.  \n",
       "28            Sphingomonadaceae               Sphingomonas                sp.  \n",
       "29            Sphingomonadaceae               Sphingomonas                sp.  \n",
       "...                         ...                        ...                ...  \n",
       "1116                Bacillaceae                   Bacillus                sp.  \n",
       "1117         Phyllobacteriaceae              Mesorhizobium                sp.  \n",
       "1118         Phyllobacteriaceae              Mesorhizobium                sp.  \n",
       "1119         Phyllobacteriaceae              Mesorhizobium      sp-LSJC269B00  \n",
       "1120         Phyllobacteriaceae              Mesorhizobium      sp-LSJC265A00  \n",
       "1121         Phyllobacteriaceae              Mesorhizobium      sp-LSHC426A00  \n",
       "1122         Phyllobacteriaceae              Mesorhizobium      sp-LSHC422A00  \n",
       "1123         Phyllobacteriaceae              Mesorhizobium      sp-LSHC412B00  \n",
       "1124         Phyllobacteriaceae              Mesorhizobium      sp-LNJC405B00  \n",
       "1125         Phyllobacteriaceae              Mesorhizobium      sp-LNJC399B00  \n",
       "1126         Phyllobacteriaceae              Mesorhizobium                sp.  \n",
       "1127         Phyllobacteriaceae              Mesorhizobium      sp-LNJC386A00  \n",
       "1128         Phyllobacteriaceae              Mesorhizobium      sp-LNJC372A00  \n",
       "1129         Phyllobacteriaceae              Mesorhizobium                sp.  \n",
       "1130         Phyllobacteriaceae              Mesorhizobium                sp.  \n",
       "1131         Phyllobacteriaceae              Mesorhizobium                sp.  \n",
       "1132         Phyllobacteriaceae              Mesorhizobium                sp.  \n",
       "1133         Phyllobacteriaceae              Mesorhizobium                sp.  \n",
       "1134         Phyllobacteriaceae              Mesorhizobium      sp-L2C085B000  \n",
       "1135         Phyllobacteriaceae              Mesorhizobium                sp.  \n",
       "1136         Phyllobacteriaceae              Mesorhizobium      sp-L103C119B0  \n",
       "1137         Phyllobacteriaceae              Mesorhizobium      sp-L2C054A000  \n",
       "1138         Phyllobacteriaceae              Mesorhizobium                sp.  \n",
       "1139         Phyllobacteriaceae              Mesorhizobium      sp-L103C131B0  \n",
       "1140         Phyllobacteriaceae              Mesorhizobium      sp-L103C119B0  \n",
       "1141         Phyllobacteriaceae              Mesorhizobium      sp-L103C105A0  \n",
       "1142           Rhodobacteraceae                 Roseivivax         halodurans  \n",
       "1143           Rhodobacteraceae                 Roseivivax         halodurans  \n",
       "1144           Rhodobacteraceae                 Roseivivax           isoporae  \n",
       "1145           Xanthomonadaceae                Xanthomonas         axonopodis  \n",
       "\n",
       "[1146 rows x 20 columns]"
      ]
     },
     "execution_count": 17,
     "metadata": {},
     "output_type": "execute_result"
    }
   ],
   "source": [
    "table_=pd.read_excel('Data/Bacteria_LOV.xls', 0)\n",
    "table_"
   ]
  },
  {
   "cell_type": "code",
   "execution_count": 18,
   "metadata": {},
   "outputs": [],
   "source": [
    "writer = pd.ExcelWriter('Data/Bacteria_LOV.xls')\n",
    "table_.to_excel(writer,'Sheet1')\n",
    "table.to_excel(writer,'Sheet2')\n",
    "writer.save()"
   ]
  },
  {
   "cell_type": "code",
   "execution_count": null,
   "metadata": {},
   "outputs": [],
   "source": []
  }
 ],
 "metadata": {
  "kernelspec": {
   "display_name": "Python 3",
   "language": "python",
   "name": "python3"
  },
  "language_info": {
   "codemirror_mode": {
    "name": "ipython",
    "version": 3
   },
   "file_extension": ".py",
   "mimetype": "text/x-python",
   "name": "python",
   "nbconvert_exporter": "python",
   "pygments_lexer": "ipython3",
   "version": "3.6.5"
  }
 },
 "nbformat": 4,
 "nbformat_minor": 2
}
